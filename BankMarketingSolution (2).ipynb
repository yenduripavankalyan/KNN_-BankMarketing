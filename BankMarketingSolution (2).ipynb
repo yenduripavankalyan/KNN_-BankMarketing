{
  "nbformat": 4,
  "nbformat_minor": 0,
  "metadata": {
    "colab": {
      "name": "BankMarketingSolution.ipynb",
      "provenance": [],
      "collapsed_sections": [],
      "toc_visible": true
    },
    "kernelspec": {
      "name": "python3",
      "display_name": "Python 3"
    }
  },
  "cells": [
    {
      "cell_type": "markdown",
      "metadata": {
        "id": "jKV_mSzM8QDl",
        "colab_type": "text"
      },
      "source": [
        "#Bank Marketing Data Set\n",
        "##Data Set Information\n",
        "The data is related with direct marketing campaigns of a Portuguese banking institution. The marketing campaigns were based on phone calls. Often, more than one contact to the same client was required, in order to access if the product (bank term deposit) would be ('yes') or not ('no') subscribed.\n",
        "\n",
        "Attribute Information:\n",
        "\n",
        "Number of instances:45211\n",
        "\n",
        "Data Set Characteristics:Multivariate\n",
        "Input variables:\n",
        "# bank client data:\n",
        "1 - age (numeric)\n",
        "\n",
        "2 - job : type of job (categorical: 'admin.','blue-collar','entrepreneur','housemaid','management','retired','self-employed','services','student','technician','unemployed','unknown')\n",
        "\n",
        "3 - marital : marital status (categorical: 'divorced','married','single','unknown'; note: 'divorced' means divorced or widowed)\n",
        "\n",
        "4 - education (categorical: 'basic.4y','basic.6y','basic.9y','high.school','illiterate','professional.course','university.degree','unknown')\n",
        "\n",
        "5 - default: has credit in default? (categorical: 'no','yes','unknown')\n",
        "\n",
        "6-balance:balance(numeric)\n",
        "\n",
        "7- housing: has housing loan? (categorical: 'no','yes','unknown')\n",
        "\n",
        "8 - loan: has personal loan? (categorical: 'no','yes','unknown')\n",
        "\n",
        "# Related with the last contact of the current campaign:\n",
        "\n",
        "9 - contact: contact communication type (categorical: 'cellular','telephone')\n",
        "\n",
        "10 - day: last contact day(numeric)\n",
        "\n",
        "11 - month: last contact month of year (categorical: 'jan', 'feb', 'mar', ..., 'nov', 'dec')\n",
        "\n",
        "12 - duration: last contact duration, in seconds (numeric). Important note: this attribute highly affects the output target (e.g., if duration=0 then y='no'). Yet, the duration is not known before a call is performed. Also, after the end of the call y is obviously known. Thus, this input should only be included for benchmark purposes and should be discarded if the intention is to have a realistic predictive model.\n",
        "\n",
        "# Other attributes:\n",
        "\n",
        "13 - campaign: number of contacts performed during this campaign and for this client (numeric, includes last contact)\n",
        "\n",
        "14 - pdays: number of days that passed by after the client was last contacted from a previous campaign (numeric; 999 means client was not previously contacted)\n",
        "\n",
        "15 - previous: number of contacts performed before this campaign and for this client (numeric)\n",
        "\n",
        "16 - poutcome: outcome of the previous marketing campaign (categorical: 'failure','nonexistent','success')\n",
        "\n",
        "#Output variable (desired target):\n",
        "\n",
        "17 - y - has the client subscribed a term deposit? (binary: 'yes','no')\n",
        "\n",
        "\n"
      ]
    },
    {
      "cell_type": "markdown",
      "metadata": {
        "id": "KttqA23eaucM",
        "colab_type": "text"
      },
      "source": [
        "#Importing all required libraries"
      ]
    },
    {
      "cell_type": "code",
      "metadata": {
        "id": "AJ2kJUhhVBI7",
        "colab_type": "code",
        "colab": {}
      },
      "source": [
        "import numpy as np\n",
        "import pandas as pd\n",
        "import matplotlib.pyplot as plt\n",
        "from sklearn.model_selection import train_test_split\n",
        "%matplotlib inline"
      ],
      "execution_count": 0,
      "outputs": []
    },
    {
      "cell_type": "markdown",
      "metadata": {
        "id": "F6dHx5_partd",
        "colab_type": "text"
      },
      "source": [
        "# Loading the Data"
      ]
    },
    {
      "cell_type": "code",
      "metadata": {
        "id": "eyaYmcJiWweN",
        "colab_type": "code",
        "colab": {}
      },
      "source": [
        "data = pd.read_csv(\"/content/drive/My Drive/bankcap2.csv\")"
      ],
      "execution_count": 0,
      "outputs": []
    },
    {
      "cell_type": "markdown",
      "metadata": {
        "id": "KgwtFh2capHZ",
        "colab_type": "text"
      },
      "source": [
        "# View the first 5 rows in the dataset"
      ]
    },
    {
      "cell_type": "code",
      "metadata": {
        "id": "b2K1fOaeXbyf",
        "colab_type": "code",
        "outputId": "37a15bc1-0b87-4f51-8dff-62e41d211088",
        "colab": {
          "base_uri": "https://localhost:8080/",
          "height": 195
        }
      },
      "source": [
        "data.head()"
      ],
      "execution_count": 94,
      "outputs": [
        {
          "output_type": "execute_result",
          "data": {
            "text/html": [
              "<div>\n",
              "<style scoped>\n",
              "    .dataframe tbody tr th:only-of-type {\n",
              "        vertical-align: middle;\n",
              "    }\n",
              "\n",
              "    .dataframe tbody tr th {\n",
              "        vertical-align: top;\n",
              "    }\n",
              "\n",
              "    .dataframe thead th {\n",
              "        text-align: right;\n",
              "    }\n",
              "</style>\n",
              "<table border=\"1\" class=\"dataframe\">\n",
              "  <thead>\n",
              "    <tr style=\"text-align: right;\">\n",
              "      <th></th>\n",
              "      <th>age</th>\n",
              "      <th>job</th>\n",
              "      <th>marital</th>\n",
              "      <th>education</th>\n",
              "      <th>default</th>\n",
              "      <th>balance</th>\n",
              "      <th>housing</th>\n",
              "      <th>loan</th>\n",
              "      <th>contact</th>\n",
              "      <th>day</th>\n",
              "      <th>month</th>\n",
              "      <th>duration</th>\n",
              "      <th>campaign</th>\n",
              "      <th>pdays</th>\n",
              "      <th>previous</th>\n",
              "      <th>poutcome</th>\n",
              "      <th>y</th>\n",
              "    </tr>\n",
              "  </thead>\n",
              "  <tbody>\n",
              "    <tr>\n",
              "      <th>0</th>\n",
              "      <td>30</td>\n",
              "      <td>unemployed</td>\n",
              "      <td>married</td>\n",
              "      <td>primary</td>\n",
              "      <td>no</td>\n",
              "      <td>1787</td>\n",
              "      <td>no</td>\n",
              "      <td>no</td>\n",
              "      <td>cellular</td>\n",
              "      <td>19</td>\n",
              "      <td>oct</td>\n",
              "      <td>79</td>\n",
              "      <td>1</td>\n",
              "      <td>-1</td>\n",
              "      <td>0</td>\n",
              "      <td>unknown</td>\n",
              "      <td>no</td>\n",
              "    </tr>\n",
              "    <tr>\n",
              "      <th>1</th>\n",
              "      <td>33</td>\n",
              "      <td>services</td>\n",
              "      <td>married</td>\n",
              "      <td>secondary</td>\n",
              "      <td>no</td>\n",
              "      <td>4789</td>\n",
              "      <td>yes</td>\n",
              "      <td>yes</td>\n",
              "      <td>cellular</td>\n",
              "      <td>11</td>\n",
              "      <td>may</td>\n",
              "      <td>220</td>\n",
              "      <td>1</td>\n",
              "      <td>339</td>\n",
              "      <td>4</td>\n",
              "      <td>failure</td>\n",
              "      <td>no</td>\n",
              "    </tr>\n",
              "    <tr>\n",
              "      <th>2</th>\n",
              "      <td>35</td>\n",
              "      <td>management</td>\n",
              "      <td>single</td>\n",
              "      <td>tertiary</td>\n",
              "      <td>no</td>\n",
              "      <td>1350</td>\n",
              "      <td>yes</td>\n",
              "      <td>no</td>\n",
              "      <td>cellular</td>\n",
              "      <td>16</td>\n",
              "      <td>apr</td>\n",
              "      <td>185</td>\n",
              "      <td>1</td>\n",
              "      <td>330</td>\n",
              "      <td>1</td>\n",
              "      <td>failure</td>\n",
              "      <td>no</td>\n",
              "    </tr>\n",
              "    <tr>\n",
              "      <th>3</th>\n",
              "      <td>30</td>\n",
              "      <td>management</td>\n",
              "      <td>married</td>\n",
              "      <td>tertiary</td>\n",
              "      <td>no</td>\n",
              "      <td>1476</td>\n",
              "      <td>yes</td>\n",
              "      <td>yes</td>\n",
              "      <td>unknown</td>\n",
              "      <td>3</td>\n",
              "      <td>jun</td>\n",
              "      <td>199</td>\n",
              "      <td>4</td>\n",
              "      <td>-1</td>\n",
              "      <td>0</td>\n",
              "      <td>unknown</td>\n",
              "      <td>no</td>\n",
              "    </tr>\n",
              "    <tr>\n",
              "      <th>4</th>\n",
              "      <td>59</td>\n",
              "      <td>blue-collar</td>\n",
              "      <td>married</td>\n",
              "      <td>secondary</td>\n",
              "      <td>no</td>\n",
              "      <td>0</td>\n",
              "      <td>yes</td>\n",
              "      <td>no</td>\n",
              "      <td>unknown</td>\n",
              "      <td>5</td>\n",
              "      <td>may</td>\n",
              "      <td>226</td>\n",
              "      <td>1</td>\n",
              "      <td>-1</td>\n",
              "      <td>0</td>\n",
              "      <td>unknown</td>\n",
              "      <td>no</td>\n",
              "    </tr>\n",
              "  </tbody>\n",
              "</table>\n",
              "</div>"
            ],
            "text/plain": [
              "   age          job  marital  education  ... pdays  previous poutcome   y\n",
              "0   30   unemployed  married    primary  ...    -1         0  unknown  no\n",
              "1   33     services  married  secondary  ...   339         4  failure  no\n",
              "2   35   management   single   tertiary  ...   330         1  failure  no\n",
              "3   30   management  married   tertiary  ...    -1         0  unknown  no\n",
              "4   59  blue-collar  married  secondary  ...    -1         0  unknown  no\n",
              "\n",
              "[5 rows x 17 columns]"
            ]
          },
          "metadata": {
            "tags": []
          },
          "execution_count": 94
        }
      ]
    },
    {
      "cell_type": "code",
      "metadata": {
        "id": "TU91nM0NRPJu",
        "colab_type": "code",
        "colab": {
          "base_uri": "https://localhost:8080/",
          "height": 319
        },
        "outputId": "d965d6c9-862f-4f10-827b-f0017721663c"
      },
      "source": [
        "data.count()"
      ],
      "execution_count": 95,
      "outputs": [
        {
          "output_type": "execute_result",
          "data": {
            "text/plain": [
              "age          4521\n",
              "job          4521\n",
              "marital      4521\n",
              "education    4521\n",
              "default      4521\n",
              "balance      4521\n",
              "housing      4521\n",
              "loan         4521\n",
              "contact      4521\n",
              "day          4521\n",
              "month        4521\n",
              "duration     4521\n",
              "campaign     4521\n",
              "pdays        4521\n",
              "previous     4521\n",
              "poutcome     4521\n",
              "y            4521\n",
              "dtype: int64"
            ]
          },
          "metadata": {
            "tags": []
          },
          "execution_count": 95
        }
      ]
    },
    {
      "cell_type": "markdown",
      "metadata": {
        "id": "rKHT5yH-Ys54",
        "colab_type": "text"
      },
      "source": [
        "#Data Preprocessing"
      ]
    },
    {
      "cell_type": "code",
      "metadata": {
        "id": "xHU69ezXYzZH",
        "colab_type": "code",
        "outputId": "4dea628a-8748-4cb6-c3ab-bea55c763cc5",
        "colab": {
          "base_uri": "https://localhost:8080/",
          "height": 516
        }
      },
      "source": [
        "import missingno as msno\n",
        "msno.matrix(data)"
      ],
      "execution_count": 96,
      "outputs": [
        {
          "output_type": "execute_result",
          "data": {
            "text/plain": [
              "<matplotlib.axes._subplots.AxesSubplot at 0x7f29012c3630>"
            ]
          },
          "metadata": {
            "tags": []
          },
          "execution_count": 96
        },
        {
          "output_type": "display_data",
          "data": {
            "image/png": "[encoded data removed]",
            "text/plain": [
              "<Figure size 1800x720 with 2 Axes>"
            ]
          },
          "metadata": {
            "tags": [],
            "needs_background": "light"
          }
        }
      ]
    },
    {
      "cell_type": "markdown",
      "metadata": {
        "id": "40zayutUaNva",
        "colab_type": "text"
      },
      "source": [
        "#NO MISSING VALUES IN THE DATA\n",
        "\n",
        "\n"
      ]
    },
    {
      "cell_type": "markdown",
      "metadata": {
        "id": "L3A7xEY2ah8Y",
        "colab_type": "text"
      },
      "source": [
        "Nevertheless, there are values like “unknown”, “others”, which are helpless just like missing values. Thus, these ambiguous values are removed from the dataset."
      ]
    },
    {
      "cell_type": "markdown",
      "metadata": {
        "id": "k7AVzYh8epU_",
        "colab_type": "text"
      },
      "source": [
        "Delete the rows which column 'poutcome' contains 'other'"
      ]
    },
    {
      "cell_type": "code",
      "metadata": {
        "id": "lAN_u9MHbAfs",
        "colab_type": "code",
        "colab": {}
      },
      "source": [
        "condition = data.poutcome == 'other'\n",
        "data2 = data.drop(data[condition].index, axis = 0, inplace = False)"
      ],
      "execution_count": 0,
      "outputs": []
    },
    {
      "cell_type": "code",
      "metadata": {
        "id": "FyB1SkYDb8oW",
        "colab_type": "code",
        "outputId": "242deb46-b44b-4928-b32b-284b671a25f8",
        "colab": {
          "base_uri": "https://localhost:8080/",
          "height": 218
        }
      },
      "source": [
        "print(data2['poutcome'])"
      ],
      "execution_count": 98,
      "outputs": [
        {
          "output_type": "stream",
          "text": [
            "0       unknown\n",
            "1       failure\n",
            "2       failure\n",
            "3       unknown\n",
            "4       unknown\n",
            "         ...   \n",
            "4514    failure\n",
            "4515    unknown\n",
            "4516    unknown\n",
            "4517    unknown\n",
            "4518    unknown\n",
            "Name: poutcome, Length: 4324, dtype: object\n"
          ],
          "name": "stdout"
        }
      ]
    },
    {
      "cell_type": "code",
      "metadata": {
        "id": "t3hTlhPFcPFh",
        "colab_type": "code",
        "outputId": "d71a081f-6197-41d5-e0a7-4d666129b989",
        "colab": {
          "base_uri": "https://localhost:8080/",
          "height": 319
        }
      },
      "source": [
        "data2.count()"
      ],
      "execution_count": 99,
      "outputs": [
        {
          "output_type": "execute_result",
          "data": {
            "text/plain": [
              "age          4324\n",
              "job          4324\n",
              "marital      4324\n",
              "education    4324\n",
              "default      4324\n",
              "balance      4324\n",
              "housing      4324\n",
              "loan         4324\n",
              "contact      4324\n",
              "day          4324\n",
              "month        4324\n",
              "duration     4324\n",
              "campaign     4324\n",
              "pdays        4324\n",
              "previous     4324\n",
              "poutcome     4324\n",
              "y            4324\n",
              "dtype: int64"
            ]
          },
          "metadata": {
            "tags": []
          },
          "execution_count": 99
        }
      ]
    },
    {
      "cell_type": "code",
      "metadata": {
        "id": "YUfL8Oqecmzu",
        "colab_type": "code",
        "outputId": "55a639d0-4c90-4abc-9f3b-11f2fb1ced27",
        "colab": {
          "base_uri": "https://localhost:8080/",
          "height": 235
        }
      },
      "source": [
        "data2['job'].value_counts()\n"
      ],
      "execution_count": 100,
      "outputs": [
        {
          "output_type": "execute_result",
          "data": {
            "text/plain": [
              "management       920\n",
              "blue-collar      909\n",
              "technician       738\n",
              "admin.           452\n",
              "services         401\n",
              "retired          225\n",
              "self-employed    174\n",
              "entrepreneur     161\n",
              "unemployed       123\n",
              "housemaid        108\n",
              "student           76\n",
              "unknown           37\n",
              "Name: job, dtype: int64"
            ]
          },
          "metadata": {
            "tags": []
          },
          "execution_count": 100
        }
      ]
    },
    {
      "cell_type": "code",
      "metadata": {
        "id": "w_Eh2d-OeIZc",
        "colab_type": "code",
        "outputId": "1d4df383-d34e-4301-89c8-736470c87160",
        "colab": {
          "base_uri": "https://localhost:8080/",
          "height": 101
        }
      },
      "source": [
        "data2['education'].value_counts()"
      ],
      "execution_count": 101,
      "outputs": [
        {
          "output_type": "execute_result",
          "data": {
            "text/plain": [
              "secondary    2204\n",
              "tertiary     1285\n",
              "primary       656\n",
              "unknown       179\n",
              "Name: education, dtype: int64"
            ]
          },
          "metadata": {
            "tags": []
          },
          "execution_count": 101
        }
      ]
    },
    {
      "cell_type": "markdown",
      "metadata": {
        "id": "h4EGTfvLejaG",
        "colab_type": "text"
      },
      "source": [
        "Replace 'unknown' in job and education with 'other'"
      ]
    },
    {
      "cell_type": "code",
      "metadata": {
        "id": "75vvXAMCeVsr",
        "colab_type": "code",
        "colab": {}
      },
      "source": [
        "data2[['job','education']] = data2[['job','education']].replace(['unknown'],'other')"
      ],
      "execution_count": 0,
      "outputs": []
    },
    {
      "cell_type": "markdown",
      "metadata": {
        "id": "eACRFTdNjXjo",
        "colab_type": "text"
      },
      "source": [
        "\n",
        "# Drop outliers in the column 'balance"
      ]
    },
    {
      "cell_type": "markdown",
      "metadata": {
        "id": "Yrzd9mETjlUH",
        "colab_type": "text"
      },
      "source": [
        "In order to capture the general trend in the dataset, outliers in the column “balance” are dropped. Outliers are defined as the values which are more than three standard deviations away from the mean."
      ]
    },
    {
      "cell_type": "code",
      "metadata": {
        "id": "0nIjvvrwjBbd",
        "colab_type": "code",
        "colab": {}
      },
      "source": [
        "from scipy.stats import zscore\n",
        "\n",
        "data2[['balance']].mean()\n",
        "data2[['balance']].mean()\n",
        "\n",
        "data2['balance_outliers'] = data2['balance']\n",
        "data2['balance_outliers']= zscore(data2['balance_outliers'])\n",
        "\n",
        "condition1 = (data2['balance_outliers']>3) | (data2['balance_outliers']<-3 )\n",
        "data3 = data2.drop(data2[condition1].index, axis = 0, inplace = False)"
      ],
      "execution_count": 0,
      "outputs": []
    },
    {
      "cell_type": "code",
      "metadata": {
        "id": "eMkQcHF6ktOC",
        "colab_type": "code",
        "colab": {}
      },
      "source": [
        "data4 = data3.drop('balance_outliers', axis=1)"
      ],
      "execution_count": 0,
      "outputs": []
    },
    {
      "cell_type": "code",
      "metadata": {
        "id": "9zqvt6BClOIS",
        "colab_type": "code",
        "outputId": "7d18989e-6350-4ad3-acfd-f87544320ee6",
        "colab": {
          "base_uri": "https://localhost:8080/",
          "height": 319
        }
      },
      "source": [
        "data4.count()"
      ],
      "execution_count": 105,
      "outputs": [
        {
          "output_type": "execute_result",
          "data": {
            "text/plain": [
              "age          4239\n",
              "job          4239\n",
              "marital      4239\n",
              "education    4239\n",
              "default      4239\n",
              "balance      4239\n",
              "housing      4239\n",
              "loan         4239\n",
              "contact      4239\n",
              "day          4239\n",
              "month        4239\n",
              "duration     4239\n",
              "campaign     4239\n",
              "pdays        4239\n",
              "previous     4239\n",
              "poutcome     4239\n",
              "y            4239\n",
              "dtype: int64"
            ]
          },
          "metadata": {
            "tags": []
          },
          "execution_count": 105
        }
      ]
    },
    {
      "cell_type": "markdown",
      "metadata": {
        "id": "4aUQq0KHmKY_",
        "colab_type": "text"
      },
      "source": [
        "#Creating and transforming data\n"
      ]
    },
    {
      "cell_type": "markdown",
      "metadata": {
        "id": "i2oEnWjumYY4",
        "colab_type": "text"
      },
      "source": [
        "Some changes were made to the column name, units and data types for easier analysis."
      ]
    },
    {
      "cell_type": "code",
      "metadata": {
        "id": "wMIIUV2smfPG",
        "colab_type": "code",
        "colab": {}
      },
      "source": [
        "#Step 1: Change column name: 'y' to 'response'\n",
        "data4.rename(index=str, columns={'y': 'response'}, inplace = True)"
      ],
      "execution_count": 0,
      "outputs": []
    },
    {
      "cell_type": "code",
      "metadata": {
        "id": "zxKaRre5motM",
        "colab_type": "code",
        "outputId": "00d9abe9-f1e5-4c87-9d0b-161b324a143b",
        "colab": {
          "base_uri": "https://localhost:8080/",
          "height": 438
        }
      },
      "source": [
        "data4"
      ],
      "execution_count": 107,
      "outputs": [
        {
          "output_type": "execute_result",
          "data": {
            "text/html": [
              "<div>\n",
              "<style scoped>\n",
              "    .dataframe tbody tr th:only-of-type {\n",
              "        vertical-align: middle;\n",
              "    }\n",
              "\n",
              "    .dataframe tbody tr th {\n",
              "        vertical-align: top;\n",
              "    }\n",
              "\n",
              "    .dataframe thead th {\n",
              "        text-align: right;\n",
              "    }\n",
              "</style>\n",
              "<table border=\"1\" class=\"dataframe\">\n",
              "  <thead>\n",
              "    <tr style=\"text-align: right;\">\n",
              "      <th></th>\n",
              "      <th>age</th>\n",
              "      <th>job</th>\n",
              "      <th>marital</th>\n",
              "      <th>education</th>\n",
              "      <th>default</th>\n",
              "      <th>balance</th>\n",
              "      <th>housing</th>\n",
              "      <th>loan</th>\n",
              "      <th>contact</th>\n",
              "      <th>day</th>\n",
              "      <th>month</th>\n",
              "      <th>duration</th>\n",
              "      <th>campaign</th>\n",
              "      <th>pdays</th>\n",
              "      <th>previous</th>\n",
              "      <th>poutcome</th>\n",
              "      <th>response</th>\n",
              "    </tr>\n",
              "  </thead>\n",
              "  <tbody>\n",
              "    <tr>\n",
              "      <th>0</th>\n",
              "      <td>30</td>\n",
              "      <td>unemployed</td>\n",
              "      <td>married</td>\n",
              "      <td>primary</td>\n",
              "      <td>no</td>\n",
              "      <td>1787</td>\n",
              "      <td>no</td>\n",
              "      <td>no</td>\n",
              "      <td>cellular</td>\n",
              "      <td>19</td>\n",
              "      <td>oct</td>\n",
              "      <td>79</td>\n",
              "      <td>1</td>\n",
              "      <td>-1</td>\n",
              "      <td>0</td>\n",
              "      <td>unknown</td>\n",
              "      <td>no</td>\n",
              "    </tr>\n",
              "    <tr>\n",
              "      <th>1</th>\n",
              "      <td>33</td>\n",
              "      <td>services</td>\n",
              "      <td>married</td>\n",
              "      <td>secondary</td>\n",
              "      <td>no</td>\n",
              "      <td>4789</td>\n",
              "      <td>yes</td>\n",
              "      <td>yes</td>\n",
              "      <td>cellular</td>\n",
              "      <td>11</td>\n",
              "      <td>may</td>\n",
              "      <td>220</td>\n",
              "      <td>1</td>\n",
              "      <td>339</td>\n",
              "      <td>4</td>\n",
              "      <td>failure</td>\n",
              "      <td>no</td>\n",
              "    </tr>\n",
              "    <tr>\n",
              "      <th>2</th>\n",
              "      <td>35</td>\n",
              "      <td>management</td>\n",
              "      <td>single</td>\n",
              "      <td>tertiary</td>\n",
              "      <td>no</td>\n",
              "      <td>1350</td>\n",
              "      <td>yes</td>\n",
              "      <td>no</td>\n",
              "      <td>cellular</td>\n",
              "      <td>16</td>\n",
              "      <td>apr</td>\n",
              "      <td>185</td>\n",
              "      <td>1</td>\n",
              "      <td>330</td>\n",
              "      <td>1</td>\n",
              "      <td>failure</td>\n",
              "      <td>no</td>\n",
              "    </tr>\n",
              "    <tr>\n",
              "      <th>3</th>\n",
              "      <td>30</td>\n",
              "      <td>management</td>\n",
              "      <td>married</td>\n",
              "      <td>tertiary</td>\n",
              "      <td>no</td>\n",
              "      <td>1476</td>\n",
              "      <td>yes</td>\n",
              "      <td>yes</td>\n",
              "      <td>unknown</td>\n",
              "      <td>3</td>\n",
              "      <td>jun</td>\n",
              "      <td>199</td>\n",
              "      <td>4</td>\n",
              "      <td>-1</td>\n",
              "      <td>0</td>\n",
              "      <td>unknown</td>\n",
              "      <td>no</td>\n",
              "    </tr>\n",
              "    <tr>\n",
              "      <th>4</th>\n",
              "      <td>59</td>\n",
              "      <td>blue-collar</td>\n",
              "      <td>married</td>\n",
              "      <td>secondary</td>\n",
              "      <td>no</td>\n",
              "      <td>0</td>\n",
              "      <td>yes</td>\n",
              "      <td>no</td>\n",
              "      <td>unknown</td>\n",
              "      <td>5</td>\n",
              "      <td>may</td>\n",
              "      <td>226</td>\n",
              "      <td>1</td>\n",
              "      <td>-1</td>\n",
              "      <td>0</td>\n",
              "      <td>unknown</td>\n",
              "      <td>no</td>\n",
              "    </tr>\n",
              "    <tr>\n",
              "      <th>...</th>\n",
              "      <td>...</td>\n",
              "      <td>...</td>\n",
              "      <td>...</td>\n",
              "      <td>...</td>\n",
              "      <td>...</td>\n",
              "      <td>...</td>\n",
              "      <td>...</td>\n",
              "      <td>...</td>\n",
              "      <td>...</td>\n",
              "      <td>...</td>\n",
              "      <td>...</td>\n",
              "      <td>...</td>\n",
              "      <td>...</td>\n",
              "      <td>...</td>\n",
              "      <td>...</td>\n",
              "      <td>...</td>\n",
              "      <td>...</td>\n",
              "    </tr>\n",
              "    <tr>\n",
              "      <th>4514</th>\n",
              "      <td>38</td>\n",
              "      <td>blue-collar</td>\n",
              "      <td>married</td>\n",
              "      <td>secondary</td>\n",
              "      <td>no</td>\n",
              "      <td>1205</td>\n",
              "      <td>yes</td>\n",
              "      <td>no</td>\n",
              "      <td>cellular</td>\n",
              "      <td>20</td>\n",
              "      <td>apr</td>\n",
              "      <td>45</td>\n",
              "      <td>4</td>\n",
              "      <td>153</td>\n",
              "      <td>1</td>\n",
              "      <td>failure</td>\n",
              "      <td>no</td>\n",
              "    </tr>\n",
              "    <tr>\n",
              "      <th>4515</th>\n",
              "      <td>32</td>\n",
              "      <td>services</td>\n",
              "      <td>single</td>\n",
              "      <td>secondary</td>\n",
              "      <td>no</td>\n",
              "      <td>473</td>\n",
              "      <td>yes</td>\n",
              "      <td>no</td>\n",
              "      <td>cellular</td>\n",
              "      <td>7</td>\n",
              "      <td>jul</td>\n",
              "      <td>624</td>\n",
              "      <td>5</td>\n",
              "      <td>-1</td>\n",
              "      <td>0</td>\n",
              "      <td>unknown</td>\n",
              "      <td>no</td>\n",
              "    </tr>\n",
              "    <tr>\n",
              "      <th>4516</th>\n",
              "      <td>33</td>\n",
              "      <td>services</td>\n",
              "      <td>married</td>\n",
              "      <td>secondary</td>\n",
              "      <td>no</td>\n",
              "      <td>-333</td>\n",
              "      <td>yes</td>\n",
              "      <td>no</td>\n",
              "      <td>cellular</td>\n",
              "      <td>30</td>\n",
              "      <td>jul</td>\n",
              "      <td>329</td>\n",
              "      <td>5</td>\n",
              "      <td>-1</td>\n",
              "      <td>0</td>\n",
              "      <td>unknown</td>\n",
              "      <td>no</td>\n",
              "    </tr>\n",
              "    <tr>\n",
              "      <th>4517</th>\n",
              "      <td>57</td>\n",
              "      <td>self-employed</td>\n",
              "      <td>married</td>\n",
              "      <td>tertiary</td>\n",
              "      <td>yes</td>\n",
              "      <td>-3313</td>\n",
              "      <td>yes</td>\n",
              "      <td>yes</td>\n",
              "      <td>unknown</td>\n",
              "      <td>9</td>\n",
              "      <td>may</td>\n",
              "      <td>153</td>\n",
              "      <td>1</td>\n",
              "      <td>-1</td>\n",
              "      <td>0</td>\n",
              "      <td>unknown</td>\n",
              "      <td>no</td>\n",
              "    </tr>\n",
              "    <tr>\n",
              "      <th>4518</th>\n",
              "      <td>57</td>\n",
              "      <td>technician</td>\n",
              "      <td>married</td>\n",
              "      <td>secondary</td>\n",
              "      <td>no</td>\n",
              "      <td>295</td>\n",
              "      <td>no</td>\n",
              "      <td>no</td>\n",
              "      <td>cellular</td>\n",
              "      <td>19</td>\n",
              "      <td>aug</td>\n",
              "      <td>151</td>\n",
              "      <td>11</td>\n",
              "      <td>-1</td>\n",
              "      <td>0</td>\n",
              "      <td>unknown</td>\n",
              "      <td>no</td>\n",
              "    </tr>\n",
              "  </tbody>\n",
              "</table>\n",
              "<p>4239 rows × 17 columns</p>\n",
              "</div>"
            ],
            "text/plain": [
              "      age            job  marital  education  ... pdays  previous poutcome response\n",
              "0      30     unemployed  married    primary  ...    -1         0  unknown       no\n",
              "1      33       services  married  secondary  ...   339         4  failure       no\n",
              "2      35     management   single   tertiary  ...   330         1  failure       no\n",
              "3      30     management  married   tertiary  ...    -1         0  unknown       no\n",
              "4      59    blue-collar  married  secondary  ...    -1         0  unknown       no\n",
              "...   ...            ...      ...        ...  ...   ...       ...      ...      ...\n",
              "4514   38    blue-collar  married  secondary  ...   153         1  failure       no\n",
              "4515   32       services   single  secondary  ...    -1         0  unknown       no\n",
              "4516   33       services  married  secondary  ...    -1         0  unknown       no\n",
              "4517   57  self-employed  married   tertiary  ...    -1         0  unknown       no\n",
              "4518   57     technician  married  secondary  ...    -1         0  unknown       no\n",
              "\n",
              "[4239 rows x 17 columns]"
            ]
          },
          "metadata": {
            "tags": []
          },
          "execution_count": 107
        }
      ]
    },
    {
      "cell_type": "code",
      "metadata": {
        "id": "q5kFsG3OmvzZ",
        "colab_type": "code",
        "outputId": "544b3ef3-983d-4336-ec15-9f2f9a09ecd6",
        "colab": {
          "base_uri": "https://localhost:8080/",
          "height": 67
        }
      },
      "source": [
        "#converting response to binary format\n",
        "def convert(data4, new_column, old_column):\n",
        "    data4[new_column] = data4[old_column].apply(lambda x: 0 if x == 'no' else 1)\n",
        "    return data4[new_column].value_counts()\n",
        "\n",
        "convert(data4, \"response_binary\", \"response\")"
      ],
      "execution_count": 108,
      "outputs": [
        {
          "output_type": "execute_result",
          "data": {
            "text/plain": [
              "0    3761\n",
              "1     478\n",
              "Name: response_binary, dtype: int64"
            ]
          },
          "metadata": {
            "tags": []
          },
          "execution_count": 108
        }
      ]
    },
    {
      "cell_type": "code",
      "metadata": {
        "id": "FBzQTzqTnOR1",
        "colab_type": "code",
        "outputId": "cc52b89d-c5a3-4d07-c74d-846313d8bae8",
        "colab": {
          "base_uri": "https://localhost:8080/",
          "height": 438
        }
      },
      "source": [
        "data4"
      ],
      "execution_count": 109,
      "outputs": [
        {
          "output_type": "execute_result",
          "data": {
            "text/html": [
              "<div>\n",
              "<style scoped>\n",
              "    .dataframe tbody tr th:only-of-type {\n",
              "        vertical-align: middle;\n",
              "    }\n",
              "\n",
              "    .dataframe tbody tr th {\n",
              "        vertical-align: top;\n",
              "    }\n",
              "\n",
              "    .dataframe thead th {\n",
              "        text-align: right;\n",
              "    }\n",
              "</style>\n",
              "<table border=\"1\" class=\"dataframe\">\n",
              "  <thead>\n",
              "    <tr style=\"text-align: right;\">\n",
              "      <th></th>\n",
              "      <th>age</th>\n",
              "      <th>job</th>\n",
              "      <th>marital</th>\n",
              "      <th>education</th>\n",
              "      <th>default</th>\n",
              "      <th>balance</th>\n",
              "      <th>housing</th>\n",
              "      <th>loan</th>\n",
              "      <th>contact</th>\n",
              "      <th>day</th>\n",
              "      <th>month</th>\n",
              "      <th>duration</th>\n",
              "      <th>campaign</th>\n",
              "      <th>pdays</th>\n",
              "      <th>previous</th>\n",
              "      <th>poutcome</th>\n",
              "      <th>response</th>\n",
              "      <th>response_binary</th>\n",
              "    </tr>\n",
              "  </thead>\n",
              "  <tbody>\n",
              "    <tr>\n",
              "      <th>0</th>\n",
              "      <td>30</td>\n",
              "      <td>unemployed</td>\n",
              "      <td>married</td>\n",
              "      <td>primary</td>\n",
              "      <td>no</td>\n",
              "      <td>1787</td>\n",
              "      <td>no</td>\n",
              "      <td>no</td>\n",
              "      <td>cellular</td>\n",
              "      <td>19</td>\n",
              "      <td>oct</td>\n",
              "      <td>79</td>\n",
              "      <td>1</td>\n",
              "      <td>-1</td>\n",
              "      <td>0</td>\n",
              "      <td>unknown</td>\n",
              "      <td>no</td>\n",
              "      <td>0</td>\n",
              "    </tr>\n",
              "    <tr>\n",
              "      <th>1</th>\n",
              "      <td>33</td>\n",
              "      <td>services</td>\n",
              "      <td>married</td>\n",
              "      <td>secondary</td>\n",
              "      <td>no</td>\n",
              "      <td>4789</td>\n",
              "      <td>yes</td>\n",
              "      <td>yes</td>\n",
              "      <td>cellular</td>\n",
              "      <td>11</td>\n",
              "      <td>may</td>\n",
              "      <td>220</td>\n",
              "      <td>1</td>\n",
              "      <td>339</td>\n",
              "      <td>4</td>\n",
              "      <td>failure</td>\n",
              "      <td>no</td>\n",
              "      <td>0</td>\n",
              "    </tr>\n",
              "    <tr>\n",
              "      <th>2</th>\n",
              "      <td>35</td>\n",
              "      <td>management</td>\n",
              "      <td>single</td>\n",
              "      <td>tertiary</td>\n",
              "      <td>no</td>\n",
              "      <td>1350</td>\n",
              "      <td>yes</td>\n",
              "      <td>no</td>\n",
              "      <td>cellular</td>\n",
              "      <td>16</td>\n",
              "      <td>apr</td>\n",
              "      <td>185</td>\n",
              "      <td>1</td>\n",
              "      <td>330</td>\n",
              "      <td>1</td>\n",
              "      <td>failure</td>\n",
              "      <td>no</td>\n",
              "      <td>0</td>\n",
              "    </tr>\n",
              "    <tr>\n",
              "      <th>3</th>\n",
              "      <td>30</td>\n",
              "      <td>management</td>\n",
              "      <td>married</td>\n",
              "      <td>tertiary</td>\n",
              "      <td>no</td>\n",
              "      <td>1476</td>\n",
              "      <td>yes</td>\n",
              "      <td>yes</td>\n",
              "      <td>unknown</td>\n",
              "      <td>3</td>\n",
              "      <td>jun</td>\n",
              "      <td>199</td>\n",
              "      <td>4</td>\n",
              "      <td>-1</td>\n",
              "      <td>0</td>\n",
              "      <td>unknown</td>\n",
              "      <td>no</td>\n",
              "      <td>0</td>\n",
              "    </tr>\n",
              "    <tr>\n",
              "      <th>4</th>\n",
              "      <td>59</td>\n",
              "      <td>blue-collar</td>\n",
              "      <td>married</td>\n",
              "      <td>secondary</td>\n",
              "      <td>no</td>\n",
              "      <td>0</td>\n",
              "      <td>yes</td>\n",
              "      <td>no</td>\n",
              "      <td>unknown</td>\n",
              "      <td>5</td>\n",
              "      <td>may</td>\n",
              "      <td>226</td>\n",
              "      <td>1</td>\n",
              "      <td>-1</td>\n",
              "      <td>0</td>\n",
              "      <td>unknown</td>\n",
              "      <td>no</td>\n",
              "      <td>0</td>\n",
              "    </tr>\n",
              "    <tr>\n",
              "      <th>...</th>\n",
              "      <td>...</td>\n",
              "      <td>...</td>\n",
              "      <td>...</td>\n",
              "      <td>...</td>\n",
              "      <td>...</td>\n",
              "      <td>...</td>\n",
              "      <td>...</td>\n",
              "      <td>...</td>\n",
              "      <td>...</td>\n",
              "      <td>...</td>\n",
              "      <td>...</td>\n",
              "      <td>...</td>\n",
              "      <td>...</td>\n",
              "      <td>...</td>\n",
              "      <td>...</td>\n",
              "      <td>...</td>\n",
              "      <td>...</td>\n",
              "      <td>...</td>\n",
              "    </tr>\n",
              "    <tr>\n",
              "      <th>4514</th>\n",
              "      <td>38</td>\n",
              "      <td>blue-collar</td>\n",
              "      <td>married</td>\n",
              "      <td>secondary</td>\n",
              "      <td>no</td>\n",
              "      <td>1205</td>\n",
              "      <td>yes</td>\n",
              "      <td>no</td>\n",
              "      <td>cellular</td>\n",
              "      <td>20</td>\n",
              "      <td>apr</td>\n",
              "      <td>45</td>\n",
              "      <td>4</td>\n",
              "      <td>153</td>\n",
              "      <td>1</td>\n",
              "      <td>failure</td>\n",
              "      <td>no</td>\n",
              "      <td>0</td>\n",
              "    </tr>\n",
              "    <tr>\n",
              "      <th>4515</th>\n",
              "      <td>32</td>\n",
              "      <td>services</td>\n",
              "      <td>single</td>\n",
              "      <td>secondary</td>\n",
              "      <td>no</td>\n",
              "      <td>473</td>\n",
              "      <td>yes</td>\n",
              "      <td>no</td>\n",
              "      <td>cellular</td>\n",
              "      <td>7</td>\n",
              "      <td>jul</td>\n",
              "      <td>624</td>\n",
              "      <td>5</td>\n",
              "      <td>-1</td>\n",
              "      <td>0</td>\n",
              "      <td>unknown</td>\n",
              "      <td>no</td>\n",
              "      <td>0</td>\n",
              "    </tr>\n",
              "    <tr>\n",
              "      <th>4516</th>\n",
              "      <td>33</td>\n",
              "      <td>services</td>\n",
              "      <td>married</td>\n",
              "      <td>secondary</td>\n",
              "      <td>no</td>\n",
              "      <td>-333</td>\n",
              "      <td>yes</td>\n",
              "      <td>no</td>\n",
              "      <td>cellular</td>\n",
              "      <td>30</td>\n",
              "      <td>jul</td>\n",
              "      <td>329</td>\n",
              "      <td>5</td>\n",
              "      <td>-1</td>\n",
              "      <td>0</td>\n",
              "      <td>unknown</td>\n",
              "      <td>no</td>\n",
              "      <td>0</td>\n",
              "    </tr>\n",
              "    <tr>\n",
              "      <th>4517</th>\n",
              "      <td>57</td>\n",
              "      <td>self-employed</td>\n",
              "      <td>married</td>\n",
              "      <td>tertiary</td>\n",
              "      <td>yes</td>\n",
              "      <td>-3313</td>\n",
              "      <td>yes</td>\n",
              "      <td>yes</td>\n",
              "      <td>unknown</td>\n",
              "      <td>9</td>\n",
              "      <td>may</td>\n",
              "      <td>153</td>\n",
              "      <td>1</td>\n",
              "      <td>-1</td>\n",
              "      <td>0</td>\n",
              "      <td>unknown</td>\n",
              "      <td>no</td>\n",
              "      <td>0</td>\n",
              "    </tr>\n",
              "    <tr>\n",
              "      <th>4518</th>\n",
              "      <td>57</td>\n",
              "      <td>technician</td>\n",
              "      <td>married</td>\n",
              "      <td>secondary</td>\n",
              "      <td>no</td>\n",
              "      <td>295</td>\n",
              "      <td>no</td>\n",
              "      <td>no</td>\n",
              "      <td>cellular</td>\n",
              "      <td>19</td>\n",
              "      <td>aug</td>\n",
              "      <td>151</td>\n",
              "      <td>11</td>\n",
              "      <td>-1</td>\n",
              "      <td>0</td>\n",
              "      <td>unknown</td>\n",
              "      <td>no</td>\n",
              "      <td>0</td>\n",
              "    </tr>\n",
              "  </tbody>\n",
              "</table>\n",
              "<p>4239 rows × 18 columns</p>\n",
              "</div>"
            ],
            "text/plain": [
              "      age            job  marital  ... poutcome response  response_binary\n",
              "0      30     unemployed  married  ...  unknown       no                0\n",
              "1      33       services  married  ...  failure       no                0\n",
              "2      35     management   single  ...  failure       no                0\n",
              "3      30     management  married  ...  unknown       no                0\n",
              "4      59    blue-collar  married  ...  unknown       no                0\n",
              "...   ...            ...      ...  ...      ...      ...              ...\n",
              "4514   38    blue-collar  married  ...  failure       no                0\n",
              "4515   32       services   single  ...  unknown       no                0\n",
              "4516   33       services  married  ...  unknown       no                0\n",
              "4517   57  self-employed  married  ...  unknown       no                0\n",
              "4518   57     technician  married  ...  unknown       no                0\n",
              "\n",
              "[4239 rows x 18 columns]"
            ]
          },
          "metadata": {
            "tags": []
          },
          "execution_count": 109
        }
      ]
    },
    {
      "cell_type": "markdown",
      "metadata": {
        "id": "Motut8JWn5tA",
        "colab_type": "text"
      },
      "source": [
        "  Drop column \"contact\" which is useless"
      ]
    },
    {
      "cell_type": "code",
      "metadata": {
        "id": "tL3cSxCCneMH",
        "colab_type": "code",
        "colab": {}
      },
      "source": [
        "data5 = data4.drop('contact', axis=1)\n"
      ],
      "execution_count": 0,
      "outputs": []
    },
    {
      "cell_type": "markdown",
      "metadata": {
        "id": "eGF0zNsAoA9d",
        "colab_type": "text"
      },
      "source": [
        "Change the unit of 'duration' from seconds to minutes"
      ]
    },
    {
      "cell_type": "code",
      "metadata": {
        "id": "ZhOZHR86n1vT",
        "colab_type": "code",
        "colab": {}
      },
      "source": [
        "data5['duration'] = data5['duration'].apply(lambda n:n/60).round(2)"
      ],
      "execution_count": 0,
      "outputs": []
    },
    {
      "cell_type": "code",
      "metadata": {
        "id": "lDBEvK5IoLsa",
        "colab_type": "code",
        "outputId": "32f93c56-c282-429c-d25c-368603115fb4",
        "colab": {
          "base_uri": "https://localhost:8080/",
          "height": 218
        }
      },
      "source": [
        "data5['duration']"
      ],
      "execution_count": 112,
      "outputs": [
        {
          "output_type": "execute_result",
          "data": {
            "text/plain": [
              "0        1.32\n",
              "1        3.67\n",
              "2        3.08\n",
              "3        3.32\n",
              "4        3.77\n",
              "        ...  \n",
              "4514     0.75\n",
              "4515    10.40\n",
              "4516     5.48\n",
              "4517     2.55\n",
              "4518     2.52\n",
              "Name: duration, Length: 4239, dtype: float64"
            ]
          },
          "metadata": {
            "tags": []
          },
          "execution_count": 112
        }
      ]
    },
    {
      "cell_type": "markdown",
      "metadata": {
        "id": "siUZUGex7AxK",
        "colab_type": "text"
      },
      "source": [
        "Step 4: Change 'month' from words to numbers for easier analysis"
      ]
    },
    {
      "cell_type": "code",
      "metadata": {
        "id": "oiw48mth66MZ",
        "colab_type": "code",
        "colab": {}
      },
      "source": [
        "lst = [data5]\n",
        "for column in lst:\n",
        "    column.loc[column[\"month\"] == \"jan\", \"month_int\"] = 1\n",
        "    column.loc[column[\"month\"] == \"feb\", \"month_int\"] = 2\n",
        "    column.loc[column[\"month\"] == \"mar\", \"month_int\"] = 3\n",
        "    column.loc[column[\"month\"] == \"apr\", \"month_int\"] = 4\n",
        "    column.loc[column[\"month\"] == \"may\", \"month_int\"] = 5\n",
        "    column.loc[column[\"month\"] == \"jun\", \"month_int\"] = 6\n",
        "    column.loc[column[\"month\"] == \"jul\", \"month_int\"] = 7\n",
        "    column.loc[column[\"month\"] == \"aug\", \"month_int\"] = 8\n",
        "    column.loc[column[\"month\"] == \"sep\", \"month_int\"] = 9\n",
        "    column.loc[column[\"month\"] == \"oct\", \"month_int\"] = 10\n",
        "    column.loc[column[\"month\"] == \"nov\", \"month_int\"] = 11\n",
        "    column.loc[column[\"month\"] == \"dec\", \"month_int\"] = 12"
      ],
      "execution_count": 0,
      "outputs": []
    },
    {
      "cell_type": "markdown",
      "metadata": {
        "id": "JyrlajZspIJH",
        "colab_type": "text"
      },
      "source": [
        "#**Filtering**"
      ]
    },
    {
      "cell_type": "markdown",
      "metadata": {
        "id": "7mADsaBLpVHK",
        "colab_type": "text"
      },
      "source": [
        "Step 1: Drop rows that 'duration' < 5s"
      ]
    },
    {
      "cell_type": "code",
      "metadata": {
        "id": "lLDL8NWTpPfA",
        "colab_type": "code",
        "colab": {}
      },
      "source": [
        "condition2 = (data5['duration']<5/60)\n",
        "data6 = data5.drop(data5[condition2].index, axis = 0, inplace = False)"
      ],
      "execution_count": 0,
      "outputs": []
    },
    {
      "cell_type": "markdown",
      "metadata": {
        "id": "MaucQ_khpz4_",
        "colab_type": "text"
      },
      "source": [
        "Step 2: Drop customer values with 'other' education"
      ]
    },
    {
      "cell_type": "code",
      "metadata": {
        "id": "dgMbTRW3psf0",
        "colab_type": "code",
        "colab": {}
      },
      "source": [
        "condition3 = (data6['education'] == 'other')\n",
        "data7 = data6.drop(data6[condition3].index, axis = 0, inplace = False)"
      ],
      "execution_count": 0,
      "outputs": []
    },
    {
      "cell_type": "markdown",
      "metadata": {
        "id": "lFQZz7ju7Fyr",
        "colab_type": "text"
      },
      "source": [
        ""
      ]
    },
    {
      "cell_type": "code",
      "metadata": {
        "id": "TqsFJFsWp30h",
        "colab_type": "code",
        "outputId": "1ca34875-8acc-48a7-c1d5-f157d83fcac9",
        "colab": {
          "base_uri": "https://localhost:8080/",
          "height": 336
        }
      },
      "source": [
        "data7.count()"
      ],
      "execution_count": 116,
      "outputs": [
        {
          "output_type": "execute_result",
          "data": {
            "text/plain": [
              "age                4054\n",
              "job                4054\n",
              "marital            4054\n",
              "education          4054\n",
              "default            4054\n",
              "balance            4054\n",
              "housing            4054\n",
              "loan               4054\n",
              "day                4054\n",
              "month              4054\n",
              "duration           4054\n",
              "campaign           4054\n",
              "pdays              4054\n",
              "previous           4054\n",
              "poutcome           4054\n",
              "response           4054\n",
              "response_binary    4054\n",
              "month_int          4054\n",
              "dtype: int64"
            ]
          },
          "metadata": {
            "tags": []
          },
          "execution_count": 116
        }
      ]
    },
    {
      "cell_type": "markdown",
      "metadata": {
        "id": "_kilrLOG1cNP",
        "colab_type": "text"
      },
      "source": [
        "#3.Exploratory Data Analysis"
      ]
    },
    {
      "cell_type": "markdown",
      "metadata": {
        "id": "N-Ft3Dgv1g8S",
        "colab_type": "text"
      },
      "source": [
        "To obtain a better understanding of the dataset, the distribution of key variables and the relationships among them were plotted."
      ]
    },
    {
      "cell_type": "markdown",
      "metadata": {
        "id": "O9N5cROz5fm5",
        "colab_type": "text"
      },
      "source": [
        "3.1 Visualize the distribution of 'age' and 'balance'"
      ]
    },
    {
      "cell_type": "code",
      "metadata": {
        "id": "cx2fd31V5mM_",
        "colab_type": "code",
        "outputId": "88c61c6c-73fd-46fa-99ac-8328e0da0910",
        "colab": {
          "base_uri": "https://localhost:8080/",
          "height": 441
        }
      },
      "source": [
        "dist_age_balance = plt.figure(figsize = (10,6))\n",
        "\n",
        "ra1 = dist_age_balance.add_subplot(1,2,1) \n",
        "ra2 = dist_age_balance.add_subplot(1,2,2)\n",
        "\n",
        "ra1.hist(data7['age'])\n",
        "ra1.set_title('The Distribution of Age')\n",
        "\n",
        "ra2.hist(data7['balance'], color = 'green')\n",
        "ra2.set_title('The Distribution of Balance')\n",
        "\n",
        "plt.tight_layout() \n",
        "plt.show()"
      ],
      "execution_count": 117,
      "outputs": [
        {
          "output_type": "display_data",
          "data": {
            "image/png": "[encoded data removed]",
            "text/plain": [
              "<Figure size 720x432 with 2 Axes>"
            ]
          },
          "metadata": {
            "tags": [],
            "needs_background": "light"
          }
        }
      ]
    },
    {
      "cell_type": "markdown",
      "metadata": {
        "id": "mOCr7IvV7Vrf",
        "colab_type": "text"
      },
      "source": [
        "3.2 Visualize the relationship between 'age' and 'balance'"
      ]
    },
    {
      "cell_type": "code",
      "metadata": {
        "id": "UTKNfAP57VO9",
        "colab_type": "code",
        "outputId": "15b6b532-dc3f-4595-94a9-e84ef71e6836",
        "colab": {
          "base_uri": "https://localhost:8080/",
          "height": 350
        }
      },
      "source": [
        "scatter_age_balance = data7.plot.scatter('age','balance',figsize = (7,5))\n",
        "\n",
        "plt.title('The Relationship between Age and Balance ')\n",
        "plt.show()"
      ],
      "execution_count": 118,
      "outputs": [
        {
          "output_type": "display_data",
          "data": {
            "image/png": "[encoded data removed]",
            "text/plain": [
              "<Figure size 504x360 with 1 Axes>"
            ]
          },
          "metadata": {
            "tags": [],
            "needs_background": "light"
          }
        }
      ]
    },
    {
      "cell_type": "markdown",
      "metadata": {
        "id": "07CDDklM7pFm",
        "colab_type": "text"
      },
      "source": [
        "3.3 Visualize the distribution of 'duration' & 'campaign'"
      ]
    },
    {
      "cell_type": "code",
      "metadata": {
        "id": "XSHE0T7I7s1e",
        "colab_type": "code",
        "outputId": "faebf572-682e-4ec5-a8f0-5efa2b09939b",
        "colab": {
          "base_uri": "https://localhost:8080/",
          "height": 540
        }
      },
      "source": [
        "dist_dur_cam = data7[['duration','campaign']].plot(kind = 'box', \n",
        "                                                      figsize = (8,8),\n",
        "                                                      subplots = True, layout = (1,2),\n",
        "                                                      sharex = False, sharey = False,\n",
        "                                                      title='The Distribution of Duration and Campaign')\n",
        "plt.show()"
      ],
      "execution_count": 119,
      "outputs": [
        {
          "output_type": "display_data",
          "data": {
            "image/png": "[encoded data removed]",
            "text/plain": [
              "<Figure size 576x576 with 2 Axes>"
            ]
          },
          "metadata": {
            "tags": [],
            "needs_background": "light"
          }
        }
      ]
    },
    {
      "cell_type": "markdown",
      "metadata": {
        "id": "no5uLxUu8YZL",
        "colab_type": "text"
      },
      "source": [
        "3.4 Visualize the relationship between 'duration' & 'campaign': with response result"
      ]
    },
    {
      "cell_type": "code",
      "metadata": {
        "id": "2lcXR5cU73bI",
        "colab_type": "code",
        "outputId": "2ace085d-1bee-41e8-c0c9-f5e562eb32c1",
        "colab": {
          "base_uri": "https://localhost:8080/",
          "height": 529
        }
      },
      "source": [
        "import seaborn as sns\n",
        "dur_cam = sns.lmplot(x='duration', y='campaign',data = data7,\n",
        "                     hue = 'response',\n",
        "                     fit_reg = False,\n",
        "                     scatter_kws={'alpha':0.6}, height =7)\n",
        "\n",
        "plt.axis([0,65,0,65])\n",
        "plt.ylabel('Number of Calls')\n",
        "plt.xlabel('Duration of Calls (Minutes)')\n",
        "plt.title('The Relationship between the Number and Duration of Calls (with Response Result)')\n",
        "\n",
        "# Annotation\n",
        "plt.axhline(y=5, linewidth=2, color=\"k\", linestyle='--')\n",
        "plt.annotate('Higher subscription rate when calls <5',xytext = (35,13),\n",
        "             arrowprops=dict(color = 'k', width=1),xy=(30,6))\n",
        "plt.show()\n"
      ],
      "execution_count": 120,
      "outputs": [
        {
          "output_type": "display_data",
          "data": {
            "image/png": "[encoded data removed]",
            "text/plain": [
              "<Figure size 557.25x504 with 1 Axes>"
            ]
          },
          "metadata": {
            "tags": [],
            "needs_background": "light"
          }
        }
      ]
    },
    {
      "cell_type": "markdown",
      "metadata": {
        "id": "teEvtW728Rfw",
        "colab_type": "text"
      },
      "source": [
        "3.5 Scatter matrix and Correlation matrix"
      ]
    },
    {
      "cell_type": "code",
      "metadata": {
        "id": "ANBTDi6Y8Q9j",
        "colab_type": "code",
        "outputId": "5d7acdaf-c9ea-4b92-80c8-6e164d6f9c68",
        "colab": {
          "base_uri": "https://localhost:8080/",
          "height": 569
        }
      },
      "source": [
        "from pandas.plotting import scatter_matrix\n",
        "matrix = scatter_matrix(data7[['age','balance','duration','campaign']],figsize=(10,8))\n",
        "\n",
        "plt.suptitle('The Scatter Matrix of Age, Balance, Duration and Campaign')\n",
        "plt.show()"
      ],
      "execution_count": 121,
      "outputs": [
        {
          "output_type": "display_data",
          "data": {
            "image/png": "[encoded data removed]",
            "text/plain": [
              "<Figure size 720x576 with 16 Axes>"
            ]
          },
          "metadata": {
            "tags": [],
            "needs_background": "light"
          }
        }
      ]
    },
    {
      "cell_type": "code",
      "metadata": {
        "id": "8Wz6pCkkLAuK",
        "colab_type": "code",
        "outputId": "f247bb9e-fa34-4102-9001-bdcde34dc4e2",
        "colab": {
          "base_uri": "https://localhost:8080/",
          "height": 438
        }
      },
      "source": [
        "data7"
      ],
      "execution_count": 122,
      "outputs": [
        {
          "output_type": "execute_result",
          "data": {
            "text/html": [
              "<div>\n",
              "<style scoped>\n",
              "    .dataframe tbody tr th:only-of-type {\n",
              "        vertical-align: middle;\n",
              "    }\n",
              "\n",
              "    .dataframe tbody tr th {\n",
              "        vertical-align: top;\n",
              "    }\n",
              "\n",
              "    .dataframe thead th {\n",
              "        text-align: right;\n",
              "    }\n",
              "</style>\n",
              "<table border=\"1\" class=\"dataframe\">\n",
              "  <thead>\n",
              "    <tr style=\"text-align: right;\">\n",
              "      <th></th>\n",
              "      <th>age</th>\n",
              "      <th>job</th>\n",
              "      <th>marital</th>\n",
              "      <th>education</th>\n",
              "      <th>default</th>\n",
              "      <th>balance</th>\n",
              "      <th>housing</th>\n",
              "      <th>loan</th>\n",
              "      <th>day</th>\n",
              "      <th>month</th>\n",
              "      <th>duration</th>\n",
              "      <th>campaign</th>\n",
              "      <th>pdays</th>\n",
              "      <th>previous</th>\n",
              "      <th>poutcome</th>\n",
              "      <th>response</th>\n",
              "      <th>response_binary</th>\n",
              "      <th>month_int</th>\n",
              "    </tr>\n",
              "  </thead>\n",
              "  <tbody>\n",
              "    <tr>\n",
              "      <th>0</th>\n",
              "      <td>30</td>\n",
              "      <td>unemployed</td>\n",
              "      <td>married</td>\n",
              "      <td>primary</td>\n",
              "      <td>no</td>\n",
              "      <td>1787</td>\n",
              "      <td>no</td>\n",
              "      <td>no</td>\n",
              "      <td>19</td>\n",
              "      <td>oct</td>\n",
              "      <td>1.32</td>\n",
              "      <td>1</td>\n",
              "      <td>-1</td>\n",
              "      <td>0</td>\n",
              "      <td>unknown</td>\n",
              "      <td>no</td>\n",
              "      <td>0</td>\n",
              "      <td>10.0</td>\n",
              "    </tr>\n",
              "    <tr>\n",
              "      <th>1</th>\n",
              "      <td>33</td>\n",
              "      <td>services</td>\n",
              "      <td>married</td>\n",
              "      <td>secondary</td>\n",
              "      <td>no</td>\n",
              "      <td>4789</td>\n",
              "      <td>yes</td>\n",
              "      <td>yes</td>\n",
              "      <td>11</td>\n",
              "      <td>may</td>\n",
              "      <td>3.67</td>\n",
              "      <td>1</td>\n",
              "      <td>339</td>\n",
              "      <td>4</td>\n",
              "      <td>failure</td>\n",
              "      <td>no</td>\n",
              "      <td>0</td>\n",
              "      <td>5.0</td>\n",
              "    </tr>\n",
              "    <tr>\n",
              "      <th>2</th>\n",
              "      <td>35</td>\n",
              "      <td>management</td>\n",
              "      <td>single</td>\n",
              "      <td>tertiary</td>\n",
              "      <td>no</td>\n",
              "      <td>1350</td>\n",
              "      <td>yes</td>\n",
              "      <td>no</td>\n",
              "      <td>16</td>\n",
              "      <td>apr</td>\n",
              "      <td>3.08</td>\n",
              "      <td>1</td>\n",
              "      <td>330</td>\n",
              "      <td>1</td>\n",
              "      <td>failure</td>\n",
              "      <td>no</td>\n",
              "      <td>0</td>\n",
              "      <td>4.0</td>\n",
              "    </tr>\n",
              "    <tr>\n",
              "      <th>3</th>\n",
              "      <td>30</td>\n",
              "      <td>management</td>\n",
              "      <td>married</td>\n",
              "      <td>tertiary</td>\n",
              "      <td>no</td>\n",
              "      <td>1476</td>\n",
              "      <td>yes</td>\n",
              "      <td>yes</td>\n",
              "      <td>3</td>\n",
              "      <td>jun</td>\n",
              "      <td>3.32</td>\n",
              "      <td>4</td>\n",
              "      <td>-1</td>\n",
              "      <td>0</td>\n",
              "      <td>unknown</td>\n",
              "      <td>no</td>\n",
              "      <td>0</td>\n",
              "      <td>6.0</td>\n",
              "    </tr>\n",
              "    <tr>\n",
              "      <th>4</th>\n",
              "      <td>59</td>\n",
              "      <td>blue-collar</td>\n",
              "      <td>married</td>\n",
              "      <td>secondary</td>\n",
              "      <td>no</td>\n",
              "      <td>0</td>\n",
              "      <td>yes</td>\n",
              "      <td>no</td>\n",
              "      <td>5</td>\n",
              "      <td>may</td>\n",
              "      <td>3.77</td>\n",
              "      <td>1</td>\n",
              "      <td>-1</td>\n",
              "      <td>0</td>\n",
              "      <td>unknown</td>\n",
              "      <td>no</td>\n",
              "      <td>0</td>\n",
              "      <td>5.0</td>\n",
              "    </tr>\n",
              "    <tr>\n",
              "      <th>...</th>\n",
              "      <td>...</td>\n",
              "      <td>...</td>\n",
              "      <td>...</td>\n",
              "      <td>...</td>\n",
              "      <td>...</td>\n",
              "      <td>...</td>\n",
              "      <td>...</td>\n",
              "      <td>...</td>\n",
              "      <td>...</td>\n",
              "      <td>...</td>\n",
              "      <td>...</td>\n",
              "      <td>...</td>\n",
              "      <td>...</td>\n",
              "      <td>...</td>\n",
              "      <td>...</td>\n",
              "      <td>...</td>\n",
              "      <td>...</td>\n",
              "      <td>...</td>\n",
              "    </tr>\n",
              "    <tr>\n",
              "      <th>4514</th>\n",
              "      <td>38</td>\n",
              "      <td>blue-collar</td>\n",
              "      <td>married</td>\n",
              "      <td>secondary</td>\n",
              "      <td>no</td>\n",
              "      <td>1205</td>\n",
              "      <td>yes</td>\n",
              "      <td>no</td>\n",
              "      <td>20</td>\n",
              "      <td>apr</td>\n",
              "      <td>0.75</td>\n",
              "      <td>4</td>\n",
              "      <td>153</td>\n",
              "      <td>1</td>\n",
              "      <td>failure</td>\n",
              "      <td>no</td>\n",
              "      <td>0</td>\n",
              "      <td>4.0</td>\n",
              "    </tr>\n",
              "    <tr>\n",
              "      <th>4515</th>\n",
              "      <td>32</td>\n",
              "      <td>services</td>\n",
              "      <td>single</td>\n",
              "      <td>secondary</td>\n",
              "      <td>no</td>\n",
              "      <td>473</td>\n",
              "      <td>yes</td>\n",
              "      <td>no</td>\n",
              "      <td>7</td>\n",
              "      <td>jul</td>\n",
              "      <td>10.40</td>\n",
              "      <td>5</td>\n",
              "      <td>-1</td>\n",
              "      <td>0</td>\n",
              "      <td>unknown</td>\n",
              "      <td>no</td>\n",
              "      <td>0</td>\n",
              "      <td>7.0</td>\n",
              "    </tr>\n",
              "    <tr>\n",
              "      <th>4516</th>\n",
              "      <td>33</td>\n",
              "      <td>services</td>\n",
              "      <td>married</td>\n",
              "      <td>secondary</td>\n",
              "      <td>no</td>\n",
              "      <td>-333</td>\n",
              "      <td>yes</td>\n",
              "      <td>no</td>\n",
              "      <td>30</td>\n",
              "      <td>jul</td>\n",
              "      <td>5.48</td>\n",
              "      <td>5</td>\n",
              "      <td>-1</td>\n",
              "      <td>0</td>\n",
              "      <td>unknown</td>\n",
              "      <td>no</td>\n",
              "      <td>0</td>\n",
              "      <td>7.0</td>\n",
              "    </tr>\n",
              "    <tr>\n",
              "      <th>4517</th>\n",
              "      <td>57</td>\n",
              "      <td>self-employed</td>\n",
              "      <td>married</td>\n",
              "      <td>tertiary</td>\n",
              "      <td>yes</td>\n",
              "      <td>-3313</td>\n",
              "      <td>yes</td>\n",
              "      <td>yes</td>\n",
              "      <td>9</td>\n",
              "      <td>may</td>\n",
              "      <td>2.55</td>\n",
              "      <td>1</td>\n",
              "      <td>-1</td>\n",
              "      <td>0</td>\n",
              "      <td>unknown</td>\n",
              "      <td>no</td>\n",
              "      <td>0</td>\n",
              "      <td>5.0</td>\n",
              "    </tr>\n",
              "    <tr>\n",
              "      <th>4518</th>\n",
              "      <td>57</td>\n",
              "      <td>technician</td>\n",
              "      <td>married</td>\n",
              "      <td>secondary</td>\n",
              "      <td>no</td>\n",
              "      <td>295</td>\n",
              "      <td>no</td>\n",
              "      <td>no</td>\n",
              "      <td>19</td>\n",
              "      <td>aug</td>\n",
              "      <td>2.52</td>\n",
              "      <td>11</td>\n",
              "      <td>-1</td>\n",
              "      <td>0</td>\n",
              "      <td>unknown</td>\n",
              "      <td>no</td>\n",
              "      <td>0</td>\n",
              "      <td>8.0</td>\n",
              "    </tr>\n",
              "  </tbody>\n",
              "</table>\n",
              "<p>4054 rows × 18 columns</p>\n",
              "</div>"
            ],
            "text/plain": [
              "      age            job  marital  ... response response_binary  month_int\n",
              "0      30     unemployed  married  ...       no               0       10.0\n",
              "1      33       services  married  ...       no               0        5.0\n",
              "2      35     management   single  ...       no               0        4.0\n",
              "3      30     management  married  ...       no               0        6.0\n",
              "4      59    blue-collar  married  ...       no               0        5.0\n",
              "...   ...            ...      ...  ...      ...             ...        ...\n",
              "4514   38    blue-collar  married  ...       no               0        4.0\n",
              "4515   32       services   single  ...       no               0        7.0\n",
              "4516   33       services  married  ...       no               0        7.0\n",
              "4517   57  self-employed  married  ...       no               0        5.0\n",
              "4518   57     technician  married  ...       no               0        8.0\n",
              "\n",
              "[4054 rows x 18 columns]"
            ]
          },
          "metadata": {
            "tags": []
          },
          "execution_count": 122
        }
      ]
    },
    {
      "cell_type": "code",
      "metadata": {
        "id": "X_o_mkIh9nlB",
        "colab_type": "code",
        "outputId": "ebcae291-0008-4b0d-9da8-2c745c723373",
        "colab": {
          "base_uri": "https://localhost:8080/",
          "height": 297
        }
      },
      "source": [
        "sns.set_style('darkgrid')\n",
        "sns.countplot(x='response_binary',data=data7)\n"
      ],
      "execution_count": 123,
      "outputs": [
        {
          "output_type": "execute_result",
          "data": {
            "text/plain": [
              "<matplotlib.axes._subplots.AxesSubplot at 0x7f2900c02b70>"
            ]
          },
          "metadata": {
            "tags": []
          },
          "execution_count": 123
        },
        {
          "output_type": "display_data",
          "data": {
            "image/png": "[encoded data removed]",
            "text/plain": [
              "<Figure size 432x288 with 1 Axes>"
            ]
          },
          "metadata": {
            "tags": []
          }
        }
      ]
    },
    {
      "cell_type": "code",
      "metadata": {
        "id": "n2GSzPPT-_3h",
        "colab_type": "code",
        "outputId": "b93a3968-584d-4cc9-a593-aded12f48fff",
        "colab": {
          "base_uri": "https://localhost:8080/",
          "height": 376
        }
      },
      "source": [
        "corr_data = data7[['age','balance','duration','campaign','month_int','previous','response_binary']]\n",
        "corr = corr_data.corr('pearson')\n",
        "\n",
        "cor_plot = sns.heatmap(corr,annot=True,cmap='RdYlGn',linewidths=0.2,annot_kws={'size':10})\n",
        "fig=plt.gcf()\n",
        "fig.set_size_inches(6,5)\n",
        "plt.xticks(fontsize=10,rotation=-30)\n",
        "plt.yticks(fontsize=10)\n",
        "plt.title('Correlation Matrix')\n",
        "plt.show()"
      ],
      "execution_count": 124,
      "outputs": [
        {
          "output_type": "display_data",
          "data": {
            "image/png": "[encoded data removed]",
            "text/plain": [
              "<Figure size 432x360 with 2 Axes>"
            ]
          },
          "metadata": {
            "tags": []
          }
        }
      ]
    },
    {
      "cell_type": "code",
      "metadata": {
        "id": "eJ5VMCZBLK2g",
        "colab_type": "code",
        "outputId": "eccc3e20-a123-4b6b-ec1c-9af7da230858",
        "colab": {
          "base_uri": "https://localhost:8080/",
          "height": 438
        }
      },
      "source": [
        "data7"
      ],
      "execution_count": 125,
      "outputs": [
        {
          "output_type": "execute_result",
          "data": {
            "text/html": [
              "<div>\n",
              "<style scoped>\n",
              "    .dataframe tbody tr th:only-of-type {\n",
              "        vertical-align: middle;\n",
              "    }\n",
              "\n",
              "    .dataframe tbody tr th {\n",
              "        vertical-align: top;\n",
              "    }\n",
              "\n",
              "    .dataframe thead th {\n",
              "        text-align: right;\n",
              "    }\n",
              "</style>\n",
              "<table border=\"1\" class=\"dataframe\">\n",
              "  <thead>\n",
              "    <tr style=\"text-align: right;\">\n",
              "      <th></th>\n",
              "      <th>age</th>\n",
              "      <th>job</th>\n",
              "      <th>marital</th>\n",
              "      <th>education</th>\n",
              "      <th>default</th>\n",
              "      <th>balance</th>\n",
              "      <th>housing</th>\n",
              "      <th>loan</th>\n",
              "      <th>day</th>\n",
              "      <th>month</th>\n",
              "      <th>duration</th>\n",
              "      <th>campaign</th>\n",
              "      <th>pdays</th>\n",
              "      <th>previous</th>\n",
              "      <th>poutcome</th>\n",
              "      <th>response</th>\n",
              "      <th>response_binary</th>\n",
              "      <th>month_int</th>\n",
              "    </tr>\n",
              "  </thead>\n",
              "  <tbody>\n",
              "    <tr>\n",
              "      <th>0</th>\n",
              "      <td>30</td>\n",
              "      <td>unemployed</td>\n",
              "      <td>married</td>\n",
              "      <td>primary</td>\n",
              "      <td>no</td>\n",
              "      <td>1787</td>\n",
              "      <td>no</td>\n",
              "      <td>no</td>\n",
              "      <td>19</td>\n",
              "      <td>oct</td>\n",
              "      <td>1.32</td>\n",
              "      <td>1</td>\n",
              "      <td>-1</td>\n",
              "      <td>0</td>\n",
              "      <td>unknown</td>\n",
              "      <td>no</td>\n",
              "      <td>0</td>\n",
              "      <td>10.0</td>\n",
              "    </tr>\n",
              "    <tr>\n",
              "      <th>1</th>\n",
              "      <td>33</td>\n",
              "      <td>services</td>\n",
              "      <td>married</td>\n",
              "      <td>secondary</td>\n",
              "      <td>no</td>\n",
              "      <td>4789</td>\n",
              "      <td>yes</td>\n",
              "      <td>yes</td>\n",
              "      <td>11</td>\n",
              "      <td>may</td>\n",
              "      <td>3.67</td>\n",
              "      <td>1</td>\n",
              "      <td>339</td>\n",
              "      <td>4</td>\n",
              "      <td>failure</td>\n",
              "      <td>no</td>\n",
              "      <td>0</td>\n",
              "      <td>5.0</td>\n",
              "    </tr>\n",
              "    <tr>\n",
              "      <th>2</th>\n",
              "      <td>35</td>\n",
              "      <td>management</td>\n",
              "      <td>single</td>\n",
              "      <td>tertiary</td>\n",
              "      <td>no</td>\n",
              "      <td>1350</td>\n",
              "      <td>yes</td>\n",
              "      <td>no</td>\n",
              "      <td>16</td>\n",
              "      <td>apr</td>\n",
              "      <td>3.08</td>\n",
              "      <td>1</td>\n",
              "      <td>330</td>\n",
              "      <td>1</td>\n",
              "      <td>failure</td>\n",
              "      <td>no</td>\n",
              "      <td>0</td>\n",
              "      <td>4.0</td>\n",
              "    </tr>\n",
              "    <tr>\n",
              "      <th>3</th>\n",
              "      <td>30</td>\n",
              "      <td>management</td>\n",
              "      <td>married</td>\n",
              "      <td>tertiary</td>\n",
              "      <td>no</td>\n",
              "      <td>1476</td>\n",
              "      <td>yes</td>\n",
              "      <td>yes</td>\n",
              "      <td>3</td>\n",
              "      <td>jun</td>\n",
              "      <td>3.32</td>\n",
              "      <td>4</td>\n",
              "      <td>-1</td>\n",
              "      <td>0</td>\n",
              "      <td>unknown</td>\n",
              "      <td>no</td>\n",
              "      <td>0</td>\n",
              "      <td>6.0</td>\n",
              "    </tr>\n",
              "    <tr>\n",
              "      <th>4</th>\n",
              "      <td>59</td>\n",
              "      <td>blue-collar</td>\n",
              "      <td>married</td>\n",
              "      <td>secondary</td>\n",
              "      <td>no</td>\n",
              "      <td>0</td>\n",
              "      <td>yes</td>\n",
              "      <td>no</td>\n",
              "      <td>5</td>\n",
              "      <td>may</td>\n",
              "      <td>3.77</td>\n",
              "      <td>1</td>\n",
              "      <td>-1</td>\n",
              "      <td>0</td>\n",
              "      <td>unknown</td>\n",
              "      <td>no</td>\n",
              "      <td>0</td>\n",
              "      <td>5.0</td>\n",
              "    </tr>\n",
              "    <tr>\n",
              "      <th>...</th>\n",
              "      <td>...</td>\n",
              "      <td>...</td>\n",
              "      <td>...</td>\n",
              "      <td>...</td>\n",
              "      <td>...</td>\n",
              "      <td>...</td>\n",
              "      <td>...</td>\n",
              "      <td>...</td>\n",
              "      <td>...</td>\n",
              "      <td>...</td>\n",
              "      <td>...</td>\n",
              "      <td>...</td>\n",
              "      <td>...</td>\n",
              "      <td>...</td>\n",
              "      <td>...</td>\n",
              "      <td>...</td>\n",
              "      <td>...</td>\n",
              "      <td>...</td>\n",
              "    </tr>\n",
              "    <tr>\n",
              "      <th>4514</th>\n",
              "      <td>38</td>\n",
              "      <td>blue-collar</td>\n",
              "      <td>married</td>\n",
              "      <td>secondary</td>\n",
              "      <td>no</td>\n",
              "      <td>1205</td>\n",
              "      <td>yes</td>\n",
              "      <td>no</td>\n",
              "      <td>20</td>\n",
              "      <td>apr</td>\n",
              "      <td>0.75</td>\n",
              "      <td>4</td>\n",
              "      <td>153</td>\n",
              "      <td>1</td>\n",
              "      <td>failure</td>\n",
              "      <td>no</td>\n",
              "      <td>0</td>\n",
              "      <td>4.0</td>\n",
              "    </tr>\n",
              "    <tr>\n",
              "      <th>4515</th>\n",
              "      <td>32</td>\n",
              "      <td>services</td>\n",
              "      <td>single</td>\n",
              "      <td>secondary</td>\n",
              "      <td>no</td>\n",
              "      <td>473</td>\n",
              "      <td>yes</td>\n",
              "      <td>no</td>\n",
              "      <td>7</td>\n",
              "      <td>jul</td>\n",
              "      <td>10.40</td>\n",
              "      <td>5</td>\n",
              "      <td>-1</td>\n",
              "      <td>0</td>\n",
              "      <td>unknown</td>\n",
              "      <td>no</td>\n",
              "      <td>0</td>\n",
              "      <td>7.0</td>\n",
              "    </tr>\n",
              "    <tr>\n",
              "      <th>4516</th>\n",
              "      <td>33</td>\n",
              "      <td>services</td>\n",
              "      <td>married</td>\n",
              "      <td>secondary</td>\n",
              "      <td>no</td>\n",
              "      <td>-333</td>\n",
              "      <td>yes</td>\n",
              "      <td>no</td>\n",
              "      <td>30</td>\n",
              "      <td>jul</td>\n",
              "      <td>5.48</td>\n",
              "      <td>5</td>\n",
              "      <td>-1</td>\n",
              "      <td>0</td>\n",
              "      <td>unknown</td>\n",
              "      <td>no</td>\n",
              "      <td>0</td>\n",
              "      <td>7.0</td>\n",
              "    </tr>\n",
              "    <tr>\n",
              "      <th>4517</th>\n",
              "      <td>57</td>\n",
              "      <td>self-employed</td>\n",
              "      <td>married</td>\n",
              "      <td>tertiary</td>\n",
              "      <td>yes</td>\n",
              "      <td>-3313</td>\n",
              "      <td>yes</td>\n",
              "      <td>yes</td>\n",
              "      <td>9</td>\n",
              "      <td>may</td>\n",
              "      <td>2.55</td>\n",
              "      <td>1</td>\n",
              "      <td>-1</td>\n",
              "      <td>0</td>\n",
              "      <td>unknown</td>\n",
              "      <td>no</td>\n",
              "      <td>0</td>\n",
              "      <td>5.0</td>\n",
              "    </tr>\n",
              "    <tr>\n",
              "      <th>4518</th>\n",
              "      <td>57</td>\n",
              "      <td>technician</td>\n",
              "      <td>married</td>\n",
              "      <td>secondary</td>\n",
              "      <td>no</td>\n",
              "      <td>295</td>\n",
              "      <td>no</td>\n",
              "      <td>no</td>\n",
              "      <td>19</td>\n",
              "      <td>aug</td>\n",
              "      <td>2.52</td>\n",
              "      <td>11</td>\n",
              "      <td>-1</td>\n",
              "      <td>0</td>\n",
              "      <td>unknown</td>\n",
              "      <td>no</td>\n",
              "      <td>0</td>\n",
              "      <td>8.0</td>\n",
              "    </tr>\n",
              "  </tbody>\n",
              "</table>\n",
              "<p>4054 rows × 18 columns</p>\n",
              "</div>"
            ],
            "text/plain": [
              "      age            job  marital  ... response response_binary  month_int\n",
              "0      30     unemployed  married  ...       no               0       10.0\n",
              "1      33       services  married  ...       no               0        5.0\n",
              "2      35     management   single  ...       no               0        4.0\n",
              "3      30     management  married  ...       no               0        6.0\n",
              "4      59    blue-collar  married  ...       no               0        5.0\n",
              "...   ...            ...      ...  ...      ...             ...        ...\n",
              "4514   38    blue-collar  married  ...       no               0        4.0\n",
              "4515   32       services   single  ...       no               0        7.0\n",
              "4516   33       services  married  ...       no               0        7.0\n",
              "4517   57  self-employed  married  ...       no               0        5.0\n",
              "4518   57     technician  married  ...       no               0        8.0\n",
              "\n",
              "[4054 rows x 18 columns]"
            ]
          },
          "metadata": {
            "tags": []
          },
          "execution_count": 125
        }
      ]
    },
    {
      "cell_type": "markdown",
      "metadata": {
        "id": "96MFDRgIIIbd",
        "colab_type": "text"
      },
      "source": [
        "#4.Data Visualization \n"
      ]
    },
    {
      "cell_type": "markdown",
      "metadata": {
        "id": "Gi177pC1IVuh",
        "colab_type": "text"
      },
      "source": [
        "4.1 Visualize the subscription and contact rate by age"
      ]
    },
    {
      "cell_type": "code",
      "metadata": {
        "id": "RdIas8UoIaIN",
        "colab_type": "code",
        "colab": {}
      },
      "source": [
        "lst = [data7]\n",
        "for column in lst:\n",
        "    column.loc[column[\"age\"] < 30,  'age_group'] = 20\n",
        "    column.loc[(column[\"age\"] >= 30) & (column[\"age\"] <= 39), 'age_group'] = 30\n",
        "    column.loc[(column[\"age\"] >= 40) & (column[\"age\"] <= 49), 'age_group'] = 40\n",
        "    column.loc[(column[\"age\"] >= 50) & (column[\"age\"] <= 59), 'age_group'] = 50\n",
        "    column.loc[column[\"age\"] >= 60, 'age_group'] = 60"
      ],
      "execution_count": 0,
      "outputs": []
    },
    {
      "cell_type": "code",
      "metadata": {
        "id": "o5CuZy1hJKpU",
        "colab_type": "code",
        "outputId": "0bfe4186-d352-4528-f166-75356a052b3e",
        "colab": {
          "base_uri": "https://localhost:8080/",
          "height": 438
        }
      },
      "source": [
        "data7"
      ],
      "execution_count": 127,
      "outputs": [
        {
          "output_type": "execute_result",
          "data": {
            "text/html": [
              "<div>\n",
              "<style scoped>\n",
              "    .dataframe tbody tr th:only-of-type {\n",
              "        vertical-align: middle;\n",
              "    }\n",
              "\n",
              "    .dataframe tbody tr th {\n",
              "        vertical-align: top;\n",
              "    }\n",
              "\n",
              "    .dataframe thead th {\n",
              "        text-align: right;\n",
              "    }\n",
              "</style>\n",
              "<table border=\"1\" class=\"dataframe\">\n",
              "  <thead>\n",
              "    <tr style=\"text-align: right;\">\n",
              "      <th></th>\n",
              "      <th>age</th>\n",
              "      <th>job</th>\n",
              "      <th>marital</th>\n",
              "      <th>education</th>\n",
              "      <th>default</th>\n",
              "      <th>balance</th>\n",
              "      <th>housing</th>\n",
              "      <th>loan</th>\n",
              "      <th>day</th>\n",
              "      <th>month</th>\n",
              "      <th>duration</th>\n",
              "      <th>campaign</th>\n",
              "      <th>pdays</th>\n",
              "      <th>previous</th>\n",
              "      <th>poutcome</th>\n",
              "      <th>response</th>\n",
              "      <th>response_binary</th>\n",
              "      <th>month_int</th>\n",
              "      <th>age_group</th>\n",
              "    </tr>\n",
              "  </thead>\n",
              "  <tbody>\n",
              "    <tr>\n",
              "      <th>0</th>\n",
              "      <td>30</td>\n",
              "      <td>unemployed</td>\n",
              "      <td>married</td>\n",
              "      <td>primary</td>\n",
              "      <td>no</td>\n",
              "      <td>1787</td>\n",
              "      <td>no</td>\n",
              "      <td>no</td>\n",
              "      <td>19</td>\n",
              "      <td>oct</td>\n",
              "      <td>1.32</td>\n",
              "      <td>1</td>\n",
              "      <td>-1</td>\n",
              "      <td>0</td>\n",
              "      <td>unknown</td>\n",
              "      <td>no</td>\n",
              "      <td>0</td>\n",
              "      <td>10.0</td>\n",
              "      <td>30.0</td>\n",
              "    </tr>\n",
              "    <tr>\n",
              "      <th>1</th>\n",
              "      <td>33</td>\n",
              "      <td>services</td>\n",
              "      <td>married</td>\n",
              "      <td>secondary</td>\n",
              "      <td>no</td>\n",
              "      <td>4789</td>\n",
              "      <td>yes</td>\n",
              "      <td>yes</td>\n",
              "      <td>11</td>\n",
              "      <td>may</td>\n",
              "      <td>3.67</td>\n",
              "      <td>1</td>\n",
              "      <td>339</td>\n",
              "      <td>4</td>\n",
              "      <td>failure</td>\n",
              "      <td>no</td>\n",
              "      <td>0</td>\n",
              "      <td>5.0</td>\n",
              "      <td>30.0</td>\n",
              "    </tr>\n",
              "    <tr>\n",
              "      <th>2</th>\n",
              "      <td>35</td>\n",
              "      <td>management</td>\n",
              "      <td>single</td>\n",
              "      <td>tertiary</td>\n",
              "      <td>no</td>\n",
              "      <td>1350</td>\n",
              "      <td>yes</td>\n",
              "      <td>no</td>\n",
              "      <td>16</td>\n",
              "      <td>apr</td>\n",
              "      <td>3.08</td>\n",
              "      <td>1</td>\n",
              "      <td>330</td>\n",
              "      <td>1</td>\n",
              "      <td>failure</td>\n",
              "      <td>no</td>\n",
              "      <td>0</td>\n",
              "      <td>4.0</td>\n",
              "      <td>30.0</td>\n",
              "    </tr>\n",
              "    <tr>\n",
              "      <th>3</th>\n",
              "      <td>30</td>\n",
              "      <td>management</td>\n",
              "      <td>married</td>\n",
              "      <td>tertiary</td>\n",
              "      <td>no</td>\n",
              "      <td>1476</td>\n",
              "      <td>yes</td>\n",
              "      <td>yes</td>\n",
              "      <td>3</td>\n",
              "      <td>jun</td>\n",
              "      <td>3.32</td>\n",
              "      <td>4</td>\n",
              "      <td>-1</td>\n",
              "      <td>0</td>\n",
              "      <td>unknown</td>\n",
              "      <td>no</td>\n",
              "      <td>0</td>\n",
              "      <td>6.0</td>\n",
              "      <td>30.0</td>\n",
              "    </tr>\n",
              "    <tr>\n",
              "      <th>4</th>\n",
              "      <td>59</td>\n",
              "      <td>blue-collar</td>\n",
              "      <td>married</td>\n",
              "      <td>secondary</td>\n",
              "      <td>no</td>\n",
              "      <td>0</td>\n",
              "      <td>yes</td>\n",
              "      <td>no</td>\n",
              "      <td>5</td>\n",
              "      <td>may</td>\n",
              "      <td>3.77</td>\n",
              "      <td>1</td>\n",
              "      <td>-1</td>\n",
              "      <td>0</td>\n",
              "      <td>unknown</td>\n",
              "      <td>no</td>\n",
              "      <td>0</td>\n",
              "      <td>5.0</td>\n",
              "      <td>50.0</td>\n",
              "    </tr>\n",
              "    <tr>\n",
              "      <th>...</th>\n",
              "      <td>...</td>\n",
              "      <td>...</td>\n",
              "      <td>...</td>\n",
              "      <td>...</td>\n",
              "      <td>...</td>\n",
              "      <td>...</td>\n",
              "      <td>...</td>\n",
              "      <td>...</td>\n",
              "      <td>...</td>\n",
              "      <td>...</td>\n",
              "      <td>...</td>\n",
              "      <td>...</td>\n",
              "      <td>...</td>\n",
              "      <td>...</td>\n",
              "      <td>...</td>\n",
              "      <td>...</td>\n",
              "      <td>...</td>\n",
              "      <td>...</td>\n",
              "      <td>...</td>\n",
              "    </tr>\n",
              "    <tr>\n",
              "      <th>4514</th>\n",
              "      <td>38</td>\n",
              "      <td>blue-collar</td>\n",
              "      <td>married</td>\n",
              "      <td>secondary</td>\n",
              "      <td>no</td>\n",
              "      <td>1205</td>\n",
              "      <td>yes</td>\n",
              "      <td>no</td>\n",
              "      <td>20</td>\n",
              "      <td>apr</td>\n",
              "      <td>0.75</td>\n",
              "      <td>4</td>\n",
              "      <td>153</td>\n",
              "      <td>1</td>\n",
              "      <td>failure</td>\n",
              "      <td>no</td>\n",
              "      <td>0</td>\n",
              "      <td>4.0</td>\n",
              "      <td>30.0</td>\n",
              "    </tr>\n",
              "    <tr>\n",
              "      <th>4515</th>\n",
              "      <td>32</td>\n",
              "      <td>services</td>\n",
              "      <td>single</td>\n",
              "      <td>secondary</td>\n",
              "      <td>no</td>\n",
              "      <td>473</td>\n",
              "      <td>yes</td>\n",
              "      <td>no</td>\n",
              "      <td>7</td>\n",
              "      <td>jul</td>\n",
              "      <td>10.40</td>\n",
              "      <td>5</td>\n",
              "      <td>-1</td>\n",
              "      <td>0</td>\n",
              "      <td>unknown</td>\n",
              "      <td>no</td>\n",
              "      <td>0</td>\n",
              "      <td>7.0</td>\n",
              "      <td>30.0</td>\n",
              "    </tr>\n",
              "    <tr>\n",
              "      <th>4516</th>\n",
              "      <td>33</td>\n",
              "      <td>services</td>\n",
              "      <td>married</td>\n",
              "      <td>secondary</td>\n",
              "      <td>no</td>\n",
              "      <td>-333</td>\n",
              "      <td>yes</td>\n",
              "      <td>no</td>\n",
              "      <td>30</td>\n",
              "      <td>jul</td>\n",
              "      <td>5.48</td>\n",
              "      <td>5</td>\n",
              "      <td>-1</td>\n",
              "      <td>0</td>\n",
              "      <td>unknown</td>\n",
              "      <td>no</td>\n",
              "      <td>0</td>\n",
              "      <td>7.0</td>\n",
              "      <td>30.0</td>\n",
              "    </tr>\n",
              "    <tr>\n",
              "      <th>4517</th>\n",
              "      <td>57</td>\n",
              "      <td>self-employed</td>\n",
              "      <td>married</td>\n",
              "      <td>tertiary</td>\n",
              "      <td>yes</td>\n",
              "      <td>-3313</td>\n",
              "      <td>yes</td>\n",
              "      <td>yes</td>\n",
              "      <td>9</td>\n",
              "      <td>may</td>\n",
              "      <td>2.55</td>\n",
              "      <td>1</td>\n",
              "      <td>-1</td>\n",
              "      <td>0</td>\n",
              "      <td>unknown</td>\n",
              "      <td>no</td>\n",
              "      <td>0</td>\n",
              "      <td>5.0</td>\n",
              "      <td>50.0</td>\n",
              "    </tr>\n",
              "    <tr>\n",
              "      <th>4518</th>\n",
              "      <td>57</td>\n",
              "      <td>technician</td>\n",
              "      <td>married</td>\n",
              "      <td>secondary</td>\n",
              "      <td>no</td>\n",
              "      <td>295</td>\n",
              "      <td>no</td>\n",
              "      <td>no</td>\n",
              "      <td>19</td>\n",
              "      <td>aug</td>\n",
              "      <td>2.52</td>\n",
              "      <td>11</td>\n",
              "      <td>-1</td>\n",
              "      <td>0</td>\n",
              "      <td>unknown</td>\n",
              "      <td>no</td>\n",
              "      <td>0</td>\n",
              "      <td>8.0</td>\n",
              "      <td>50.0</td>\n",
              "    </tr>\n",
              "  </tbody>\n",
              "</table>\n",
              "<p>4054 rows × 19 columns</p>\n",
              "</div>"
            ],
            "text/plain": [
              "      age            job  marital  ... response_binary month_int  age_group\n",
              "0      30     unemployed  married  ...               0      10.0       30.0\n",
              "1      33       services  married  ...               0       5.0       30.0\n",
              "2      35     management   single  ...               0       4.0       30.0\n",
              "3      30     management  married  ...               0       6.0       30.0\n",
              "4      59    blue-collar  married  ...               0       5.0       50.0\n",
              "...   ...            ...      ...  ...             ...       ...        ...\n",
              "4514   38    blue-collar  married  ...               0       4.0       30.0\n",
              "4515   32       services   single  ...               0       7.0       30.0\n",
              "4516   33       services  married  ...               0       7.0       30.0\n",
              "4517   57  self-employed  married  ...               0       5.0       50.0\n",
              "4518   57     technician  married  ...               0       8.0       50.0\n",
              "\n",
              "[4054 rows x 19 columns]"
            ]
          },
          "metadata": {
            "tags": []
          },
          "execution_count": 127
        }
      ]
    },
    {
      "cell_type": "code",
      "metadata": {
        "id": "_AhkQqEmIm3m",
        "colab_type": "code",
        "colab": {}
      },
      "source": [
        "count_age_response_pct = pd.crosstab(data7['response'],data7['age_group']).apply(lambda x: x/x.sum() * 100)\n",
        "count_age_response_pct = count_age_response_pct.transpose() "
      ],
      "execution_count": 0,
      "outputs": []
    },
    {
      "cell_type": "code",
      "metadata": {
        "id": "zRBr8O0mLYFY",
        "colab_type": "code",
        "colab": {}
      },
      "source": [
        "age = pd.DataFrame(data7['age_group'].value_counts())\n",
        "age['% Contacted'] = age['age_group']*100/age['age_group'].sum()\n",
        "age['% Subscription'] = count_age_response_pct['yes']\n",
        "age.drop('age_group',axis = 1,inplace = True)\n",
        "\n",
        "age['age'] = [30,40,50,20,60]\n",
        "age = age.sort_values('age',ascending = True)"
      ],
      "execution_count": 0,
      "outputs": []
    },
    {
      "cell_type": "code",
      "metadata": {
        "id": "00csAP5MLexo",
        "colab_type": "code",
        "outputId": "9fa9ebc9-af0f-49e3-e495-88d18e68ecae",
        "colab": {
          "base_uri": "https://localhost:8080/",
          "height": 404
        }
      },
      "source": [
        "plot_age = age[['% Subscription','% Contacted']].plot(kind = 'bar',\n",
        "                                              figsize=(8,6), color = ('green','red'))\n",
        "plt.xlabel('Age Group')\n",
        "plt.ylabel('Subscription Rate')\n",
        "plt.xticks(np.arange(5), ('<30', '30-39', '40-49', '50-59', '60+'),rotation = 'horizontal')\n",
        "plt.title('Subscription vs. Contact Rate by Age')\n",
        "plt.show()"
      ],
      "execution_count": 130,
      "outputs": [
        {
          "output_type": "display_data",
          "data": {
            "image/png": "[encoded data removed]",
            "text/plain": [
              "<Figure size 576x432 with 1 Axes>"
            ]
          },
          "metadata": {
            "tags": []
          }
        }
      ]
    },
    {
      "cell_type": "markdown",
      "metadata": {
        "id": "jiTave-NLrtH",
        "colab_type": "text"
      },
      "source": [
        "4.2 Visualize the subscription rate by balance level"
      ]
    },
    {
      "cell_type": "code",
      "metadata": {
        "id": "i3qK1fLTLvar",
        "colab_type": "code",
        "colab": {}
      },
      "source": [
        "lst = [data7]\n",
        "for column in lst:\n",
        "    column.loc[column[\"balance\"] <= 0,  'balance_group'] = 'no balance'\n",
        "    column.loc[(column[\"balance\"] > 0) & (column[\"balance\"] <= 1000), 'balance_group'] = 'low balance'\n",
        "    column.loc[(column[\"balance\"] > 1000) & (column[\"balance\"] <= 5000), 'balance_group'] = 'average balance'\n",
        "    column.loc[(column[\"balance\"] > 5000), 'balance_group'] = 'high balance'"
      ],
      "execution_count": 0,
      "outputs": []
    },
    {
      "cell_type": "code",
      "metadata": {
        "id": "V4Ge1C77L18l",
        "colab_type": "code",
        "colab": {}
      },
      "source": [
        "count_balance_response_pct = pd.crosstab(data7['response'],data7['balance_group']).apply(lambda x: x/x.sum() * 100)\n",
        "count_balance_response_pct = count_balance_response_pct.transpose()"
      ],
      "execution_count": 0,
      "outputs": []
    },
    {
      "cell_type": "code",
      "metadata": {
        "id": "KT1eGURZL9Dv",
        "colab_type": "code",
        "colab": {}
      },
      "source": [
        "bal = pd.DataFrame(data7['balance_group'].value_counts())\n",
        "bal['% Contacted'] = bal['balance_group']*100/bal['balance_group'].sum()\n",
        "bal['% Subscription'] = count_balance_response_pct['yes']\n",
        "bal.drop('balance_group',axis = 1,inplace = True)\n",
        "\n",
        "bal['bal'] = [1,2,0,3]\n",
        "bal = bal.sort_values('bal',ascending = True)"
      ],
      "execution_count": 0,
      "outputs": []
    },
    {
      "cell_type": "code",
      "metadata": {
        "id": "7FJoLjlwMEEE",
        "colab_type": "code",
        "outputId": "39e99371-e5ac-4777-b811-5e56ab770441",
        "colab": {
          "base_uri": "https://localhost:8080/",
          "height": 404
        }
      },
      "source": [
        "plot_balance = bal[['% Subscription','% Contacted']].plot(kind = 'bar',\n",
        "                                               color = ('royalblue','skyblue'),\n",
        "                                               figsize = (8,6))\n",
        "\n",
        "plt.title('Subscription vs Contact Rate by Balance Level')\n",
        "plt.ylabel('Subscription Rate')\n",
        "plt.xlabel('Balance Category')\n",
        "plt.xticks(rotation = 'horizontal')\n",
        "\n",
        "# label the bar\n",
        "for rec, label in zip(plot_balance.patches,\n",
        "                      bal['% Subscription'].round(1).astype(str)):\n",
        "    plot_balance.text(rec.get_x() + rec.get_width()/2, \n",
        "                      rec.get_height() + 1, \n",
        "                      label+'%',  \n",
        "                      ha = 'center', \n",
        "                      color = 'black')"
      ],
      "execution_count": 134,
      "outputs": [
        {
          "output_type": "display_data",
          "data": {
            "image/png": "[encoded data removed]",
            "text/plain": [
              "<Figure size 576x432 with 1 Axes>"
            ]
          },
          "metadata": {
            "tags": []
          }
        }
      ]
    },
    {
      "cell_type": "markdown",
      "metadata": {
        "id": "9qKR-ofZMNs3",
        "colab_type": "text"
      },
      "source": [
        "4.3 Visualize the subscription rate by age and balance"
      ]
    },
    {
      "cell_type": "code",
      "metadata": {
        "id": "i88mmMVWMQuF",
        "colab_type": "code",
        "colab": {}
      },
      "source": [
        "age_balance1 = pd.DataFrame(data7.groupby(['age_group','balance_group'])['response_binary'].sum())\n",
        "age_balance2 = pd.DataFrame(data7.groupby(['age_group','balance_group'])['response'].count())\n",
        "\n",
        "age_balance1['response'] = age_balance2['response']\n",
        "age_balance1['response_rate'] = age_balance1['response_binary']/ (age_balance1['response'])\n",
        "age_balance1 = age_balance1.drop(['response_binary','response'],axis =1)\n",
        "\n",
        "age_balance1 = age_balance1.unstack()"
      ],
      "execution_count": 0,
      "outputs": []
    },
    {
      "cell_type": "code",
      "metadata": {
        "id": "posE-1QzMYuY",
        "colab_type": "code",
        "outputId": "08a479a8-bd61-4e3f-b5ca-a756a90bd85d",
        "colab": {
          "base_uri": "https://localhost:8080/",
          "height": 404
        }
      },
      "source": [
        "age_bal = age_balance1.plot(kind='bar',figsize = (10,6))\n",
        "\n",
        "# Set x ticks\n",
        "plt.xticks(np.arange(5),('<30', '30-39', '40-49', '50-59', '60+'),rotation = 'horizontal')\n",
        "\n",
        "# Set legend\n",
        "plt.legend(['Average Balance','High Balance','Low Balance','No Balance'],loc = 'best',ncol = 1)\n",
        "\n",
        "plt.ylabel('Subscription Rate')\n",
        "plt.xlabel('Age Group')\n",
        "plt.title('The Subscription Rate of Different Balance Levels in Each Age Group')\n",
        "plt.show()"
      ],
      "execution_count": 136,
      "outputs": [
        {
          "output_type": "display_data",
          "data": {
            "image/png": "[encoded data removed]",
            "text/plain": [
              "<Figure size 720x432 with 1 Axes>"
            ]
          },
          "metadata": {
            "tags": []
          }
        }
      ]
    },
    {
      "cell_type": "markdown",
      "metadata": {
        "id": "qJBi_fr5Mf8Z",
        "colab_type": "text"
      },
      "source": [
        "4.4 Visualize the subscription rate by job"
      ]
    },
    {
      "cell_type": "code",
      "metadata": {
        "id": "87JKG4VLMjZg",
        "colab_type": "code",
        "colab": {}
      },
      "source": [
        "count_job_response_pct = pd.crosstab(data7['response'],data7['job']).apply(lambda x: x/x.sum() * 100)\n",
        "count_job_response_pct = count_job_response_pct.transpose()"
      ],
      "execution_count": 0,
      "outputs": []
    },
    {
      "cell_type": "code",
      "metadata": {
        "id": "y2vyAxpwMp2S",
        "colab_type": "code",
        "outputId": "ea3161c7-5d9a-4240-cc8c-c0ca08d7f851",
        "colab": {
          "base_uri": "https://localhost:8080/",
          "height": 404
        }
      },
      "source": [
        "plot_job = count_job_response_pct['yes'].sort_values(ascending = True).plot(kind ='barh',\n",
        "                                                                           figsize = (12,6))\n",
        "                                                                               \n",
        "plt.title('Subscription Rate by Job')\n",
        "plt.xlabel('Subscription Rate')\n",
        "plt.ylabel('Job Category')\n",
        "\n",
        "# Label each bar\n",
        "for rec, label in zip(plot_job.patches,\n",
        "                      count_job_response_pct['yes'].sort_values(ascending = True).round(1).astype(str)):\n",
        "    plot_job.text(rec.get_width()+0.8, \n",
        "                  rec.get_y()+ rec.get_height()-0.5, \n",
        "                  label+'%', \n",
        "                  ha = 'center', \n",
        "                  va='bottom')"
      ],
      "execution_count": 138,
      "outputs": [
        {
          "output_type": "display_data",
          "data": {
            "image/png": "[encoded data removed]",
            "text/plain": [
              "<Figure size 864x432 with 1 Axes>"
            ]
          },
          "metadata": {
            "tags": []
          }
        }
      ]
    },
    {
      "cell_type": "markdown",
      "metadata": {
        "id": "GYAGki3gM20T",
        "colab_type": "text"
      },
      "source": [
        "4.5 Visualize the subscription and contact rate by month"
      ]
    },
    {
      "cell_type": "code",
      "metadata": {
        "id": "K85EQW5uM00v",
        "colab_type": "code",
        "colab": {}
      },
      "source": [
        "count_month_response_pct = pd.crosstab(data7['response'],data7['month_int']).apply(lambda x: x/x.sum() * 100)\n",
        "count_month_response_pct = count_month_response_pct.transpose()"
      ],
      "execution_count": 0,
      "outputs": []
    },
    {
      "cell_type": "code",
      "metadata": {
        "id": "uJIe_HeSM_v4",
        "colab_type": "code",
        "colab": {}
      },
      "source": [
        "month = pd.DataFrame(data7['month_int'].value_counts())\n",
        "month['% Contacted'] = month['month_int']*100/month['month_int'].sum()\n",
        "month['% Subscription'] = count_month_response_pct['yes']\n",
        "month.drop('month_int',axis = 1,inplace = True)\n",
        "\n",
        "month['Month'] = [5,7,8,6,11,4,2,1,10,9,3,12]\n",
        "month = month.sort_values('Month',ascending = True)"
      ],
      "execution_count": 0,
      "outputs": []
    },
    {
      "cell_type": "code",
      "metadata": {
        "id": "vKBq6vFqNILK",
        "colab_type": "code",
        "outputId": "ef01b677-fdaa-4609-cf71-6c7b05210812",
        "colab": {
          "base_uri": "https://localhost:8080/",
          "height": 404
        }
      },
      "source": [
        "plot_month = month[['% Subscription','% Contacted']].plot(kind ='line',\n",
        "                                                          figsize = (10,6),\n",
        "                                                          marker = 'o')\n",
        "\n",
        "plt.title('Subscription vs. Contact Rate by Month')\n",
        "plt.ylabel('Subscription and Contact Rate')\n",
        "plt.xlabel('Month')\n",
        "\n",
        "ticks = np.arange(1,13,1)\n",
        "plt.xticks(ticks)\n",
        "\n",
        "# Annotation: peak of contact\n",
        "y = month['% Contacted'].max()\n",
        "x = month['% Contacted'].idxmax()\n",
        "plt.annotate('May: Peak of contact', xy=(x+0.1, y+0.1), xytext=(x+1,y+4), arrowprops=dict(facecolor='black', headwidth=6, width=1, headlength=4), horizontalalignment='left', verticalalignment='top')\n",
        "\n",
        "# Annotation: peak of subscription rate\n",
        "y = month['% Subscription'].max()\n",
        "x = month['% Subscription'].idxmax()\n",
        "plt.annotate('March: Peak Subscription rate', xy=(x+0.1, y+0.1), xytext=(x+1,y+1), arrowprops=dict(facecolor='black', headwidth=6, width=1, headlength=4), horizontalalignment='left', verticalalignment='top')\n",
        "\n",
        "plt.show()\n"
      ],
      "execution_count": 141,
      "outputs": [
        {
          "output_type": "display_data",
          "data": {
            "image/png": "[encoded data removed]",
            "text/plain": [
              "<Figure size 720x432 with 1 Axes>"
            ]
          },
          "metadata": {
            "tags": []
          }
        }
      ]
    },
    {
      "cell_type": "code",
      "metadata": {
        "id": "iBiqOJ_ao0v6",
        "colab_type": "code",
        "outputId": "286a7fd2-590c-4bd6-b5e8-aa44e97ba6a5",
        "colab": {
          "base_uri": "https://localhost:8080/",
          "height": 522
        }
      },
      "source": [
        "dataset=data7\n",
        "dataset"
      ],
      "execution_count": 142,
      "outputs": [
        {
          "output_type": "execute_result",
          "data": {
            "text/html": [
              "<div>\n",
              "<style scoped>\n",
              "    .dataframe tbody tr th:only-of-type {\n",
              "        vertical-align: middle;\n",
              "    }\n",
              "\n",
              "    .dataframe tbody tr th {\n",
              "        vertical-align: top;\n",
              "    }\n",
              "\n",
              "    .dataframe thead th {\n",
              "        text-align: right;\n",
              "    }\n",
              "</style>\n",
              "<table border=\"1\" class=\"dataframe\">\n",
              "  <thead>\n",
              "    <tr style=\"text-align: right;\">\n",
              "      <th></th>\n",
              "      <th>age</th>\n",
              "      <th>job</th>\n",
              "      <th>marital</th>\n",
              "      <th>education</th>\n",
              "      <th>default</th>\n",
              "      <th>balance</th>\n",
              "      <th>housing</th>\n",
              "      <th>loan</th>\n",
              "      <th>day</th>\n",
              "      <th>month</th>\n",
              "      <th>duration</th>\n",
              "      <th>campaign</th>\n",
              "      <th>pdays</th>\n",
              "      <th>previous</th>\n",
              "      <th>poutcome</th>\n",
              "      <th>response</th>\n",
              "      <th>response_binary</th>\n",
              "      <th>month_int</th>\n",
              "      <th>age_group</th>\n",
              "      <th>balance_group</th>\n",
              "    </tr>\n",
              "  </thead>\n",
              "  <tbody>\n",
              "    <tr>\n",
              "      <th>0</th>\n",
              "      <td>30</td>\n",
              "      <td>unemployed</td>\n",
              "      <td>married</td>\n",
              "      <td>primary</td>\n",
              "      <td>no</td>\n",
              "      <td>1787</td>\n",
              "      <td>no</td>\n",
              "      <td>no</td>\n",
              "      <td>19</td>\n",
              "      <td>oct</td>\n",
              "      <td>1.32</td>\n",
              "      <td>1</td>\n",
              "      <td>-1</td>\n",
              "      <td>0</td>\n",
              "      <td>unknown</td>\n",
              "      <td>no</td>\n",
              "      <td>0</td>\n",
              "      <td>10.0</td>\n",
              "      <td>30.0</td>\n",
              "      <td>average balance</td>\n",
              "    </tr>\n",
              "    <tr>\n",
              "      <th>1</th>\n",
              "      <td>33</td>\n",
              "      <td>services</td>\n",
              "      <td>married</td>\n",
              "      <td>secondary</td>\n",
              "      <td>no</td>\n",
              "      <td>4789</td>\n",
              "      <td>yes</td>\n",
              "      <td>yes</td>\n",
              "      <td>11</td>\n",
              "      <td>may</td>\n",
              "      <td>3.67</td>\n",
              "      <td>1</td>\n",
              "      <td>339</td>\n",
              "      <td>4</td>\n",
              "      <td>failure</td>\n",
              "      <td>no</td>\n",
              "      <td>0</td>\n",
              "      <td>5.0</td>\n",
              "      <td>30.0</td>\n",
              "      <td>average balance</td>\n",
              "    </tr>\n",
              "    <tr>\n",
              "      <th>2</th>\n",
              "      <td>35</td>\n",
              "      <td>management</td>\n",
              "      <td>single</td>\n",
              "      <td>tertiary</td>\n",
              "      <td>no</td>\n",
              "      <td>1350</td>\n",
              "      <td>yes</td>\n",
              "      <td>no</td>\n",
              "      <td>16</td>\n",
              "      <td>apr</td>\n",
              "      <td>3.08</td>\n",
              "      <td>1</td>\n",
              "      <td>330</td>\n",
              "      <td>1</td>\n",
              "      <td>failure</td>\n",
              "      <td>no</td>\n",
              "      <td>0</td>\n",
              "      <td>4.0</td>\n",
              "      <td>30.0</td>\n",
              "      <td>average balance</td>\n",
              "    </tr>\n",
              "    <tr>\n",
              "      <th>3</th>\n",
              "      <td>30</td>\n",
              "      <td>management</td>\n",
              "      <td>married</td>\n",
              "      <td>tertiary</td>\n",
              "      <td>no</td>\n",
              "      <td>1476</td>\n",
              "      <td>yes</td>\n",
              "      <td>yes</td>\n",
              "      <td>3</td>\n",
              "      <td>jun</td>\n",
              "      <td>3.32</td>\n",
              "      <td>4</td>\n",
              "      <td>-1</td>\n",
              "      <td>0</td>\n",
              "      <td>unknown</td>\n",
              "      <td>no</td>\n",
              "      <td>0</td>\n",
              "      <td>6.0</td>\n",
              "      <td>30.0</td>\n",
              "      <td>average balance</td>\n",
              "    </tr>\n",
              "    <tr>\n",
              "      <th>4</th>\n",
              "      <td>59</td>\n",
              "      <td>blue-collar</td>\n",
              "      <td>married</td>\n",
              "      <td>secondary</td>\n",
              "      <td>no</td>\n",
              "      <td>0</td>\n",
              "      <td>yes</td>\n",
              "      <td>no</td>\n",
              "      <td>5</td>\n",
              "      <td>may</td>\n",
              "      <td>3.77</td>\n",
              "      <td>1</td>\n",
              "      <td>-1</td>\n",
              "      <td>0</td>\n",
              "      <td>unknown</td>\n",
              "      <td>no</td>\n",
              "      <td>0</td>\n",
              "      <td>5.0</td>\n",
              "      <td>50.0</td>\n",
              "      <td>no balance</td>\n",
              "    </tr>\n",
              "    <tr>\n",
              "      <th>...</th>\n",
              "      <td>...</td>\n",
              "      <td>...</td>\n",
              "      <td>...</td>\n",
              "      <td>...</td>\n",
              "      <td>...</td>\n",
              "      <td>...</td>\n",
              "      <td>...</td>\n",
              "      <td>...</td>\n",
              "      <td>...</td>\n",
              "      <td>...</td>\n",
              "      <td>...</td>\n",
              "      <td>...</td>\n",
              "      <td>...</td>\n",
              "      <td>...</td>\n",
              "      <td>...</td>\n",
              "      <td>...</td>\n",
              "      <td>...</td>\n",
              "      <td>...</td>\n",
              "      <td>...</td>\n",
              "      <td>...</td>\n",
              "    </tr>\n",
              "    <tr>\n",
              "      <th>4514</th>\n",
              "      <td>38</td>\n",
              "      <td>blue-collar</td>\n",
              "      <td>married</td>\n",
              "      <td>secondary</td>\n",
              "      <td>no</td>\n",
              "      <td>1205</td>\n",
              "      <td>yes</td>\n",
              "      <td>no</td>\n",
              "      <td>20</td>\n",
              "      <td>apr</td>\n",
              "      <td>0.75</td>\n",
              "      <td>4</td>\n",
              "      <td>153</td>\n",
              "      <td>1</td>\n",
              "      <td>failure</td>\n",
              "      <td>no</td>\n",
              "      <td>0</td>\n",
              "      <td>4.0</td>\n",
              "      <td>30.0</td>\n",
              "      <td>average balance</td>\n",
              "    </tr>\n",
              "    <tr>\n",
              "      <th>4515</th>\n",
              "      <td>32</td>\n",
              "      <td>services</td>\n",
              "      <td>single</td>\n",
              "      <td>secondary</td>\n",
              "      <td>no</td>\n",
              "      <td>473</td>\n",
              "      <td>yes</td>\n",
              "      <td>no</td>\n",
              "      <td>7</td>\n",
              "      <td>jul</td>\n",
              "      <td>10.40</td>\n",
              "      <td>5</td>\n",
              "      <td>-1</td>\n",
              "      <td>0</td>\n",
              "      <td>unknown</td>\n",
              "      <td>no</td>\n",
              "      <td>0</td>\n",
              "      <td>7.0</td>\n",
              "      <td>30.0</td>\n",
              "      <td>low balance</td>\n",
              "    </tr>\n",
              "    <tr>\n",
              "      <th>4516</th>\n",
              "      <td>33</td>\n",
              "      <td>services</td>\n",
              "      <td>married</td>\n",
              "      <td>secondary</td>\n",
              "      <td>no</td>\n",
              "      <td>-333</td>\n",
              "      <td>yes</td>\n",
              "      <td>no</td>\n",
              "      <td>30</td>\n",
              "      <td>jul</td>\n",
              "      <td>5.48</td>\n",
              "      <td>5</td>\n",
              "      <td>-1</td>\n",
              "      <td>0</td>\n",
              "      <td>unknown</td>\n",
              "      <td>no</td>\n",
              "      <td>0</td>\n",
              "      <td>7.0</td>\n",
              "      <td>30.0</td>\n",
              "      <td>no balance</td>\n",
              "    </tr>\n",
              "    <tr>\n",
              "      <th>4517</th>\n",
              "      <td>57</td>\n",
              "      <td>self-employed</td>\n",
              "      <td>married</td>\n",
              "      <td>tertiary</td>\n",
              "      <td>yes</td>\n",
              "      <td>-3313</td>\n",
              "      <td>yes</td>\n",
              "      <td>yes</td>\n",
              "      <td>9</td>\n",
              "      <td>may</td>\n",
              "      <td>2.55</td>\n",
              "      <td>1</td>\n",
              "      <td>-1</td>\n",
              "      <td>0</td>\n",
              "      <td>unknown</td>\n",
              "      <td>no</td>\n",
              "      <td>0</td>\n",
              "      <td>5.0</td>\n",
              "      <td>50.0</td>\n",
              "      <td>no balance</td>\n",
              "    </tr>\n",
              "    <tr>\n",
              "      <th>4518</th>\n",
              "      <td>57</td>\n",
              "      <td>technician</td>\n",
              "      <td>married</td>\n",
              "      <td>secondary</td>\n",
              "      <td>no</td>\n",
              "      <td>295</td>\n",
              "      <td>no</td>\n",
              "      <td>no</td>\n",
              "      <td>19</td>\n",
              "      <td>aug</td>\n",
              "      <td>2.52</td>\n",
              "      <td>11</td>\n",
              "      <td>-1</td>\n",
              "      <td>0</td>\n",
              "      <td>unknown</td>\n",
              "      <td>no</td>\n",
              "      <td>0</td>\n",
              "      <td>8.0</td>\n",
              "      <td>50.0</td>\n",
              "      <td>low balance</td>\n",
              "    </tr>\n",
              "  </tbody>\n",
              "</table>\n",
              "<p>4054 rows × 20 columns</p>\n",
              "</div>"
            ],
            "text/plain": [
              "      age            job  marital  ... month_int age_group    balance_group\n",
              "0      30     unemployed  married  ...      10.0      30.0  average balance\n",
              "1      33       services  married  ...       5.0      30.0  average balance\n",
              "2      35     management   single  ...       4.0      30.0  average balance\n",
              "3      30     management  married  ...       6.0      30.0  average balance\n",
              "4      59    blue-collar  married  ...       5.0      50.0       no balance\n",
              "...   ...            ...      ...  ...       ...       ...              ...\n",
              "4514   38    blue-collar  married  ...       4.0      30.0  average balance\n",
              "4515   32       services   single  ...       7.0      30.0      low balance\n",
              "4516   33       services  married  ...       7.0      30.0       no balance\n",
              "4517   57  self-employed  married  ...       5.0      50.0       no balance\n",
              "4518   57     technician  married  ...       8.0      50.0      low balance\n",
              "\n",
              "[4054 rows x 20 columns]"
            ]
          },
          "metadata": {
            "tags": []
          },
          "execution_count": 142
        }
      ]
    },
    {
      "cell_type": "markdown",
      "metadata": {
        "id": "8V3nY3IRMuhG",
        "colab_type": "text"
      },
      "source": [
        "## Prepare Data for Classification"
      ]
    },
    {
      "cell_type": "code",
      "metadata": {
        "id": "NMXAe8ZwMtj0",
        "colab_type": "code",
        "outputId": "d66ff9cf-3d92-4423-c70b-5b4b9622db17",
        "colab": {
          "base_uri": "https://localhost:8080/",
          "height": 522
        }
      },
      "source": [
        "dataset"
      ],
      "execution_count": 143,
      "outputs": [
        {
          "output_type": "execute_result",
          "data": {
            "text/html": [
              "<div>\n",
              "<style scoped>\n",
              "    .dataframe tbody tr th:only-of-type {\n",
              "        vertical-align: middle;\n",
              "    }\n",
              "\n",
              "    .dataframe tbody tr th {\n",
              "        vertical-align: top;\n",
              "    }\n",
              "\n",
              "    .dataframe thead th {\n",
              "        text-align: right;\n",
              "    }\n",
              "</style>\n",
              "<table border=\"1\" class=\"dataframe\">\n",
              "  <thead>\n",
              "    <tr style=\"text-align: right;\">\n",
              "      <th></th>\n",
              "      <th>age</th>\n",
              "      <th>job</th>\n",
              "      <th>marital</th>\n",
              "      <th>education</th>\n",
              "      <th>default</th>\n",
              "      <th>balance</th>\n",
              "      <th>housing</th>\n",
              "      <th>loan</th>\n",
              "      <th>day</th>\n",
              "      <th>month</th>\n",
              "      <th>duration</th>\n",
              "      <th>campaign</th>\n",
              "      <th>pdays</th>\n",
              "      <th>previous</th>\n",
              "      <th>poutcome</th>\n",
              "      <th>response</th>\n",
              "      <th>response_binary</th>\n",
              "      <th>month_int</th>\n",
              "      <th>age_group</th>\n",
              "      <th>balance_group</th>\n",
              "    </tr>\n",
              "  </thead>\n",
              "  <tbody>\n",
              "    <tr>\n",
              "      <th>0</th>\n",
              "      <td>30</td>\n",
              "      <td>unemployed</td>\n",
              "      <td>married</td>\n",
              "      <td>primary</td>\n",
              "      <td>no</td>\n",
              "      <td>1787</td>\n",
              "      <td>no</td>\n",
              "      <td>no</td>\n",
              "      <td>19</td>\n",
              "      <td>oct</td>\n",
              "      <td>1.32</td>\n",
              "      <td>1</td>\n",
              "      <td>-1</td>\n",
              "      <td>0</td>\n",
              "      <td>unknown</td>\n",
              "      <td>no</td>\n",
              "      <td>0</td>\n",
              "      <td>10.0</td>\n",
              "      <td>30.0</td>\n",
              "      <td>average balance</td>\n",
              "    </tr>\n",
              "    <tr>\n",
              "      <th>1</th>\n",
              "      <td>33</td>\n",
              "      <td>services</td>\n",
              "      <td>married</td>\n",
              "      <td>secondary</td>\n",
              "      <td>no</td>\n",
              "      <td>4789</td>\n",
              "      <td>yes</td>\n",
              "      <td>yes</td>\n",
              "      <td>11</td>\n",
              "      <td>may</td>\n",
              "      <td>3.67</td>\n",
              "      <td>1</td>\n",
              "      <td>339</td>\n",
              "      <td>4</td>\n",
              "      <td>failure</td>\n",
              "      <td>no</td>\n",
              "      <td>0</td>\n",
              "      <td>5.0</td>\n",
              "      <td>30.0</td>\n",
              "      <td>average balance</td>\n",
              "    </tr>\n",
              "    <tr>\n",
              "      <th>2</th>\n",
              "      <td>35</td>\n",
              "      <td>management</td>\n",
              "      <td>single</td>\n",
              "      <td>tertiary</td>\n",
              "      <td>no</td>\n",
              "      <td>1350</td>\n",
              "      <td>yes</td>\n",
              "      <td>no</td>\n",
              "      <td>16</td>\n",
              "      <td>apr</td>\n",
              "      <td>3.08</td>\n",
              "      <td>1</td>\n",
              "      <td>330</td>\n",
              "      <td>1</td>\n",
              "      <td>failure</td>\n",
              "      <td>no</td>\n",
              "      <td>0</td>\n",
              "      <td>4.0</td>\n",
              "      <td>30.0</td>\n",
              "      <td>average balance</td>\n",
              "    </tr>\n",
              "    <tr>\n",
              "      <th>3</th>\n",
              "      <td>30</td>\n",
              "      <td>management</td>\n",
              "      <td>married</td>\n",
              "      <td>tertiary</td>\n",
              "      <td>no</td>\n",
              "      <td>1476</td>\n",
              "      <td>yes</td>\n",
              "      <td>yes</td>\n",
              "      <td>3</td>\n",
              "      <td>jun</td>\n",
              "      <td>3.32</td>\n",
              "      <td>4</td>\n",
              "      <td>-1</td>\n",
              "      <td>0</td>\n",
              "      <td>unknown</td>\n",
              "      <td>no</td>\n",
              "      <td>0</td>\n",
              "      <td>6.0</td>\n",
              "      <td>30.0</td>\n",
              "      <td>average balance</td>\n",
              "    </tr>\n",
              "    <tr>\n",
              "      <th>4</th>\n",
              "      <td>59</td>\n",
              "      <td>blue-collar</td>\n",
              "      <td>married</td>\n",
              "      <td>secondary</td>\n",
              "      <td>no</td>\n",
              "      <td>0</td>\n",
              "      <td>yes</td>\n",
              "      <td>no</td>\n",
              "      <td>5</td>\n",
              "      <td>may</td>\n",
              "      <td>3.77</td>\n",
              "      <td>1</td>\n",
              "      <td>-1</td>\n",
              "      <td>0</td>\n",
              "      <td>unknown</td>\n",
              "      <td>no</td>\n",
              "      <td>0</td>\n",
              "      <td>5.0</td>\n",
              "      <td>50.0</td>\n",
              "      <td>no balance</td>\n",
              "    </tr>\n",
              "    <tr>\n",
              "      <th>...</th>\n",
              "      <td>...</td>\n",
              "      <td>...</td>\n",
              "      <td>...</td>\n",
              "      <td>...</td>\n",
              "      <td>...</td>\n",
              "      <td>...</td>\n",
              "      <td>...</td>\n",
              "      <td>...</td>\n",
              "      <td>...</td>\n",
              "      <td>...</td>\n",
              "      <td>...</td>\n",
              "      <td>...</td>\n",
              "      <td>...</td>\n",
              "      <td>...</td>\n",
              "      <td>...</td>\n",
              "      <td>...</td>\n",
              "      <td>...</td>\n",
              "      <td>...</td>\n",
              "      <td>...</td>\n",
              "      <td>...</td>\n",
              "    </tr>\n",
              "    <tr>\n",
              "      <th>4514</th>\n",
              "      <td>38</td>\n",
              "      <td>blue-collar</td>\n",
              "      <td>married</td>\n",
              "      <td>secondary</td>\n",
              "      <td>no</td>\n",
              "      <td>1205</td>\n",
              "      <td>yes</td>\n",
              "      <td>no</td>\n",
              "      <td>20</td>\n",
              "      <td>apr</td>\n",
              "      <td>0.75</td>\n",
              "      <td>4</td>\n",
              "      <td>153</td>\n",
              "      <td>1</td>\n",
              "      <td>failure</td>\n",
              "      <td>no</td>\n",
              "      <td>0</td>\n",
              "      <td>4.0</td>\n",
              "      <td>30.0</td>\n",
              "      <td>average balance</td>\n",
              "    </tr>\n",
              "    <tr>\n",
              "      <th>4515</th>\n",
              "      <td>32</td>\n",
              "      <td>services</td>\n",
              "      <td>single</td>\n",
              "      <td>secondary</td>\n",
              "      <td>no</td>\n",
              "      <td>473</td>\n",
              "      <td>yes</td>\n",
              "      <td>no</td>\n",
              "      <td>7</td>\n",
              "      <td>jul</td>\n",
              "      <td>10.40</td>\n",
              "      <td>5</td>\n",
              "      <td>-1</td>\n",
              "      <td>0</td>\n",
              "      <td>unknown</td>\n",
              "      <td>no</td>\n",
              "      <td>0</td>\n",
              "      <td>7.0</td>\n",
              "      <td>30.0</td>\n",
              "      <td>low balance</td>\n",
              "    </tr>\n",
              "    <tr>\n",
              "      <th>4516</th>\n",
              "      <td>33</td>\n",
              "      <td>services</td>\n",
              "      <td>married</td>\n",
              "      <td>secondary</td>\n",
              "      <td>no</td>\n",
              "      <td>-333</td>\n",
              "      <td>yes</td>\n",
              "      <td>no</td>\n",
              "      <td>30</td>\n",
              "      <td>jul</td>\n",
              "      <td>5.48</td>\n",
              "      <td>5</td>\n",
              "      <td>-1</td>\n",
              "      <td>0</td>\n",
              "      <td>unknown</td>\n",
              "      <td>no</td>\n",
              "      <td>0</td>\n",
              "      <td>7.0</td>\n",
              "      <td>30.0</td>\n",
              "      <td>no balance</td>\n",
              "    </tr>\n",
              "    <tr>\n",
              "      <th>4517</th>\n",
              "      <td>57</td>\n",
              "      <td>self-employed</td>\n",
              "      <td>married</td>\n",
              "      <td>tertiary</td>\n",
              "      <td>yes</td>\n",
              "      <td>-3313</td>\n",
              "      <td>yes</td>\n",
              "      <td>yes</td>\n",
              "      <td>9</td>\n",
              "      <td>may</td>\n",
              "      <td>2.55</td>\n",
              "      <td>1</td>\n",
              "      <td>-1</td>\n",
              "      <td>0</td>\n",
              "      <td>unknown</td>\n",
              "      <td>no</td>\n",
              "      <td>0</td>\n",
              "      <td>5.0</td>\n",
              "      <td>50.0</td>\n",
              "      <td>no balance</td>\n",
              "    </tr>\n",
              "    <tr>\n",
              "      <th>4518</th>\n",
              "      <td>57</td>\n",
              "      <td>technician</td>\n",
              "      <td>married</td>\n",
              "      <td>secondary</td>\n",
              "      <td>no</td>\n",
              "      <td>295</td>\n",
              "      <td>no</td>\n",
              "      <td>no</td>\n",
              "      <td>19</td>\n",
              "      <td>aug</td>\n",
              "      <td>2.52</td>\n",
              "      <td>11</td>\n",
              "      <td>-1</td>\n",
              "      <td>0</td>\n",
              "      <td>unknown</td>\n",
              "      <td>no</td>\n",
              "      <td>0</td>\n",
              "      <td>8.0</td>\n",
              "      <td>50.0</td>\n",
              "      <td>low balance</td>\n",
              "    </tr>\n",
              "  </tbody>\n",
              "</table>\n",
              "<p>4054 rows × 20 columns</p>\n",
              "</div>"
            ],
            "text/plain": [
              "      age            job  marital  ... month_int age_group    balance_group\n",
              "0      30     unemployed  married  ...      10.0      30.0  average balance\n",
              "1      33       services  married  ...       5.0      30.0  average balance\n",
              "2      35     management   single  ...       4.0      30.0  average balance\n",
              "3      30     management  married  ...       6.0      30.0  average balance\n",
              "4      59    blue-collar  married  ...       5.0      50.0       no balance\n",
              "...   ...            ...      ...  ...       ...       ...              ...\n",
              "4514   38    blue-collar  married  ...       4.0      30.0  average balance\n",
              "4515   32       services   single  ...       7.0      30.0      low balance\n",
              "4516   33       services  married  ...       7.0      30.0       no balance\n",
              "4517   57  self-employed  married  ...       5.0      50.0       no balance\n",
              "4518   57     technician  married  ...       8.0      50.0      low balance\n",
              "\n",
              "[4054 rows x 20 columns]"
            ]
          },
          "metadata": {
            "tags": []
          },
          "execution_count": 143
        }
      ]
    },
    {
      "cell_type": "markdown",
      "metadata": {
        "id": "13G33lEiJ3W4",
        "colab_type": "text"
      },
      "source": [
        "Dropping martial column from the dataset"
      ]
    },
    {
      "cell_type": "code",
      "metadata": {
        "id": "lCI0S5-ZOBjl",
        "colab_type": "code",
        "colab": {}
      },
      "source": [
        "dataset.drop(['marital'],axis=1, inplace=True)\n",
        "dataset1 = dataset.iloc[:, 0:7]"
      ],
      "execution_count": 0,
      "outputs": []
    },
    {
      "cell_type": "markdown",
      "metadata": {
        "id": "QxyPoUY-Vm-D",
        "colab_type": "text"
      },
      "source": [
        "Selecting first seven columns for dataset1"
      ]
    },
    {
      "cell_type": "code",
      "metadata": {
        "id": "q3bBZEWCODRB",
        "colab_type": "code",
        "outputId": "c8402c8e-b7a8-4c9e-b7d5-a1155f372c3d",
        "colab": {
          "base_uri": "https://localhost:8080/",
          "height": 402
        }
      },
      "source": [
        "dataset1"
      ],
      "execution_count": 145,
      "outputs": [
        {
          "output_type": "execute_result",
          "data": {
            "text/html": [
              "<div>\n",
              "<style scoped>\n",
              "    .dataframe tbody tr th:only-of-type {\n",
              "        vertical-align: middle;\n",
              "    }\n",
              "\n",
              "    .dataframe tbody tr th {\n",
              "        vertical-align: top;\n",
              "    }\n",
              "\n",
              "    .dataframe thead th {\n",
              "        text-align: right;\n",
              "    }\n",
              "</style>\n",
              "<table border=\"1\" class=\"dataframe\">\n",
              "  <thead>\n",
              "    <tr style=\"text-align: right;\">\n",
              "      <th></th>\n",
              "      <th>age</th>\n",
              "      <th>job</th>\n",
              "      <th>education</th>\n",
              "      <th>default</th>\n",
              "      <th>balance</th>\n",
              "      <th>housing</th>\n",
              "      <th>loan</th>\n",
              "    </tr>\n",
              "  </thead>\n",
              "  <tbody>\n",
              "    <tr>\n",
              "      <th>0</th>\n",
              "      <td>30</td>\n",
              "      <td>unemployed</td>\n",
              "      <td>primary</td>\n",
              "      <td>no</td>\n",
              "      <td>1787</td>\n",
              "      <td>no</td>\n",
              "      <td>no</td>\n",
              "    </tr>\n",
              "    <tr>\n",
              "      <th>1</th>\n",
              "      <td>33</td>\n",
              "      <td>services</td>\n",
              "      <td>secondary</td>\n",
              "      <td>no</td>\n",
              "      <td>4789</td>\n",
              "      <td>yes</td>\n",
              "      <td>yes</td>\n",
              "    </tr>\n",
              "    <tr>\n",
              "      <th>2</th>\n",
              "      <td>35</td>\n",
              "      <td>management</td>\n",
              "      <td>tertiary</td>\n",
              "      <td>no</td>\n",
              "      <td>1350</td>\n",
              "      <td>yes</td>\n",
              "      <td>no</td>\n",
              "    </tr>\n",
              "    <tr>\n",
              "      <th>3</th>\n",
              "      <td>30</td>\n",
              "      <td>management</td>\n",
              "      <td>tertiary</td>\n",
              "      <td>no</td>\n",
              "      <td>1476</td>\n",
              "      <td>yes</td>\n",
              "      <td>yes</td>\n",
              "    </tr>\n",
              "    <tr>\n",
              "      <th>4</th>\n",
              "      <td>59</td>\n",
              "      <td>blue-collar</td>\n",
              "      <td>secondary</td>\n",
              "      <td>no</td>\n",
              "      <td>0</td>\n",
              "      <td>yes</td>\n",
              "      <td>no</td>\n",
              "    </tr>\n",
              "    <tr>\n",
              "      <th>...</th>\n",
              "      <td>...</td>\n",
              "      <td>...</td>\n",
              "      <td>...</td>\n",
              "      <td>...</td>\n",
              "      <td>...</td>\n",
              "      <td>...</td>\n",
              "      <td>...</td>\n",
              "    </tr>\n",
              "    <tr>\n",
              "      <th>4514</th>\n",
              "      <td>38</td>\n",
              "      <td>blue-collar</td>\n",
              "      <td>secondary</td>\n",
              "      <td>no</td>\n",
              "      <td>1205</td>\n",
              "      <td>yes</td>\n",
              "      <td>no</td>\n",
              "    </tr>\n",
              "    <tr>\n",
              "      <th>4515</th>\n",
              "      <td>32</td>\n",
              "      <td>services</td>\n",
              "      <td>secondary</td>\n",
              "      <td>no</td>\n",
              "      <td>473</td>\n",
              "      <td>yes</td>\n",
              "      <td>no</td>\n",
              "    </tr>\n",
              "    <tr>\n",
              "      <th>4516</th>\n",
              "      <td>33</td>\n",
              "      <td>services</td>\n",
              "      <td>secondary</td>\n",
              "      <td>no</td>\n",
              "      <td>-333</td>\n",
              "      <td>yes</td>\n",
              "      <td>no</td>\n",
              "    </tr>\n",
              "    <tr>\n",
              "      <th>4517</th>\n",
              "      <td>57</td>\n",
              "      <td>self-employed</td>\n",
              "      <td>tertiary</td>\n",
              "      <td>yes</td>\n",
              "      <td>-3313</td>\n",
              "      <td>yes</td>\n",
              "      <td>yes</td>\n",
              "    </tr>\n",
              "    <tr>\n",
              "      <th>4518</th>\n",
              "      <td>57</td>\n",
              "      <td>technician</td>\n",
              "      <td>secondary</td>\n",
              "      <td>no</td>\n",
              "      <td>295</td>\n",
              "      <td>no</td>\n",
              "      <td>no</td>\n",
              "    </tr>\n",
              "  </tbody>\n",
              "</table>\n",
              "<p>4054 rows × 7 columns</p>\n",
              "</div>"
            ],
            "text/plain": [
              "      age            job  education default  balance housing loan\n",
              "0      30     unemployed    primary      no     1787      no   no\n",
              "1      33       services  secondary      no     4789     yes  yes\n",
              "2      35     management   tertiary      no     1350     yes   no\n",
              "3      30     management   tertiary      no     1476     yes  yes\n",
              "4      59    blue-collar  secondary      no        0     yes   no\n",
              "...   ...            ...        ...     ...      ...     ...  ...\n",
              "4514   38    blue-collar  secondary      no     1205     yes   no\n",
              "4515   32       services  secondary      no      473     yes   no\n",
              "4516   33       services  secondary      no     -333     yes   no\n",
              "4517   57  self-employed   tertiary     yes    -3313     yes  yes\n",
              "4518   57     technician  secondary      no      295      no   no\n",
              "\n",
              "[4054 rows x 7 columns]"
            ]
          },
          "metadata": {
            "tags": []
          },
          "execution_count": 145
        }
      ]
    },
    {
      "cell_type": "markdown",
      "metadata": {
        "id": "rNSSOH8lKMPU",
        "colab_type": "text"
      },
      "source": [
        "Transforming categorical data into binary format"
      ]
    },
    {
      "cell_type": "code",
      "metadata": {
        "id": "rLjCJv1qOMf3",
        "colab_type": "code",
        "colab": {}
      },
      "source": [
        "dataset2 = pd.get_dummies(dataset1, columns = ['job'])\n",
        "dataset2 = pd.get_dummies(dataset2, columns = ['education'])\n",
        "dataset2['housing'] = dataset2['housing'].map({'yes': 1, 'no': 0})\n",
        "dataset2['default'] = dataset2['default'].map({'yes': 1, 'no': 0})\n",
        "dataset2['loan'] = dataset2['loan'].map({'yes': 1, 'no': 0})\n",
        "dataset_response = pd.DataFrame(dataset['response_binary'])"
      ],
      "execution_count": 0,
      "outputs": []
    },
    {
      "cell_type": "code",
      "metadata": {
        "id": "xDeEAVZPORLa",
        "colab_type": "code",
        "outputId": "9acf9d20-45d0-4a5f-ff48-23a6e7119faf",
        "colab": {
          "base_uri": "https://localhost:8080/",
          "height": 438
        }
      },
      "source": [
        "dataset3=pd.concat([dataset2,dataset_response],axis=1)\n",
        "dataset3"
      ],
      "execution_count": 147,
      "outputs": [
        {
          "output_type": "execute_result",
          "data": {
            "text/html": [
              "<div>\n",
              "<style scoped>\n",
              "    .dataframe tbody tr th:only-of-type {\n",
              "        vertical-align: middle;\n",
              "    }\n",
              "\n",
              "    .dataframe tbody tr th {\n",
              "        vertical-align: top;\n",
              "    }\n",
              "\n",
              "    .dataframe thead th {\n",
              "        text-align: right;\n",
              "    }\n",
              "</style>\n",
              "<table border=\"1\" class=\"dataframe\">\n",
              "  <thead>\n",
              "    <tr style=\"text-align: right;\">\n",
              "      <th></th>\n",
              "      <th>age</th>\n",
              "      <th>default</th>\n",
              "      <th>balance</th>\n",
              "      <th>housing</th>\n",
              "      <th>loan</th>\n",
              "      <th>job_admin.</th>\n",
              "      <th>job_blue-collar</th>\n",
              "      <th>job_entrepreneur</th>\n",
              "      <th>job_housemaid</th>\n",
              "      <th>job_management</th>\n",
              "      <th>job_other</th>\n",
              "      <th>job_retired</th>\n",
              "      <th>job_self-employed</th>\n",
              "      <th>job_services</th>\n",
              "      <th>job_student</th>\n",
              "      <th>job_technician</th>\n",
              "      <th>job_unemployed</th>\n",
              "      <th>education_primary</th>\n",
              "      <th>education_secondary</th>\n",
              "      <th>education_tertiary</th>\n",
              "      <th>response_binary</th>\n",
              "    </tr>\n",
              "  </thead>\n",
              "  <tbody>\n",
              "    <tr>\n",
              "      <th>0</th>\n",
              "      <td>30</td>\n",
              "      <td>0</td>\n",
              "      <td>1787</td>\n",
              "      <td>0</td>\n",
              "      <td>0</td>\n",
              "      <td>0</td>\n",
              "      <td>0</td>\n",
              "      <td>0</td>\n",
              "      <td>0</td>\n",
              "      <td>0</td>\n",
              "      <td>0</td>\n",
              "      <td>0</td>\n",
              "      <td>0</td>\n",
              "      <td>0</td>\n",
              "      <td>0</td>\n",
              "      <td>0</td>\n",
              "      <td>1</td>\n",
              "      <td>1</td>\n",
              "      <td>0</td>\n",
              "      <td>0</td>\n",
              "      <td>0</td>\n",
              "    </tr>\n",
              "    <tr>\n",
              "      <th>1</th>\n",
              "      <td>33</td>\n",
              "      <td>0</td>\n",
              "      <td>4789</td>\n",
              "      <td>1</td>\n",
              "      <td>1</td>\n",
              "      <td>0</td>\n",
              "      <td>0</td>\n",
              "      <td>0</td>\n",
              "      <td>0</td>\n",
              "      <td>0</td>\n",
              "      <td>0</td>\n",
              "      <td>0</td>\n",
              "      <td>0</td>\n",
              "      <td>1</td>\n",
              "      <td>0</td>\n",
              "      <td>0</td>\n",
              "      <td>0</td>\n",
              "      <td>0</td>\n",
              "      <td>1</td>\n",
              "      <td>0</td>\n",
              "      <td>0</td>\n",
              "    </tr>\n",
              "    <tr>\n",
              "      <th>2</th>\n",
              "      <td>35</td>\n",
              "      <td>0</td>\n",
              "      <td>1350</td>\n",
              "      <td>1</td>\n",
              "      <td>0</td>\n",
              "      <td>0</td>\n",
              "      <td>0</td>\n",
              "      <td>0</td>\n",
              "      <td>0</td>\n",
              "      <td>1</td>\n",
              "      <td>0</td>\n",
              "      <td>0</td>\n",
              "      <td>0</td>\n",
              "      <td>0</td>\n",
              "      <td>0</td>\n",
              "      <td>0</td>\n",
              "      <td>0</td>\n",
              "      <td>0</td>\n",
              "      <td>0</td>\n",
              "      <td>1</td>\n",
              "      <td>0</td>\n",
              "    </tr>\n",
              "    <tr>\n",
              "      <th>3</th>\n",
              "      <td>30</td>\n",
              "      <td>0</td>\n",
              "      <td>1476</td>\n",
              "      <td>1</td>\n",
              "      <td>1</td>\n",
              "      <td>0</td>\n",
              "      <td>0</td>\n",
              "      <td>0</td>\n",
              "      <td>0</td>\n",
              "      <td>1</td>\n",
              "      <td>0</td>\n",
              "      <td>0</td>\n",
              "      <td>0</td>\n",
              "      <td>0</td>\n",
              "      <td>0</td>\n",
              "      <td>0</td>\n",
              "      <td>0</td>\n",
              "      <td>0</td>\n",
              "      <td>0</td>\n",
              "      <td>1</td>\n",
              "      <td>0</td>\n",
              "    </tr>\n",
              "    <tr>\n",
              "      <th>4</th>\n",
              "      <td>59</td>\n",
              "      <td>0</td>\n",
              "      <td>0</td>\n",
              "      <td>1</td>\n",
              "      <td>0</td>\n",
              "      <td>0</td>\n",
              "      <td>1</td>\n",
              "      <td>0</td>\n",
              "      <td>0</td>\n",
              "      <td>0</td>\n",
              "      <td>0</td>\n",
              "      <td>0</td>\n",
              "      <td>0</td>\n",
              "      <td>0</td>\n",
              "      <td>0</td>\n",
              "      <td>0</td>\n",
              "      <td>0</td>\n",
              "      <td>0</td>\n",
              "      <td>1</td>\n",
              "      <td>0</td>\n",
              "      <td>0</td>\n",
              "    </tr>\n",
              "    <tr>\n",
              "      <th>...</th>\n",
              "      <td>...</td>\n",
              "      <td>...</td>\n",
              "      <td>...</td>\n",
              "      <td>...</td>\n",
              "      <td>...</td>\n",
              "      <td>...</td>\n",
              "      <td>...</td>\n",
              "      <td>...</td>\n",
              "      <td>...</td>\n",
              "      <td>...</td>\n",
              "      <td>...</td>\n",
              "      <td>...</td>\n",
              "      <td>...</td>\n",
              "      <td>...</td>\n",
              "      <td>...</td>\n",
              "      <td>...</td>\n",
              "      <td>...</td>\n",
              "      <td>...</td>\n",
              "      <td>...</td>\n",
              "      <td>...</td>\n",
              "      <td>...</td>\n",
              "    </tr>\n",
              "    <tr>\n",
              "      <th>4514</th>\n",
              "      <td>38</td>\n",
              "      <td>0</td>\n",
              "      <td>1205</td>\n",
              "      <td>1</td>\n",
              "      <td>0</td>\n",
              "      <td>0</td>\n",
              "      <td>1</td>\n",
              "      <td>0</td>\n",
              "      <td>0</td>\n",
              "      <td>0</td>\n",
              "      <td>0</td>\n",
              "      <td>0</td>\n",
              "      <td>0</td>\n",
              "      <td>0</td>\n",
              "      <td>0</td>\n",
              "      <td>0</td>\n",
              "      <td>0</td>\n",
              "      <td>0</td>\n",
              "      <td>1</td>\n",
              "      <td>0</td>\n",
              "      <td>0</td>\n",
              "    </tr>\n",
              "    <tr>\n",
              "      <th>4515</th>\n",
              "      <td>32</td>\n",
              "      <td>0</td>\n",
              "      <td>473</td>\n",
              "      <td>1</td>\n",
              "      <td>0</td>\n",
              "      <td>0</td>\n",
              "      <td>0</td>\n",
              "      <td>0</td>\n",
              "      <td>0</td>\n",
              "      <td>0</td>\n",
              "      <td>0</td>\n",
              "      <td>0</td>\n",
              "      <td>0</td>\n",
              "      <td>1</td>\n",
              "      <td>0</td>\n",
              "      <td>0</td>\n",
              "      <td>0</td>\n",
              "      <td>0</td>\n",
              "      <td>1</td>\n",
              "      <td>0</td>\n",
              "      <td>0</td>\n",
              "    </tr>\n",
              "    <tr>\n",
              "      <th>4516</th>\n",
              "      <td>33</td>\n",
              "      <td>0</td>\n",
              "      <td>-333</td>\n",
              "      <td>1</td>\n",
              "      <td>0</td>\n",
              "      <td>0</td>\n",
              "      <td>0</td>\n",
              "      <td>0</td>\n",
              "      <td>0</td>\n",
              "      <td>0</td>\n",
              "      <td>0</td>\n",
              "      <td>0</td>\n",
              "      <td>0</td>\n",
              "      <td>1</td>\n",
              "      <td>0</td>\n",
              "      <td>0</td>\n",
              "      <td>0</td>\n",
              "      <td>0</td>\n",
              "      <td>1</td>\n",
              "      <td>0</td>\n",
              "      <td>0</td>\n",
              "    </tr>\n",
              "    <tr>\n",
              "      <th>4517</th>\n",
              "      <td>57</td>\n",
              "      <td>1</td>\n",
              "      <td>-3313</td>\n",
              "      <td>1</td>\n",
              "      <td>1</td>\n",
              "      <td>0</td>\n",
              "      <td>0</td>\n",
              "      <td>0</td>\n",
              "      <td>0</td>\n",
              "      <td>0</td>\n",
              "      <td>0</td>\n",
              "      <td>0</td>\n",
              "      <td>1</td>\n",
              "      <td>0</td>\n",
              "      <td>0</td>\n",
              "      <td>0</td>\n",
              "      <td>0</td>\n",
              "      <td>0</td>\n",
              "      <td>0</td>\n",
              "      <td>1</td>\n",
              "      <td>0</td>\n",
              "    </tr>\n",
              "    <tr>\n",
              "      <th>4518</th>\n",
              "      <td>57</td>\n",
              "      <td>0</td>\n",
              "      <td>295</td>\n",
              "      <td>0</td>\n",
              "      <td>0</td>\n",
              "      <td>0</td>\n",
              "      <td>0</td>\n",
              "      <td>0</td>\n",
              "      <td>0</td>\n",
              "      <td>0</td>\n",
              "      <td>0</td>\n",
              "      <td>0</td>\n",
              "      <td>0</td>\n",
              "      <td>0</td>\n",
              "      <td>0</td>\n",
              "      <td>1</td>\n",
              "      <td>0</td>\n",
              "      <td>0</td>\n",
              "      <td>1</td>\n",
              "      <td>0</td>\n",
              "      <td>0</td>\n",
              "    </tr>\n",
              "  </tbody>\n",
              "</table>\n",
              "<p>4054 rows × 21 columns</p>\n",
              "</div>"
            ],
            "text/plain": [
              "      age  default  ...  education_tertiary  response_binary\n",
              "0      30        0  ...                   0                0\n",
              "1      33        0  ...                   0                0\n",
              "2      35        0  ...                   1                0\n",
              "3      30        0  ...                   1                0\n",
              "4      59        0  ...                   0                0\n",
              "...   ...      ...  ...                 ...              ...\n",
              "4514   38        0  ...                   0                0\n",
              "4515   32        0  ...                   0                0\n",
              "4516   33        0  ...                   0                0\n",
              "4517   57        1  ...                   1                0\n",
              "4518   57        0  ...                   0                0\n",
              "\n",
              "[4054 rows x 21 columns]"
            ]
          },
          "metadata": {
            "tags": []
          },
          "execution_count": 147
        }
      ]
    },
    {
      "cell_type": "markdown",
      "metadata": {
        "id": "7B-0mm2OJwHF",
        "colab_type": "text"
      },
      "source": [
        "Applying pearson correlation with the target variable(response_binary)"
      ]
    },
    {
      "cell_type": "code",
      "metadata": {
        "id": "58SpOZI9OXQ0",
        "colab_type": "code",
        "outputId": "a8b06d47-d880-4ea0-8d78-65b30fb82833",
        "colab": {
          "base_uri": "https://localhost:8080/",
          "height": 386
        }
      },
      "source": [
        "dataset3.corr('pearson')[\"response_binary\"].sort_values()"
      ],
      "execution_count": 148,
      "outputs": [
        {
          "output_type": "execute_result",
          "data": {
            "text/plain": [
              "housing               -0.108601\n",
              "loan                  -0.073980\n",
              "job_blue-collar       -0.066978\n",
              "education_primary     -0.030078\n",
              "job_services          -0.029445\n",
              "education_secondary   -0.028285\n",
              "job_entrepreneur      -0.010572\n",
              "job_technician        -0.007620\n",
              "default               -0.004889\n",
              "job_self-employed     -0.003557\n",
              "job_unemployed        -0.003201\n",
              "job_housemaid          0.003990\n",
              "job_other              0.005395\n",
              "job_admin.             0.011206\n",
              "job_management         0.026949\n",
              "age                    0.040997\n",
              "balance                0.053404\n",
              "education_tertiary     0.054476\n",
              "job_student            0.065801\n",
              "job_retired            0.085120\n",
              "response_binary        1.000000\n",
              "Name: response_binary, dtype: float64"
            ]
          },
          "metadata": {
            "tags": []
          },
          "execution_count": 148
        }
      ]
    },
    {
      "cell_type": "markdown",
      "metadata": {
        "id": "Unrgm-TMJLgj",
        "colab_type": "text"
      },
      "source": [
        "Selecting balance and age as our features for training the Model after analysis of domain knowledge"
      ]
    },
    {
      "cell_type": "code",
      "metadata": {
        "id": "1Eo1kkddCZbU",
        "colab_type": "code",
        "outputId": "424f4990-a82b-499e-a767-9af578dca520",
        "colab": {
          "base_uri": "https://localhost:8080/",
          "height": 402
        }
      },
      "source": [
        "df=pd.DataFrame(dataset3)\n",
        "features=df[['balance','age']]\n",
        "features"
      ],
      "execution_count": 149,
      "outputs": [
        {
          "output_type": "execute_result",
          "data": {
            "text/html": [
              "<div>\n",
              "<style scoped>\n",
              "    .dataframe tbody tr th:only-of-type {\n",
              "        vertical-align: middle;\n",
              "    }\n",
              "\n",
              "    .dataframe tbody tr th {\n",
              "        vertical-align: top;\n",
              "    }\n",
              "\n",
              "    .dataframe thead th {\n",
              "        text-align: right;\n",
              "    }\n",
              "</style>\n",
              "<table border=\"1\" class=\"dataframe\">\n",
              "  <thead>\n",
              "    <tr style=\"text-align: right;\">\n",
              "      <th></th>\n",
              "      <th>balance</th>\n",
              "      <th>age</th>\n",
              "    </tr>\n",
              "  </thead>\n",
              "  <tbody>\n",
              "    <tr>\n",
              "      <th>0</th>\n",
              "      <td>1787</td>\n",
              "      <td>30</td>\n",
              "    </tr>\n",
              "    <tr>\n",
              "      <th>1</th>\n",
              "      <td>4789</td>\n",
              "      <td>33</td>\n",
              "    </tr>\n",
              "    <tr>\n",
              "      <th>2</th>\n",
              "      <td>1350</td>\n",
              "      <td>35</td>\n",
              "    </tr>\n",
              "    <tr>\n",
              "      <th>3</th>\n",
              "      <td>1476</td>\n",
              "      <td>30</td>\n",
              "    </tr>\n",
              "    <tr>\n",
              "      <th>4</th>\n",
              "      <td>0</td>\n",
              "      <td>59</td>\n",
              "    </tr>\n",
              "    <tr>\n",
              "      <th>...</th>\n",
              "      <td>...</td>\n",
              "      <td>...</td>\n",
              "    </tr>\n",
              "    <tr>\n",
              "      <th>4514</th>\n",
              "      <td>1205</td>\n",
              "      <td>38</td>\n",
              "    </tr>\n",
              "    <tr>\n",
              "      <th>4515</th>\n",
              "      <td>473</td>\n",
              "      <td>32</td>\n",
              "    </tr>\n",
              "    <tr>\n",
              "      <th>4516</th>\n",
              "      <td>-333</td>\n",
              "      <td>33</td>\n",
              "    </tr>\n",
              "    <tr>\n",
              "      <th>4517</th>\n",
              "      <td>-3313</td>\n",
              "      <td>57</td>\n",
              "    </tr>\n",
              "    <tr>\n",
              "      <th>4518</th>\n",
              "      <td>295</td>\n",
              "      <td>57</td>\n",
              "    </tr>\n",
              "  </tbody>\n",
              "</table>\n",
              "<p>4054 rows × 2 columns</p>\n",
              "</div>"
            ],
            "text/plain": [
              "      balance  age\n",
              "0        1787   30\n",
              "1        4789   33\n",
              "2        1350   35\n",
              "3        1476   30\n",
              "4           0   59\n",
              "...       ...  ...\n",
              "4514     1205   38\n",
              "4515      473   32\n",
              "4516     -333   33\n",
              "4517    -3313   57\n",
              "4518      295   57\n",
              "\n",
              "[4054 rows x 2 columns]"
            ]
          },
          "metadata": {
            "tags": []
          },
          "execution_count": 149
        }
      ]
    },
    {
      "cell_type": "markdown",
      "metadata": {
        "id": "N0d58PR2W44l",
        "colab_type": "text"
      },
      "source": [
        "Selecting response_binary as target variable"
      ]
    },
    {
      "cell_type": "code",
      "metadata": {
        "id": "_yLU6kPQOuDA",
        "colab_type": "code",
        "colab": {}
      },
      "source": [
        "target=df['response_binary']"
      ],
      "execution_count": 0,
      "outputs": []
    },
    {
      "cell_type": "code",
      "metadata": {
        "id": "ot7WR36uHnNR",
        "colab_type": "code",
        "colab": {}
      },
      "source": [
        "target.columns=['target']"
      ],
      "execution_count": 0,
      "outputs": []
    },
    {
      "cell_type": "code",
      "metadata": {
        "id": "bXiIJo11RdE_",
        "colab_type": "code",
        "outputId": "a0244f5f-6d0c-47e2-cee6-2a422720d930",
        "colab": {
          "base_uri": "https://localhost:8080/",
          "height": 218
        }
      },
      "source": [
        "target"
      ],
      "execution_count": 152,
      "outputs": [
        {
          "output_type": "execute_result",
          "data": {
            "text/plain": [
              "0       0\n",
              "1       0\n",
              "2       0\n",
              "3       0\n",
              "4       0\n",
              "       ..\n",
              "4514    0\n",
              "4515    0\n",
              "4516    0\n",
              "4517    0\n",
              "4518    0\n",
              "Name: response_binary, Length: 4054, dtype: int64"
            ]
          },
          "metadata": {
            "tags": []
          },
          "execution_count": 152
        }
      ]
    },
    {
      "cell_type": "code",
      "metadata": {
        "id": "FHyNNkG91Afy",
        "colab_type": "code",
        "outputId": "e16c3ccf-ecdb-43f2-c36b-370918648b97",
        "colab": {
          "base_uri": "https://localhost:8080/",
          "height": 67
        }
      },
      "source": [
        "target.value_counts()\n"
      ],
      "execution_count": 153,
      "outputs": [
        {
          "output_type": "execute_result",
          "data": {
            "text/plain": [
              "0    3595\n",
              "1     459\n",
              "Name: response_binary, dtype: int64"
            ]
          },
          "metadata": {
            "tags": []
          },
          "execution_count": 153
        }
      ]
    },
    {
      "cell_type": "code",
      "metadata": {
        "id": "BUy5efrCKtY9",
        "colab_type": "code",
        "colab": {}
      },
      "source": [
        "X=features\n",
        "Y=target"
      ],
      "execution_count": 0,
      "outputs": []
    },
    {
      "cell_type": "markdown",
      "metadata": {
        "id": "7dc9YXhLXAc4",
        "colab_type": "text"
      },
      "source": [
        "Concating features and target into the dataframe"
      ]
    },
    {
      "cell_type": "code",
      "metadata": {
        "id": "pUERIjrMIpgO",
        "colab_type": "code",
        "colab": {}
      },
      "source": [
        "df1=pd.concat([X,Y],axis=1)"
      ],
      "execution_count": 0,
      "outputs": []
    },
    {
      "cell_type": "code",
      "metadata": {
        "id": "PULoBa1GKzmZ",
        "colab_type": "code",
        "outputId": "c7aae752-1afb-4469-9132-1e1dc7644418",
        "colab": {
          "base_uri": "https://localhost:8080/",
          "height": 252
        }
      },
      "source": [
        "print(df1)"
      ],
      "execution_count": 156,
      "outputs": [
        {
          "output_type": "stream",
          "text": [
            "      balance  age  response_binary\n",
            "0        1787   30                0\n",
            "1        4789   33                0\n",
            "2        1350   35                0\n",
            "3        1476   30                0\n",
            "4           0   59                0\n",
            "...       ...  ...              ...\n",
            "4514     1205   38                0\n",
            "4515      473   32                0\n",
            "4516     -333   33                0\n",
            "4517    -3313   57                0\n",
            "4518      295   57                0\n",
            "\n",
            "[4054 rows x 3 columns]\n"
          ],
          "name": "stdout"
        }
      ]
    },
    {
      "cell_type": "markdown",
      "metadata": {
        "id": "cwIV6kLAIUkm",
        "colab_type": "text"
      },
      "source": [
        "Scaling the features using Min-Max Scaler"
      ]
    },
    {
      "cell_type": "code",
      "metadata": {
        "id": "IGzmPvtGRuIt",
        "colab_type": "code",
        "colab": {}
      },
      "source": [
        "X = (X-X.min()) / (X.max()-X.min())"
      ],
      "execution_count": 0,
      "outputs": []
    },
    {
      "cell_type": "code",
      "metadata": {
        "id": "6XEqClO8Iylw",
        "colab_type": "code",
        "outputId": "77e6c26a-44f8-44a6-8595-d068f75f4454",
        "colab": {
          "base_uri": "https://localhost:8080/",
          "height": 402
        }
      },
      "source": [
        "X"
      ],
      "execution_count": 158,
      "outputs": [
        {
          "output_type": "execute_result",
          "data": {
            "text/html": [
              "<div>\n",
              "<style scoped>\n",
              "    .dataframe tbody tr th:only-of-type {\n",
              "        vertical-align: middle;\n",
              "    }\n",
              "\n",
              "    .dataframe tbody tr th {\n",
              "        vertical-align: top;\n",
              "    }\n",
              "\n",
              "    .dataframe thead th {\n",
              "        text-align: right;\n",
              "    }\n",
              "</style>\n",
              "<table border=\"1\" class=\"dataframe\">\n",
              "  <thead>\n",
              "    <tr style=\"text-align: right;\">\n",
              "      <th></th>\n",
              "      <th>balance</th>\n",
              "      <th>age</th>\n",
              "    </tr>\n",
              "  </thead>\n",
              "  <tbody>\n",
              "    <tr>\n",
              "      <th>0</th>\n",
              "      <td>0.372507</td>\n",
              "      <td>0.161765</td>\n",
              "    </tr>\n",
              "    <tr>\n",
              "      <th>1</th>\n",
              "      <td>0.591776</td>\n",
              "      <td>0.205882</td>\n",
              "    </tr>\n",
              "    <tr>\n",
              "      <th>2</th>\n",
              "      <td>0.340589</td>\n",
              "      <td>0.235294</td>\n",
              "    </tr>\n",
              "    <tr>\n",
              "      <th>3</th>\n",
              "      <td>0.349792</td>\n",
              "      <td>0.161765</td>\n",
              "    </tr>\n",
              "    <tr>\n",
              "      <th>4</th>\n",
              "      <td>0.241984</td>\n",
              "      <td>0.588235</td>\n",
              "    </tr>\n",
              "    <tr>\n",
              "      <th>...</th>\n",
              "      <td>...</td>\n",
              "      <td>...</td>\n",
              "    </tr>\n",
              "    <tr>\n",
              "      <th>4514</th>\n",
              "      <td>0.329998</td>\n",
              "      <td>0.279412</td>\n",
              "    </tr>\n",
              "    <tr>\n",
              "      <th>4515</th>\n",
              "      <td>0.276532</td>\n",
              "      <td>0.191176</td>\n",
              "    </tr>\n",
              "    <tr>\n",
              "      <th>4516</th>\n",
              "      <td>0.217661</td>\n",
              "      <td>0.205882</td>\n",
              "    </tr>\n",
              "    <tr>\n",
              "      <th>4517</th>\n",
              "      <td>0.000000</td>\n",
              "      <td>0.558824</td>\n",
              "    </tr>\n",
              "    <tr>\n",
              "      <th>4518</th>\n",
              "      <td>0.263531</td>\n",
              "      <td>0.558824</td>\n",
              "    </tr>\n",
              "  </tbody>\n",
              "</table>\n",
              "<p>4054 rows × 2 columns</p>\n",
              "</div>"
            ],
            "text/plain": [
              "       balance       age\n",
              "0     0.372507  0.161765\n",
              "1     0.591776  0.205882\n",
              "2     0.340589  0.235294\n",
              "3     0.349792  0.161765\n",
              "4     0.241984  0.588235\n",
              "...        ...       ...\n",
              "4514  0.329998  0.279412\n",
              "4515  0.276532  0.191176\n",
              "4516  0.217661  0.205882\n",
              "4517  0.000000  0.558824\n",
              "4518  0.263531  0.558824\n",
              "\n",
              "[4054 rows x 2 columns]"
            ]
          },
          "metadata": {
            "tags": []
          },
          "execution_count": 158
        }
      ]
    },
    {
      "cell_type": "markdown",
      "metadata": {
        "id": "HwJCiZvVIngG",
        "colab_type": "text"
      },
      "source": [
        "\n",
        "Splitting values into train and test dataset using train_test_split"
      ]
    },
    {
      "cell_type": "code",
      "metadata": {
        "id": "9ihx3Lp-RQD_",
        "colab_type": "code",
        "colab": {}
      },
      "source": [
        "xtrain, xtest, ytrain, ytest= train_test_split(X,Y, test_size=0.3)"
      ],
      "execution_count": 0,
      "outputs": []
    },
    {
      "cell_type": "code",
      "metadata": {
        "id": "yZZlH3PeSZDz",
        "colab_type": "code",
        "outputId": "7e3243e1-07a2-424d-e1f7-2a3d9f5a1068",
        "colab": {
          "base_uri": "https://localhost:8080/",
          "height": 218
        }
      },
      "source": [
        "ytest"
      ],
      "execution_count": 160,
      "outputs": [
        {
          "output_type": "execute_result",
          "data": {
            "text/plain": [
              "360     0\n",
              "1510    0\n",
              "2943    0\n",
              "1299    0\n",
              "1523    0\n",
              "       ..\n",
              "2780    1\n",
              "560     0\n",
              "3494    0\n",
              "597     0\n",
              "2857    0\n",
              "Name: response_binary, Length: 1217, dtype: int64"
            ]
          },
          "metadata": {
            "tags": []
          },
          "execution_count": 160
        }
      ]
    },
    {
      "cell_type": "code",
      "metadata": {
        "id": "xSGVQwtN1V5S",
        "colab_type": "code",
        "outputId": "5e3fde2e-720b-4c1d-96f1-48ae98b5b211",
        "colab": {
          "base_uri": "https://localhost:8080/",
          "height": 402
        }
      },
      "source": [
        "xtest"
      ],
      "execution_count": 161,
      "outputs": [
        {
          "output_type": "execute_result",
          "data": {
            "text/html": [
              "<div>\n",
              "<style scoped>\n",
              "    .dataframe tbody tr th:only-of-type {\n",
              "        vertical-align: middle;\n",
              "    }\n",
              "\n",
              "    .dataframe tbody tr th {\n",
              "        vertical-align: top;\n",
              "    }\n",
              "\n",
              "    .dataframe thead th {\n",
              "        text-align: right;\n",
              "    }\n",
              "</style>\n",
              "<table border=\"1\" class=\"dataframe\">\n",
              "  <thead>\n",
              "    <tr style=\"text-align: right;\">\n",
              "      <th></th>\n",
              "      <th>balance</th>\n",
              "      <th>age</th>\n",
              "    </tr>\n",
              "  </thead>\n",
              "  <tbody>\n",
              "    <tr>\n",
              "      <th>360</th>\n",
              "      <td>0.266745</td>\n",
              "      <td>0.250000</td>\n",
              "    </tr>\n",
              "    <tr>\n",
              "      <th>1510</th>\n",
              "      <td>0.345336</td>\n",
              "      <td>0.382353</td>\n",
              "    </tr>\n",
              "    <tr>\n",
              "      <th>2943</th>\n",
              "      <td>0.292236</td>\n",
              "      <td>0.250000</td>\n",
              "    </tr>\n",
              "    <tr>\n",
              "      <th>1299</th>\n",
              "      <td>0.237967</td>\n",
              "      <td>0.441176</td>\n",
              "    </tr>\n",
              "    <tr>\n",
              "      <th>1523</th>\n",
              "      <td>0.401066</td>\n",
              "      <td>0.220588</td>\n",
              "    </tr>\n",
              "    <tr>\n",
              "      <th>...</th>\n",
              "      <td>...</td>\n",
              "      <td>...</td>\n",
              "    </tr>\n",
              "    <tr>\n",
              "      <th>2780</th>\n",
              "      <td>0.264042</td>\n",
              "      <td>0.000000</td>\n",
              "    </tr>\n",
              "    <tr>\n",
              "      <th>560</th>\n",
              "      <td>0.348915</td>\n",
              "      <td>0.220588</td>\n",
              "    </tr>\n",
              "    <tr>\n",
              "      <th>3494</th>\n",
              "      <td>0.241911</td>\n",
              "      <td>0.455882</td>\n",
              "    </tr>\n",
              "    <tr>\n",
              "      <th>597</th>\n",
              "      <td>0.255788</td>\n",
              "      <td>0.264706</td>\n",
              "    </tr>\n",
              "    <tr>\n",
              "      <th>2857</th>\n",
              "      <td>0.268863</td>\n",
              "      <td>0.088235</td>\n",
              "    </tr>\n",
              "  </tbody>\n",
              "</table>\n",
              "<p>1217 rows × 2 columns</p>\n",
              "</div>"
            ],
            "text/plain": [
              "       balance       age\n",
              "360   0.266745  0.250000\n",
              "1510  0.345336  0.382353\n",
              "2943  0.292236  0.250000\n",
              "1299  0.237967  0.441176\n",
              "1523  0.401066  0.220588\n",
              "...        ...       ...\n",
              "2780  0.264042  0.000000\n",
              "560   0.348915  0.220588\n",
              "3494  0.241911  0.455882\n",
              "597   0.255788  0.264706\n",
              "2857  0.268863  0.088235\n",
              "\n",
              "[1217 rows x 2 columns]"
            ]
          },
          "metadata": {
            "tags": []
          },
          "execution_count": 161
        }
      ]
    },
    {
      "cell_type": "code",
      "metadata": {
        "id": "gWAy9IwQ2tRA",
        "colab_type": "code",
        "outputId": "65b16ab6-5f20-4679-d8ca-49e5f4389a3d",
        "colab": {
          "base_uri": "https://localhost:8080/",
          "height": 402
        }
      },
      "source": [
        "xtrain"
      ],
      "execution_count": 162,
      "outputs": [
        {
          "output_type": "execute_result",
          "data": {
            "text/html": [
              "<div>\n",
              "<style scoped>\n",
              "    .dataframe tbody tr th:only-of-type {\n",
              "        vertical-align: middle;\n",
              "    }\n",
              "\n",
              "    .dataframe tbody tr th {\n",
              "        vertical-align: top;\n",
              "    }\n",
              "\n",
              "    .dataframe thead th {\n",
              "        text-align: right;\n",
              "    }\n",
              "</style>\n",
              "<table border=\"1\" class=\"dataframe\">\n",
              "  <thead>\n",
              "    <tr style=\"text-align: right;\">\n",
              "      <th></th>\n",
              "      <th>balance</th>\n",
              "      <th>age</th>\n",
              "    </tr>\n",
              "  </thead>\n",
              "  <tbody>\n",
              "    <tr>\n",
              "      <th>3549</th>\n",
              "      <td>0.263312</td>\n",
              "      <td>0.411765</td>\n",
              "    </tr>\n",
              "    <tr>\n",
              "      <th>1953</th>\n",
              "      <td>0.313564</td>\n",
              "      <td>0.250000</td>\n",
              "    </tr>\n",
              "    <tr>\n",
              "      <th>2483</th>\n",
              "      <td>0.261778</td>\n",
              "      <td>0.308824</td>\n",
              "    </tr>\n",
              "    <tr>\n",
              "      <th>1170</th>\n",
              "      <td>0.441312</td>\n",
              "      <td>0.573529</td>\n",
              "    </tr>\n",
              "    <tr>\n",
              "      <th>3992</th>\n",
              "      <td>0.335987</td>\n",
              "      <td>0.323529</td>\n",
              "    </tr>\n",
              "    <tr>\n",
              "      <th>...</th>\n",
              "      <td>...</td>\n",
              "      <td>...</td>\n",
              "    </tr>\n",
              "    <tr>\n",
              "      <th>1673</th>\n",
              "      <td>0.335549</td>\n",
              "      <td>0.250000</td>\n",
              "    </tr>\n",
              "    <tr>\n",
              "      <th>1100</th>\n",
              "      <td>0.375721</td>\n",
              "      <td>0.588235</td>\n",
              "    </tr>\n",
              "    <tr>\n",
              "      <th>2187</th>\n",
              "      <td>0.241180</td>\n",
              "      <td>0.470588</td>\n",
              "    </tr>\n",
              "    <tr>\n",
              "      <th>2297</th>\n",
              "      <td>0.250603</td>\n",
              "      <td>0.235294</td>\n",
              "    </tr>\n",
              "    <tr>\n",
              "      <th>2115</th>\n",
              "      <td>0.252575</td>\n",
              "      <td>0.338235</td>\n",
              "    </tr>\n",
              "  </tbody>\n",
              "</table>\n",
              "<p>2837 rows × 2 columns</p>\n",
              "</div>"
            ],
            "text/plain": [
              "       balance       age\n",
              "3549  0.263312  0.411765\n",
              "1953  0.313564  0.250000\n",
              "2483  0.261778  0.308824\n",
              "1170  0.441312  0.573529\n",
              "3992  0.335987  0.323529\n",
              "...        ...       ...\n",
              "1673  0.335549  0.250000\n",
              "1100  0.375721  0.588235\n",
              "2187  0.241180  0.470588\n",
              "2297  0.250603  0.235294\n",
              "2115  0.252575  0.338235\n",
              "\n",
              "[2837 rows x 2 columns]"
            ]
          },
          "metadata": {
            "tags": []
          },
          "execution_count": 162
        }
      ]
    },
    {
      "cell_type": "code",
      "metadata": {
        "id": "7ffYI21R2vtM",
        "colab_type": "code",
        "outputId": "18fbe2e0-dfed-487c-84f2-326b8dba8b2c",
        "colab": {
          "base_uri": "https://localhost:8080/",
          "height": 218
        }
      },
      "source": [
        "ytrain"
      ],
      "execution_count": 163,
      "outputs": [
        {
          "output_type": "execute_result",
          "data": {
            "text/plain": [
              "3549    0\n",
              "1953    0\n",
              "2483    0\n",
              "1170    0\n",
              "3992    0\n",
              "       ..\n",
              "1673    0\n",
              "1100    0\n",
              "2187    0\n",
              "2297    0\n",
              "2115    0\n",
              "Name: response_binary, Length: 2837, dtype: int64"
            ]
          },
          "metadata": {
            "tags": []
          },
          "execution_count": 163
        }
      ]
    },
    {
      "cell_type": "code",
      "metadata": {
        "id": "ke0vWoKabTwe",
        "colab_type": "code",
        "colab": {
          "base_uri": "https://localhost:8080/",
          "height": 67
        },
        "outputId": "215db885-1bfc-4cc5-fa80-0d47a735435d"
      },
      "source": [
        "ytraincount=pd.value_counts(ytrain)\n",
        "ytraincount"
      ],
      "execution_count": 164,
      "outputs": [
        {
          "output_type": "execute_result",
          "data": {
            "text/plain": [
              "0    2518\n",
              "1     319\n",
              "Name: response_binary, dtype: int64"
            ]
          },
          "metadata": {
            "tags": []
          },
          "execution_count": 164
        }
      ]
    },
    {
      "cell_type": "markdown",
      "metadata": {
        "id": "AUsBoV800w4W",
        "colab_type": "text"
      },
      "source": [
        "Ytrain is biased towards 0"
      ]
    },
    {
      "cell_type": "markdown",
      "metadata": {
        "id": "dIcIG8LZjvOJ",
        "colab_type": "text"
      },
      "source": [
        ""
      ]
    },
    {
      "cell_type": "code",
      "metadata": {
        "id": "bV7EKqmlSbZv",
        "colab_type": "code",
        "colab": {
          "base_uri": "https://localhost:8080/",
          "height": 67
        },
        "outputId": "f5db22d0-9892-4e1e-a32d-e585977e757e"
      },
      "source": [
        "var = pd.value_counts(ytest)\n",
        "var"
      ],
      "execution_count": 165,
      "outputs": [
        {
          "output_type": "execute_result",
          "data": {
            "text/plain": [
              "0    1077\n",
              "1     140\n",
              "Name: response_binary, dtype: int64"
            ]
          },
          "metadata": {
            "tags": []
          },
          "execution_count": 165
        }
      ]
    },
    {
      "cell_type": "markdown",
      "metadata": {
        "id": "GI7-LJS405bS",
        "colab_type": "text"
      },
      "source": [
        "Ytest is biased towards 0"
      ]
    },
    {
      "cell_type": "markdown",
      "metadata": {
        "id": "rD3aFxmxtaa5",
        "colab_type": "text"
      },
      "source": [
        "function to make 0:1 count ratio equal in ytest data"
      ]
    },
    {
      "cell_type": "code",
      "metadata": {
        "id": "aGcyLOznSzdq",
        "colab_type": "code",
        "outputId": "4114c21c-efb5-4466-806a-e37303fc8065",
        "colab": {
          "base_uri": "https://localhost:8080/",
          "height": 67
        }
      },
      "source": [
        "a = var[0]\n",
        "b = var[1]\n",
        "print(\"a:\",a)\n",
        "print(\"b:\",b)\n",
        "if(a>b):\n",
        "  k=b\n",
        "else:\n",
        "  k=a\n",
        "\n",
        "print(\"k:\",k)"
      ],
      "execution_count": 168,
      "outputs": [
        {
          "output_type": "stream",
          "text": [
            "a: 1077\n",
            "b: 140\n",
            "k: 140\n"
          ],
          "name": "stdout"
        }
      ]
    },
    {
      "cell_type": "markdown",
      "metadata": {
        "id": "_rovvJmeu_sB",
        "colab_type": "text"
      },
      "source": [
        "Code to make ytest(0 and 1) equal"
      ]
    },
    {
      "cell_type": "code",
      "metadata": {
        "id": "GlCnAB8tTG0o",
        "colab_type": "code",
        "outputId": "9d061b27-7a68-4749-c4df-a547d4872770",
        "colab": {
          "base_uri": "https://localhost:8080/",
          "height": 70
        }
      },
      "source": [
        "index=0\n",
        "onecount=0\n",
        "zerocount=0\n",
        "ytestt=[]\n",
        "for i in range(len(ytest)):\n",
        "  if(ytest[i]==0 and zerocount<k):\n",
        "    ytestt.append(ytest[i])\n",
        "    zerocount+=1\n",
        "  elif(ytest[i]==1 and onecount<k):\n",
        "    ytestt.append(ytest[i])\n",
        "    onecount+=1\n",
        "  elif(onecount==k and zerocount==k):\n",
        "    break\n",
        "\n",
        "print(ytestt)\n",
        "print(len(ytestt))\n"
      ],
      "execution_count": 169,
      "outputs": [
        {
          "output_type": "stream",
          "text": [
            "[0, 0, 0, 0, 0, 1, 0, 0, 1, 1, 0, 0, 0, 0, 0, 0, 0, 0, 0, 0, 0, 1, 1, 0, 0, 0, 0, 0, 1, 0, 0, 0, 0, 0, 1, 0, 0, 0, 0, 0, 0, 0, 0, 0, 0, 0, 0, 1, 1, 0, 0, 0, 0, 0, 0, 0, 1, 0, 0, 1, 1, 0, 0, 0, 0, 0, 0, 0, 0, 0, 0, 0, 0, 0, 1, 0, 1, 0, 0, 0, 1, 0, 0, 0, 0, 0, 0, 0, 0, 0, 0, 0, 0, 0, 0, 0, 0, 0, 0, 0, 0, 0, 0, 1, 0, 0, 1, 0, 0, 0, 0, 1, 0, 0, 0, 0, 0, 0, 0, 0, 0, 0, 0, 0, 0, 0, 0, 0, 0, 1, 0, 0, 0, 0, 0, 0, 0, 0, 0, 0, 0, 0, 0, 1, 0, 0, 0, 1, 0, 0, 0, 0, 1, 0, 0, 1, 0, 0, 0, 1, 0, 0, 0, 0, 1, 1, 1, 1, 1, 1, 1, 1, 1, 1, 1, 1, 1, 1, 1, 1, 1, 1, 1, 1, 1, 1, 1, 1, 1, 1, 1, 1, 1, 1, 1, 1, 1, 1, 1, 1, 1, 1, 1, 1, 1, 1, 1, 1, 1, 1, 1, 1, 1, 1, 1, 1, 1, 1, 1, 1, 1, 1, 1, 1, 1, 1, 1, 1, 1, 1, 1, 1, 1, 1, 1, 1, 1, 1, 1, 1, 1, 1, 1, 1, 1, 1, 1, 1, 1, 1, 1, 1, 1, 1, 1, 1, 1, 1, 1, 1, 1, 1, 1, 1, 1, 1, 1, 1, 1, 1, 1, 1, 1, 1, 1, 1, 1, 1, 1, 1]\n",
            "280\n"
          ],
          "name": "stdout"
        }
      ]
    },
    {
      "cell_type": "code",
      "metadata": {
        "id": "SuYBKZVuUmz3",
        "colab_type": "code",
        "outputId": "0e164b08-bc7d-4bf0-c098-3d442c22d8c9",
        "colab": {
          "base_uri": "https://localhost:8080/",
          "height": 34
        }
      },
      "source": [
        "type(ytest)"
      ],
      "execution_count": 170,
      "outputs": [
        {
          "output_type": "execute_result",
          "data": {
            "text/plain": [
              "pandas.core.series.Series"
            ]
          },
          "metadata": {
            "tags": []
          },
          "execution_count": 170
        }
      ]
    },
    {
      "cell_type": "markdown",
      "metadata": {
        "id": "1a-IExBn2HZh",
        "colab_type": "text"
      },
      "source": [
        "new ytestt"
      ]
    },
    {
      "cell_type": "code",
      "metadata": {
        "id": "5zoRdtdrUr0f",
        "colab_type": "code",
        "outputId": "a3b353e2-0cfc-446a-bc6b-6070173dcb39",
        "colab": {
          "base_uri": "https://localhost:8080/",
          "height": 34
        }
      },
      "source": [
        "type(ytestt)"
      ],
      "execution_count": 171,
      "outputs": [
        {
          "output_type": "execute_result",
          "data": {
            "text/plain": [
              "list"
            ]
          },
          "metadata": {
            "tags": []
          },
          "execution_count": 171
        }
      ]
    },
    {
      "cell_type": "code",
      "metadata": {
        "id": "1niJ_6lMUu8b",
        "colab_type": "code",
        "outputId": "dfc8fea3-729a-422c-dfd9-a39fccf7b5be",
        "colab": {
          "base_uri": "https://localhost:8080/",
          "height": 34
        }
      },
      "source": [
        "ytestt=pd.Series(ytestt)\n",
        "type(ytestt)"
      ],
      "execution_count": 172,
      "outputs": [
        {
          "output_type": "execute_result",
          "data": {
            "text/plain": [
              "pandas.core.series.Series"
            ]
          },
          "metadata": {
            "tags": []
          },
          "execution_count": 172
        }
      ]
    },
    {
      "cell_type": "code",
      "metadata": {
        "id": "sce6is_DWN-B",
        "colab_type": "code",
        "outputId": "e49f031b-24dc-4a91-94e1-130e657f8cc3",
        "colab": {
          "base_uri": "https://localhost:8080/",
          "height": 218
        }
      },
      "source": [
        "ytestt"
      ],
      "execution_count": 173,
      "outputs": [
        {
          "output_type": "execute_result",
          "data": {
            "text/plain": [
              "0      0\n",
              "1      0\n",
              "2      0\n",
              "3      0\n",
              "4      0\n",
              "      ..\n",
              "275    1\n",
              "276    1\n",
              "277    1\n",
              "278    1\n",
              "279    1\n",
              "Length: 280, dtype: int64"
            ]
          },
          "metadata": {
            "tags": []
          },
          "execution_count": 173
        }
      ]
    },
    {
      "cell_type": "code",
      "metadata": {
        "id": "y8GA-0fhWU0w",
        "colab_type": "code",
        "outputId": "5622d77e-5e15-4a8b-a81c-a9d45c099a35",
        "colab": {
          "base_uri": "https://localhost:8080/",
          "height": 34
        }
      },
      "source": [
        "type(ytest)"
      ],
      "execution_count": 174,
      "outputs": [
        {
          "output_type": "execute_result",
          "data": {
            "text/plain": [
              "pandas.core.series.Series"
            ]
          },
          "metadata": {
            "tags": []
          },
          "execution_count": 174
        }
      ]
    },
    {
      "cell_type": "code",
      "metadata": {
        "id": "m9j_NboCcRDs",
        "colab_type": "code",
        "outputId": "66c05151-31a3-4359-ebd5-c1bba33a21da",
        "colab": {
          "base_uri": "https://localhost:8080/",
          "height": 34
        }
      },
      "source": [
        "type(xtest)"
      ],
      "execution_count": 175,
      "outputs": [
        {
          "output_type": "execute_result",
          "data": {
            "text/plain": [
              "pandas.core.frame.DataFrame"
            ]
          },
          "metadata": {
            "tags": []
          },
          "execution_count": 175
        }
      ]
    },
    {
      "cell_type": "markdown",
      "metadata": {
        "id": "KlmsgvAa1Axr",
        "colab_type": "text"
      },
      "source": [
        "Making xtest instances equal with the ytest"
      ]
    },
    {
      "cell_type": "code",
      "metadata": {
        "id": "zw_XTM4eX7BC",
        "colab_type": "code",
        "outputId": "00e0460f-8482-4228-a7c1-ba1d1575c9a5",
        "colab": {
          "base_uri": "https://localhost:8080/",
          "height": 402
        }
      },
      "source": [
        "xtestt=xtest.sample(2*k)\n",
        "xtestt"
      ],
      "execution_count": 176,
      "outputs": [
        {
          "output_type": "execute_result",
          "data": {
            "text/html": [
              "<div>\n",
              "<style scoped>\n",
              "    .dataframe tbody tr th:only-of-type {\n",
              "        vertical-align: middle;\n",
              "    }\n",
              "\n",
              "    .dataframe tbody tr th {\n",
              "        vertical-align: top;\n",
              "    }\n",
              "\n",
              "    .dataframe thead th {\n",
              "        text-align: right;\n",
              "    }\n",
              "</style>\n",
              "<table border=\"1\" class=\"dataframe\">\n",
              "  <thead>\n",
              "    <tr style=\"text-align: right;\">\n",
              "      <th></th>\n",
              "      <th>balance</th>\n",
              "      <th>age</th>\n",
              "    </tr>\n",
              "  </thead>\n",
              "  <tbody>\n",
              "    <tr>\n",
              "      <th>494</th>\n",
              "      <td>0.259806</td>\n",
              "      <td>0.367647</td>\n",
              "    </tr>\n",
              "    <tr>\n",
              "      <th>3849</th>\n",
              "      <td>0.268425</td>\n",
              "      <td>0.117647</td>\n",
              "    </tr>\n",
              "    <tr>\n",
              "      <th>2591</th>\n",
              "      <td>0.453217</td>\n",
              "      <td>0.220588</td>\n",
              "    </tr>\n",
              "    <tr>\n",
              "      <th>3395</th>\n",
              "      <td>0.345409</td>\n",
              "      <td>0.308824</td>\n",
              "    </tr>\n",
              "    <tr>\n",
              "      <th>1923</th>\n",
              "      <td>0.591483</td>\n",
              "      <td>0.691176</td>\n",
              "    </tr>\n",
              "    <tr>\n",
              "      <th>...</th>\n",
              "      <td>...</td>\n",
              "      <td>...</td>\n",
              "    </tr>\n",
              "    <tr>\n",
              "      <th>1264</th>\n",
              "      <td>0.281499</td>\n",
              "      <td>0.514706</td>\n",
              "    </tr>\n",
              "    <tr>\n",
              "      <th>3760</th>\n",
              "      <td>0.241984</td>\n",
              "      <td>0.397059</td>\n",
              "    </tr>\n",
              "    <tr>\n",
              "      <th>37</th>\n",
              "      <td>0.394566</td>\n",
              "      <td>0.191176</td>\n",
              "    </tr>\n",
              "    <tr>\n",
              "      <th>1739</th>\n",
              "      <td>0.306917</td>\n",
              "      <td>0.441176</td>\n",
              "    </tr>\n",
              "    <tr>\n",
              "      <th>553</th>\n",
              "      <td>0.383098</td>\n",
              "      <td>0.338235</td>\n",
              "    </tr>\n",
              "  </tbody>\n",
              "</table>\n",
              "<p>280 rows × 2 columns</p>\n",
              "</div>"
            ],
            "text/plain": [
              "       balance       age\n",
              "494   0.259806  0.367647\n",
              "3849  0.268425  0.117647\n",
              "2591  0.453217  0.220588\n",
              "3395  0.345409  0.308824\n",
              "1923  0.591483  0.691176\n",
              "...        ...       ...\n",
              "1264  0.281499  0.514706\n",
              "3760  0.241984  0.397059\n",
              "37    0.394566  0.191176\n",
              "1739  0.306917  0.441176\n",
              "553   0.383098  0.338235\n",
              "\n",
              "[280 rows x 2 columns]"
            ]
          },
          "metadata": {
            "tags": []
          },
          "execution_count": 176
        }
      ]
    },
    {
      "cell_type": "code",
      "metadata": {
        "id": "1N-1VminYB4E",
        "colab_type": "code",
        "outputId": "d122b06e-9d13-4f6e-890a-5fccf2b44659",
        "colab": {
          "base_uri": "https://localhost:8080/",
          "height": 218
        }
      },
      "source": [
        "ytestt"
      ],
      "execution_count": 177,
      "outputs": [
        {
          "output_type": "execute_result",
          "data": {
            "text/plain": [
              "0      0\n",
              "1      0\n",
              "2      0\n",
              "3      0\n",
              "4      0\n",
              "      ..\n",
              "275    1\n",
              "276    1\n",
              "277    1\n",
              "278    1\n",
              "279    1\n",
              "Length: 280, dtype: int64"
            ]
          },
          "metadata": {
            "tags": []
          },
          "execution_count": 177
        }
      ]
    },
    {
      "cell_type": "code",
      "metadata": {
        "id": "RUS90GI0FTD-",
        "colab_type": "code",
        "outputId": "72435225-547f-4024-d6a7-006ded152d80",
        "colab": {
          "base_uri": "https://localhost:8080/",
          "height": 67
        }
      },
      "source": [
        "pd.value_counts(ytrain)"
      ],
      "execution_count": 178,
      "outputs": [
        {
          "output_type": "execute_result",
          "data": {
            "text/plain": [
              "0    2518\n",
              "1     319\n",
              "Name: response_binary, dtype: int64"
            ]
          },
          "metadata": {
            "tags": []
          },
          "execution_count": 178
        }
      ]
    },
    {
      "cell_type": "markdown",
      "metadata": {
        "id": "B-VHfZW21Rmg",
        "colab_type": "text"
      },
      "source": [
        "YTrain is biased towards 0 so to make 0 and 1's equal ,below code is used "
      ]
    },
    {
      "cell_type": "code",
      "metadata": {
        "id": "xTnSHfgiKyCG",
        "colab_type": "code",
        "colab": {}
      },
      "source": [
        "var2 = pd.value_counts(ytrain)"
      ],
      "execution_count": 0,
      "outputs": []
    },
    {
      "cell_type": "code",
      "metadata": {
        "id": "Px37Zmf8K5TT",
        "colab_type": "code",
        "outputId": "44a56e74-d03e-4910-90e5-ae2253e4f2b2",
        "colab": {
          "base_uri": "https://localhost:8080/",
          "height": 50
        }
      },
      "source": [
        "l = var2[0]\n",
        "m = var2[1]\n",
        "print(l)\n",
        "print(m)"
      ],
      "execution_count": 181,
      "outputs": [
        {
          "output_type": "stream",
          "text": [
            "2518\n",
            "319\n"
          ],
          "name": "stdout"
        }
      ]
    },
    {
      "cell_type": "code",
      "metadata": {
        "id": "v_h-ZiM6Lh7_",
        "colab_type": "code",
        "outputId": "840d5555-9f74-4a9c-a64b-5b40f63fdfe1",
        "colab": {
          "base_uri": "https://localhost:8080/",
          "height": 34
        }
      },
      "source": [
        "if(l>m):\n",
        "  k1=m\n",
        "else:\n",
        "  k1=l\n",
        "\n",
        "print(k1)"
      ],
      "execution_count": 182,
      "outputs": [
        {
          "output_type": "stream",
          "text": [
            "319\n"
          ],
          "name": "stdout"
        }
      ]
    },
    {
      "cell_type": "code",
      "metadata": {
        "id": "hRjyuXhjLA4e",
        "colab_type": "code",
        "outputId": "d023e3a9-1621-4081-d6b2-a270e9ba2a55",
        "colab": {
          "base_uri": "https://localhost:8080/",
          "height": 70
        }
      },
      "source": [
        "index=0\n",
        "onecount=0\n",
        "zerocount=0\n",
        "ytrainn=[]\n",
        "for i in range(len(ytrain)):\n",
        "  if(ytrain[i]==0 and zerocount<k1):\n",
        "    ytrainn.append(ytrain[i])\n",
        "    zerocount+=1\n",
        "  elif(ytrain[i]==1 and onecount<k1):\n",
        "    ytrainn.append(ytrain[i])\n",
        "    onecount+=1\n",
        "  elif(onecount==k1 and zerocount==k1):\n",
        "    break\n",
        "\n",
        "print(ytrainn)\n",
        "print(len(ytrainn))"
      ],
      "execution_count": 183,
      "outputs": [
        {
          "output_type": "stream",
          "text": [
            "[0, 0, 0, 0, 0, 1, 0, 0, 0, 0, 0, 0, 0, 0, 0, 1, 0, 0, 0, 1, 0, 0, 0, 0, 0, 0, 0, 1, 1, 0, 0, 1, 0, 0, 0, 1, 0, 0, 0, 0, 0, 0, 0, 0, 0, 0, 0, 0, 1, 0, 0, 0, 0, 0, 0, 0, 0, 0, 0, 0, 1, 0, 0, 0, 0, 0, 1, 1, 0, 0, 0, 0, 0, 0, 1, 1, 0, 0, 0, 0, 0, 0, 0, 0, 0, 0, 0, 0, 0, 0, 0, 0, 0, 0, 0, 0, 0, 0, 0, 0, 0, 1, 0, 0, 0, 0, 0, 0, 0, 0, 0, 0, 0, 0, 0, 1, 0, 0, 0, 0, 0, 0, 0, 0, 0, 1, 0, 0, 1, 0, 0, 0, 0, 0, 0, 0, 0, 0, 1, 0, 0, 0, 0, 0, 0, 0, 0, 0, 0, 0, 0, 0, 0, 0, 1, 0, 0, 0, 0, 0, 0, 0, 1, 0, 0, 0, 1, 0, 0, 0, 0, 0, 0, 0, 0, 0, 0, 0, 0, 0, 0, 0, 0, 0, 0, 1, 0, 0, 0, 0, 0, 0, 0, 1, 0, 0, 0, 0, 0, 0, 0, 0, 0, 0, 0, 1, 0, 0, 1, 0, 0, 0, 0, 1, 1, 0, 0, 0, 0, 0, 0, 0, 0, 0, 0, 0, 0, 0, 0, 0, 0, 1, 0, 0, 0, 0, 0, 0, 0, 0, 1, 0, 0, 0, 1, 0, 0, 0, 0, 0, 0, 0, 0, 0, 0, 0, 0, 0, 0, 0, 0, 0, 0, 0, 0, 0, 0, 0, 0, 0, 0, 0, 0, 0, 0, 0, 0, 0, 1, 0, 0, 0, 0, 0, 0, 0, 0, 0, 0, 0, 0, 0, 1, 0, 0, 0, 0, 0, 0, 0, 0, 1, 0, 0, 0, 0, 0, 0, 0, 0, 0, 0, 0, 1, 0, 0, 0, 0, 0, 0, 0, 0, 0, 0, 0, 0, 0, 0, 0, 0, 0, 0, 0, 0, 0, 0, 0, 0, 0, 0, 0, 0, 0, 0, 0, 0, 0, 0, 0, 0, 0, 0, 0, 1, 1, 1, 1, 1, 1, 1, 1, 1, 1, 1, 1, 1, 1, 1, 1, 1, 1, 1, 1, 1, 1, 1, 1, 1, 1, 1, 1, 1, 1, 1, 1, 1, 1, 1, 1, 1, 1, 1, 1, 1, 1, 1, 1, 1, 1, 1, 1, 1, 1, 1, 1, 1, 1, 1, 1, 1, 1, 1, 1, 1, 1, 1, 1, 1, 1, 1, 1, 1, 1, 1, 1, 1, 1, 1, 1, 1, 1, 1, 1, 1, 1, 1, 1, 1, 1, 1, 1, 1, 1, 1, 1, 1, 1, 1, 1, 1, 1, 1, 1, 1, 1, 1, 1, 1, 1, 1, 1, 1, 1, 1, 1, 1, 1, 1, 1, 1, 1, 1, 1, 1, 1, 1, 1, 1, 1, 1, 1, 1, 1, 1, 1, 1, 1, 1, 1, 1, 1, 1, 1, 1, 1, 1, 1, 1, 1, 1, 1, 1, 1, 1, 1, 1, 1, 1, 1, 1, 1, 1, 1, 1, 1, 1, 1, 1, 1, 1, 1, 1, 1, 1, 1, 1, 1, 1, 1, 1, 1, 1, 1, 1, 1, 1, 1, 1, 1, 1, 1, 1, 1, 1, 1, 1, 1, 1, 1, 1, 1, 1, 1, 1, 1, 1, 1, 1, 1, 1, 1, 1, 1, 1, 1, 1, 1, 1, 1, 1, 1, 1, 1, 1, 1, 1, 1, 1, 1, 1, 1, 1, 1, 1, 1, 1, 1, 1, 1, 1, 1, 1, 1, 1, 1, 1, 1, 1, 1, 1, 1, 1, 1, 1, 1, 1, 1, 1, 1, 1, 1, 1, 1, 1, 1, 1, 1, 1, 1, 1, 1, 1, 1, 1, 1, 1, 1, 1, 1, 1, 1, 1, 1, 1, 1, 1, 1, 1]\n",
            "638\n"
          ],
          "name": "stdout"
        }
      ]
    },
    {
      "cell_type": "code",
      "metadata": {
        "id": "M-wFM-AYNU_J",
        "colab_type": "code",
        "outputId": "c37c0709-069b-4248-cc3e-7523fcf02d9d",
        "colab": {
          "base_uri": "https://localhost:8080/",
          "height": 34
        }
      },
      "source": [
        "type(ytrain)"
      ],
      "execution_count": 184,
      "outputs": [
        {
          "output_type": "execute_result",
          "data": {
            "text/plain": [
              "pandas.core.series.Series"
            ]
          },
          "metadata": {
            "tags": []
          },
          "execution_count": 184
        }
      ]
    },
    {
      "cell_type": "markdown",
      "metadata": {
        "id": "iY8NfNZt14Y2",
        "colab_type": "text"
      },
      "source": [
        "new ytrainn"
      ]
    },
    {
      "cell_type": "code",
      "metadata": {
        "id": "9fKInbKINYXZ",
        "colab_type": "code",
        "outputId": "3245b565-2bd1-4a51-9234-6b3bfab7e979",
        "colab": {
          "base_uri": "https://localhost:8080/",
          "height": 34
        }
      },
      "source": [
        "type(ytrainn)"
      ],
      "execution_count": 185,
      "outputs": [
        {
          "output_type": "execute_result",
          "data": {
            "text/plain": [
              "list"
            ]
          },
          "metadata": {
            "tags": []
          },
          "execution_count": 185
        }
      ]
    },
    {
      "cell_type": "markdown",
      "metadata": {
        "id": "5LPmJk3317ch",
        "colab_type": "text"
      },
      "source": [
        "Coverting list to pandas.core.series.Series"
      ]
    },
    {
      "cell_type": "code",
      "metadata": {
        "id": "1paKH7JBNfJe",
        "colab_type": "code",
        "outputId": "84cb9505-ef6e-4497-af20-d12417333d37",
        "colab": {
          "base_uri": "https://localhost:8080/",
          "height": 34
        }
      },
      "source": [
        "ytrainn=pd.Series(ytrainn)\n",
        "type(ytrainn)"
      ],
      "execution_count": 186,
      "outputs": [
        {
          "output_type": "execute_result",
          "data": {
            "text/plain": [
              "pandas.core.series.Series"
            ]
          },
          "metadata": {
            "tags": []
          },
          "execution_count": 186
        }
      ]
    },
    {
      "cell_type": "code",
      "metadata": {
        "id": "m3eA4wAdNsDS",
        "colab_type": "code",
        "outputId": "990d455d-fc82-4ae5-92bd-bdc1a525f623",
        "colab": {
          "base_uri": "https://localhost:8080/",
          "height": 218
        }
      },
      "source": [
        "ytrainn"
      ],
      "execution_count": 187,
      "outputs": [
        {
          "output_type": "execute_result",
          "data": {
            "text/plain": [
              "0      0\n",
              "1      0\n",
              "2      0\n",
              "3      0\n",
              "4      0\n",
              "      ..\n",
              "633    1\n",
              "634    1\n",
              "635    1\n",
              "636    1\n",
              "637    1\n",
              "Length: 638, dtype: int64"
            ]
          },
          "metadata": {
            "tags": []
          },
          "execution_count": 187
        }
      ]
    },
    {
      "cell_type": "code",
      "metadata": {
        "id": "8YJo1sUIOiZo",
        "colab_type": "code",
        "outputId": "be71f746-d288-430f-a11c-04848fb5c84d",
        "colab": {
          "base_uri": "https://localhost:8080/",
          "height": 67
        }
      },
      "source": [
        "pd.value_counts(ytrainn)"
      ],
      "execution_count": 188,
      "outputs": [
        {
          "output_type": "execute_result",
          "data": {
            "text/plain": [
              "1    319\n",
              "0    319\n",
              "dtype: int64"
            ]
          },
          "metadata": {
            "tags": []
          },
          "execution_count": 188
        }
      ]
    },
    {
      "cell_type": "markdown",
      "metadata": {
        "id": "GhaV0uHD2QzF",
        "colab_type": "text"
      },
      "source": [
        "Making xtrain instance count  equal with the ytrain count"
      ]
    },
    {
      "cell_type": "code",
      "metadata": {
        "id": "OQHgJVD6N1Kr",
        "colab_type": "code",
        "outputId": "0bc6d633-dcc3-4cea-b893-1ef70652b842",
        "colab": {
          "base_uri": "https://localhost:8080/",
          "height": 402
        }
      },
      "source": [
        "xtrainn=xtrain.head(2*k1)\n",
        "xtrainn"
      ],
      "execution_count": 189,
      "outputs": [
        {
          "output_type": "execute_result",
          "data": {
            "text/html": [
              "<div>\n",
              "<style scoped>\n",
              "    .dataframe tbody tr th:only-of-type {\n",
              "        vertical-align: middle;\n",
              "    }\n",
              "\n",
              "    .dataframe tbody tr th {\n",
              "        vertical-align: top;\n",
              "    }\n",
              "\n",
              "    .dataframe thead th {\n",
              "        text-align: right;\n",
              "    }\n",
              "</style>\n",
              "<table border=\"1\" class=\"dataframe\">\n",
              "  <thead>\n",
              "    <tr style=\"text-align: right;\">\n",
              "      <th></th>\n",
              "      <th>balance</th>\n",
              "      <th>age</th>\n",
              "    </tr>\n",
              "  </thead>\n",
              "  <tbody>\n",
              "    <tr>\n",
              "      <th>3549</th>\n",
              "      <td>0.263312</td>\n",
              "      <td>0.411765</td>\n",
              "    </tr>\n",
              "    <tr>\n",
              "      <th>1953</th>\n",
              "      <td>0.313564</td>\n",
              "      <td>0.250000</td>\n",
              "    </tr>\n",
              "    <tr>\n",
              "      <th>2483</th>\n",
              "      <td>0.261778</td>\n",
              "      <td>0.308824</td>\n",
              "    </tr>\n",
              "    <tr>\n",
              "      <th>1170</th>\n",
              "      <td>0.441312</td>\n",
              "      <td>0.573529</td>\n",
              "    </tr>\n",
              "    <tr>\n",
              "      <th>3992</th>\n",
              "      <td>0.335987</td>\n",
              "      <td>0.323529</td>\n",
              "    </tr>\n",
              "    <tr>\n",
              "      <th>...</th>\n",
              "      <td>...</td>\n",
              "      <td>...</td>\n",
              "    </tr>\n",
              "    <tr>\n",
              "      <th>1641</th>\n",
              "      <td>0.243664</td>\n",
              "      <td>0.117647</td>\n",
              "    </tr>\n",
              "    <tr>\n",
              "      <th>1552</th>\n",
              "      <td>0.387919</td>\n",
              "      <td>0.205882</td>\n",
              "    </tr>\n",
              "    <tr>\n",
              "      <th>579</th>\n",
              "      <td>0.292820</td>\n",
              "      <td>0.205882</td>\n",
              "    </tr>\n",
              "    <tr>\n",
              "      <th>4402</th>\n",
              "      <td>0.244832</td>\n",
              "      <td>0.323529</td>\n",
              "    </tr>\n",
              "    <tr>\n",
              "      <th>2674</th>\n",
              "      <td>0.265722</td>\n",
              "      <td>0.176471</td>\n",
              "    </tr>\n",
              "  </tbody>\n",
              "</table>\n",
              "<p>638 rows × 2 columns</p>\n",
              "</div>"
            ],
            "text/plain": [
              "       balance       age\n",
              "3549  0.263312  0.411765\n",
              "1953  0.313564  0.250000\n",
              "2483  0.261778  0.308824\n",
              "1170  0.441312  0.573529\n",
              "3992  0.335987  0.323529\n",
              "...        ...       ...\n",
              "1641  0.243664  0.117647\n",
              "1552  0.387919  0.205882\n",
              "579   0.292820  0.205882\n",
              "4402  0.244832  0.323529\n",
              "2674  0.265722  0.176471\n",
              "\n",
              "[638 rows x 2 columns]"
            ]
          },
          "metadata": {
            "tags": []
          },
          "execution_count": 189
        }
      ]
    },
    {
      "cell_type": "code",
      "metadata": {
        "id": "cW5hVYc-K7Rr",
        "colab_type": "code",
        "colab": {}
      },
      "source": [
        "x1='balance'\n",
        "x2='age'\n",
        "basex = np.array(xtrainn[[x1, x2]])\n",
        "\n",
        "basey = np.array(ytrainn)\n",
        "\n",
        "xtest = np.array(xtestt[[x1, x2]])\n",
        "ytest = np.array(ytestt)\n"
      ],
      "execution_count": 0,
      "outputs": []
    },
    {
      "cell_type": "markdown",
      "metadata": {
        "id": "Pf5vndTGIKRG",
        "colab_type": "text"
      },
      "source": [
        "#KNN Algorithm\n"
      ]
    },
    {
      "cell_type": "markdown",
      "metadata": {
        "id": "ufCnQguzT1MK",
        "colab_type": "text"
      },
      "source": [
        "\n",
        "Calculate Distance between any two given points\n",
        "the Euclidean distance or Euclidean metric is the \"ordinary\" straight-line distance between two points in Euclidean space."
      ]
    },
    {
      "cell_type": "code",
      "metadata": {
        "id": "joIlUN43MwPI",
        "colab_type": "code",
        "colab": {}
      },
      "source": [
        "def euclid_distance(train_point, given_point):\n",
        "    distance = np.sum((train_point-given_point)**2)\n",
        "    return np.sqrt(distance)"
      ],
      "execution_count": 0,
      "outputs": []
    },
    {
      "cell_type": "markdown",
      "metadata": {
        "id": "8CxiYM14UAXO",
        "colab_type": "text"
      },
      "source": [
        "\n",
        " This function calculates distance with respect to all the points.\n",
        " This is the drawback of KNN as calculating distance w.r.t all points is not feasable in huge data.\n",
        " Hence KNN is usually used for small datasets"
      ]
    },
    {
      "cell_type": "code",
      "metadata": {
        "id": "MClJjCkbMzgW",
        "colab_type": "code",
        "colab": {}
      },
      "source": [
        "def calc_distance_from_all(all_points, given_point, predictions):\n",
        "    all_distances = []\n",
        "    for i, each in enumerate(all_points):\n",
        "        distance = euclid_distance(each, given_point)\n",
        "        all_distances.append((distance,int(predictions[i])))\n",
        "    all_distances.sort(key=lambda mytup: mytup[0])\n",
        "    return all_distances"
      ],
      "execution_count": 0,
      "outputs": []
    },
    {
      "cell_type": "markdown",
      "metadata": {
        "id": "3LTxPwJYUTaa",
        "colab_type": "text"
      },
      "source": [
        "\n",
        "Depending on the distances it takes the neighbours"
      ]
    },
    {
      "cell_type": "code",
      "metadata": {
        "id": "BkLP116cM2Zo",
        "colab_type": "code",
        "colab": {}
      },
      "source": [
        "def get_neighbours(distances, count):\n",
        "    return distances[:count]"
      ],
      "execution_count": 0,
      "outputs": []
    },
    {
      "cell_type": "markdown",
      "metadata": {
        "id": "jOHVWBbFUc9-",
        "colab_type": "text"
      },
      "source": [
        "Takes a given point and predicts the class based on all other points"
      ]
    },
    {
      "cell_type": "code",
      "metadata": {
        "id": "viKwJb2cM8Ie",
        "colab_type": "code",
        "colab": {}
      },
      "source": [
        "def predict(all_points, given_point, predictions):\n",
        "    distances = calc_distance_from_all(all_points,given_point,predictions)\n",
        "    neighbours = get_neighbours(distances, 3)\n",
        "    op = [row[-1] for row in neighbours]\n",
        "    prediction = max(op, key=op.count)\n",
        "    return prediction\n",
        "\n",
        "\n",
        "\n",
        "# Get how accurate our system is based on a new set of test points\n",
        "# for which we already know the right answer to\n",
        "def accuracy(basex, basey, testx, testy):\n",
        "    correct = 0 \n",
        "    \n",
        "    for i in range(len(testx)):\n",
        "        p = predict(basex, testx[i], basey)\n",
        "        if p == testy[i]:\n",
        "            correct += 1\n",
        "            \n",
        "    return f\"Accuracy: {correct*100/len(testy)}%\""
      ],
      "execution_count": 0,
      "outputs": []
    },
    {
      "cell_type": "code",
      "metadata": {
        "id": "HVTTACszM-9d",
        "colab_type": "code",
        "outputId": "fd9af10d-d395-4037-d901-1e0f3fd59299",
        "colab": {
          "base_uri": "https://localhost:8080/",
          "height": 286
        }
      },
      "source": [
        "plt.scatter(basex[:,0].reshape(-1,1), basex[:,1].reshape(-1,1), c=basey, s=15)\n",
        "plt.scatter(0.25, 0.2, c='red', marker='x', s=100)"
      ],
      "execution_count": 195,
      "outputs": [
        {
          "output_type": "execute_result",
          "data": {
            "text/plain": [
              "<matplotlib.collections.PathCollection at 0x7f2902fb2e10>"
            ]
          },
          "metadata": {
            "tags": []
          },
          "execution_count": 195
        },
        {
          "output_type": "display_data",
          "data": {
            "image/png": "[encoded data removed]",
            "text/plain": [
              "<Figure size 432x288 with 1 Axes>"
            ]
          },
          "metadata": {
            "tags": []
          }
        }
      ]
    },
    {
      "cell_type": "code",
      "metadata": {
        "id": "IiCoiBm2Y-gE",
        "colab_type": "code",
        "outputId": "434e9b59-d75a-4ee9-9e8f-2e143659b854",
        "colab": {
          "base_uri": "https://localhost:8080/",
          "height": 282
        }
      },
      "source": [
        "plt.scatter(xtest[:,0].reshape(-1,1), xtest[:,1].reshape(-1,1), c=ytest, s=15)\n",
        "plt.scatter(0.25, 0.2, c='red', marker='x', s=100)"
      ],
      "execution_count": 196,
      "outputs": [
        {
          "output_type": "execute_result",
          "data": {
            "text/plain": [
              "<matplotlib.collections.PathCollection at 0x7f290488e9e8>"
            ]
          },
          "metadata": {
            "tags": []
          },
          "execution_count": 196
        },
        {
          "output_type": "display_data",
          "data": {
            "image/png": "[encoded data removed]",
            "text/plain": [
              "<Figure size 432x288 with 1 Axes>"
            ]
          },
          "metadata": {
            "tags": []
          }
        }
      ]
    },
    {
      "cell_type": "code",
      "metadata": {
        "id": "9eIgWyjH2sHf",
        "colab_type": "code",
        "colab": {
          "base_uri": "https://localhost:8080/",
          "height": 34
        },
        "outputId": "3453e882-2bff-4a80-c25c-6315dcf6a768"
      },
      "source": [
        "ytestt.values[5]"
      ],
      "execution_count": 206,
      "outputs": [
        {
          "output_type": "execute_result",
          "data": {
            "text/plain": [
              "1"
            ]
          },
          "metadata": {
            "tags": []
          },
          "execution_count": 206
        }
      ]
    },
    {
      "cell_type": "code",
      "metadata": {
        "id": "Q-ywgKD-21Qj",
        "colab_type": "code",
        "colab": {
          "base_uri": "https://localhost:8080/",
          "height": 34
        },
        "outputId": "790f5ec3-d729-4847-f03a-c962d9544b80"
      },
      "source": [
        "predict(xtrainn.values, xtestt.values[5], ytrainn.values)"
      ],
      "execution_count": 207,
      "outputs": [
        {
          "output_type": "execute_result",
          "data": {
            "text/plain": [
              "0"
            ]
          },
          "metadata": {
            "tags": []
          },
          "execution_count": 207
        }
      ]
    },
    {
      "cell_type": "markdown",
      "metadata": {
        "id": "jne9jHvi5aCV",
        "colab_type": "text"
      },
      "source": [
        "Due to equal ratio of 0:1 in ytest and ytrain the accuracy is drop down to 47% or else the accuracy is 89%"
      ]
    },
    {
      "cell_type": "code",
      "metadata": {
        "id": "JA9NlPgQuZog",
        "colab_type": "code",
        "outputId": "66d1be63-4a05-4f78-8aa2-a458b07e9c00",
        "colab": {
          "base_uri": "https://localhost:8080/",
          "height": 34
        }
      },
      "source": [
        "accuracy(basex,basey,xtest,ytest)"
      ],
      "execution_count": 201,
      "outputs": [
        {
          "output_type": "execute_result",
          "data": {
            "text/plain": [
              "'Accuracy: 47.5%'"
            ]
          },
          "metadata": {
            "tags": []
          },
          "execution_count": 201
        }
      ]
    },
    {
      "cell_type": "markdown",
      "metadata": {
        "id": "YhEwY46N6Aa4",
        "colab_type": "text"
      },
      "source": [
        "Logistic Regression is giving the accuracy of 88%"
      ]
    }
  ]
}